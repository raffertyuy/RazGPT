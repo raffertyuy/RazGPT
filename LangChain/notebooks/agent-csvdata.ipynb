{
 "cells": [
  {
   "cell_type": "markdown",
   "metadata": {},
   "source": [
    "> **This notebook uses a langchain `create_csv_agent` to solve a math problem.**\n",
    "> - **Thought:** Data is better recognized with a data loader.\n",
    "> - **Observation:** Results are great, a big improvement from `agent-math.ipynb`"
   ]
  },
  {
   "cell_type": "markdown",
   "metadata": {},
   "source": [
    "## Environment Setup"
   ]
  },
  {
   "cell_type": "code",
   "execution_count": 5,
   "metadata": {},
   "outputs": [],
   "source": [
    "import os\n",
    "from dotenv import load_dotenv\n",
    "\n",
    "# Set environment variables in the .env file.\n",
    "load_dotenv()\n",
    "\n",
    "COMPLETION_MODEL = os.environ[\"OPENAI_COMPLETION_MODEL\"]\n",
    "COMPLETION_DEPLOYMENT = os.environ[\"OPENAI_COMPLETION_DEPLOYMENT\"]\n",
    "CHAT_MODEL = os.environ[\"OPENAI_CHAT_MODEL\"]\n",
    "CHAT_DEPLOYMENT = os.environ[\"OPENAI_CHAT_DEPLOYMENT\"]\n",
    "OPENAI_API_VERSION = os.environ[\"OPENAI_API_VERSION\"]"
   ]
  },
  {
   "cell_type": "code",
   "execution_count": 6,
   "metadata": {},
   "outputs": [],
   "source": [
    "from langchain.llms import AzureOpenAI\n",
    "from langchain.chat_models import AzureChatOpenAI\n",
    "\n",
    "llm = AzureOpenAI(\n",
    "    model_name=COMPLETION_MODEL,\n",
    "    deployment_name=COMPLETION_DEPLOYMENT,\n",
    "    #temperature=0.3,\n",
    "    verbose=True\n",
    ")\n",
    "\n",
    "chat = AzureChatOpenAI(\n",
    "    deployment_name=CHAT_DEPLOYMENT,\n",
    "    openai_api_version=OPENAI_API_VERSION,\n",
    "    #temperature=0.3,\n",
    "    verbose=True\n",
    ")"
   ]
  },
  {
   "cell_type": "markdown",
   "metadata": {},
   "source": [
    "## Code"
   ]
  },
  {
   "cell_type": "code",
   "execution_count": 7,
   "metadata": {},
   "outputs": [
    {
     "name": "stdout",
     "output_type": "stream",
     "text": [
      "['Name', 'Gender', 'Age']\n",
      "['John', 'M', '13']\n",
      "['Steve', 'M', '25']\n",
      "['Sarah', 'F', '18']\n",
      "['Jess', 'F', '45']\n",
      "['Will', 'M', '50']\n"
     ]
    }
   ],
   "source": [
    "import csv\n",
    "with open('data/people.csv', newline='', encoding='utf-8') as f:\n",
    "    reader = csv.reader(f)\n",
    "    for row in reader:\n",
    "        print(row)"
   ]
  },
  {
   "cell_type": "code",
   "execution_count": 8,
   "metadata": {},
   "outputs": [],
   "source": [
    "from langchain.agents import create_csv_agent\n",
    "from langchain.agents.agent_types import AgentType\n",
    "\n",
    "agent = create_csv_agent(\n",
    "    llm,\n",
    "    'data/people.csv',\n",
    "    verbose=True,\n",
    "    agent_type=AgentType.ZERO_SHOT_REACT_DESCRIPTION,\n",
    ")"
   ]
  },
  {
   "cell_type": "code",
   "execution_count": 19,
   "metadata": {},
   "outputs": [
    {
     "name": "stdout",
     "output_type": "stream",
     "text": [
      "\n",
      "\n",
      "\u001b[1m> Entering new AgentExecutor chain...\u001b[0m\n",
      "\u001b[32;1m\u001b[1;3m\n",
      "Thought: I need to group the people in the dataframe by their age.\n",
      "Action: python_repl_ast\n",
      "Action Input: df.groupby('Age')\u001b[0m\n",
      "Observation: \u001b[36;1m\u001b[1;3m<pandas.core.groupby.generic.DataFrameGroupBy object at 0x000001DFABC31050>\u001b[0m\n",
      "Thought:\u001b[32;1m\u001b[1;3m I need to count the number of people in each age group. \n",
      "Action: python_repl_ast\n",
      "Action Input: df.groupby('Age').count()['Name']\u001b[0m\n",
      "Observation: \u001b[36;1m\u001b[1;3mAge\n",
      "13    1\n",
      "18    1\n",
      "25    1\n",
      "45    1\n",
      "50    1\n",
      "Name: Name, dtype: int64\u001b[0m\n",
      "Thought:\u001b[32;1m\u001b[1;3m I now know the final answer.\n",
      "Final Answer: \n",
      "0-12 years: 1 (John)\n",
      "12-18 years: 1 (Sarah)\n",
      "18-30 years: 1 (Steve)\n",
      "30-60 years: 2 (Jess, Will)\n",
      "Older than 60 years: 0\u001b[0m\n",
      "\n",
      "\u001b[1m> Finished chain.\u001b[0m\n"
     ]
    },
    {
     "data": {
      "text/plain": [
       "'0-12 years: 1 (John)\\n12-18 years: 1 (Sarah)\\n18-30 years: 1 (Steve)\\n30-60 years: 2 (Jess, Will)\\nOlder than 60 years: 0'"
      ]
     },
     "execution_count": 19,
     "metadata": {},
     "output_type": "execute_result"
    }
   ],
   "source": [
    "agent.run(\"\"\"Give me a summary of people by their groups.\n",
    "Age groups are 0-12 years, 12-18 years, 18-30 years, 30-60 years, and older than 60 years.\n",
    "Example output:\n",
    "0-12 years: 0\n",
    "12-18 years: 2 (John, Jane)\n",
    "18-30 years: 1 (Bob)\n",
    "30-60 years: 1 (Mary)\n",
    "Older than 60 years: 0\"\"\")"
   ]
  },
  {
   "cell_type": "code",
   "execution_count": null,
   "metadata": {},
   "outputs": [],
   "source": []
  }
 ],
 "metadata": {
  "kernelspec": {
   "display_name": "Python 3",
   "language": "python",
   "name": "python3"
  },
  "language_info": {
   "codemirror_mode": {
    "name": "ipython",
    "version": 3
   },
   "file_extension": ".py",
   "mimetype": "text/x-python",
   "name": "python",
   "nbconvert_exporter": "python",
   "pygments_lexer": "ipython3",
   "version": "3.11.4"
  },
  "orig_nbformat": 4
 },
 "nbformat": 4,
 "nbformat_minor": 2
}
