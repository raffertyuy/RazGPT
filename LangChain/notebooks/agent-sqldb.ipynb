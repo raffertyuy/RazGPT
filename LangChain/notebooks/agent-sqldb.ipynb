{
 "cells": [
  {
   "cell_type": "markdown",
   "metadata": {},
   "source": [
    "> **This notebook uses a langchain `create_sql_agent` to query a SQL database.**\n",
    "> - **Thought:** Use this agent for various purposes: querying data, generating reports, authoring documents, and maybe updating data\n",
    "> - **Observations:**\n",
    ">   - LangChain `SQLDatabase` can only work with the default schema, until [this issue](https://github.com/langchain-ai/langchain/issues/3036) is resolved.\n",
    ">   - The agent queries the available tables and its schema first.\n",
    ">   - It will generate sql scripts to try, and keep retrying if the sql script fails -- until it reaches the model token limit.\n",
    ">   - From trials, it requires a lot of trials to get a query to work. And it can fail due to complex joins. \n",
    "> - Sample Data: [Northwind Traders](https://www.dofactory.com/sql/sample-database), bacause AdventureWorks uses a `SalesLT` schema"
   ]
  },
  {
   "cell_type": "markdown",
   "metadata": {},
   "source": [
    "## Environment Setup"
   ]
  },
  {
   "cell_type": "code",
   "execution_count": 1,
   "metadata": {},
   "outputs": [],
   "source": [
    "import os\n",
    "from dotenv import load_dotenv\n",
    "\n",
    "# Set environment variables in the .env file.\n",
    "load_dotenv()\n",
    "\n",
    "COMPLETION_MODEL = os.environ[\"OPENAI_COMPLETION_MODEL\"]\n",
    "COMPLETION_DEPLOYMENT = os.environ[\"OPENAI_COMPLETION_DEPLOYMENT\"]\n",
    "CHAT_MODEL = os.environ[\"OPENAI_CHAT_MODEL\"]\n",
    "CHAT_DEPLOYMENT = os.environ[\"OPENAI_CHAT_DEPLOYMENT\"]\n",
    "OPENAI_API_VERSION = os.environ[\"OPENAI_API_VERSION\"]\n",
    "\n",
    "SQL_DB_USER = os.environ[\"SQL_DB_USER\"]\n",
    "SQL_DB_PASSWORD = os.environ[\"SQL_DB_PASSWORD\"]\n",
    "SQL_DB_SERVER_NAME = os.environ[\"SQL_DB_SERVER_NAME\"]\n",
    "SQL_DB_NAME = os.environ[\"SQL_DB_NAME\"]\n",
    "SQL_CONNECTIONSTRING_FORMAT = os.environ[\"SQL_CONNECTIONSTRING_FORMAT\"]"
   ]
  },
  {
   "cell_type": "code",
   "execution_count": 2,
   "metadata": {},
   "outputs": [],
   "source": [
    "from langchain.llms import AzureOpenAI\n",
    "from langchain.chat_models import AzureChatOpenAI\n",
    "\n",
    "llm = AzureOpenAI(\n",
    "    model_name=COMPLETION_MODEL,\n",
    "    deployment_name=COMPLETION_DEPLOYMENT,\n",
    "    #temperature=0.3,\n",
    "    verbose=True\n",
    ")\n",
    "\n",
    "chat = AzureChatOpenAI(\n",
    "    deployment_name=CHAT_DEPLOYMENT,\n",
    "    openai_api_version=OPENAI_API_VERSION,\n",
    "    #temperature=0.3,\n",
    "    verbose=True\n",
    ")"
   ]
  },
  {
   "cell_type": "markdown",
   "metadata": {},
   "source": [
    "## Code"
   ]
  },
  {
   "cell_type": "code",
   "execution_count": 8,
   "metadata": {},
   "outputs": [],
   "source": [
    "from langchain.agents.agent_toolkits import SQLDatabaseToolkit\n",
    "from langchain.sql_database import SQLDatabase\n",
    "\n",
    "connection_string = SQL_CONNECTIONSTRING_FORMAT.format(\n",
    "    database_user=SQL_DB_USER,\n",
    "    database_password=SQL_DB_PASSWORD,\n",
    "    database_server=SQL_DB_SERVER_NAME,\n",
    "    database_db=SQL_DB_NAME)\n",
    "\n",
    "db = SQLDatabase.from_uri(connection_string)\n"
   ]
  },
  {
   "cell_type": "markdown",
   "metadata": {},
   "source": [
    "### Attempt 1: Pure SQLDatabaseToolkit"
   ]
  },
  {
   "cell_type": "code",
   "execution_count": 9,
   "metadata": {},
   "outputs": [],
   "source": [
    "from langchain.agents import create_sql_agent\n",
    "\n",
    "toolkit = SQLDatabaseToolkit(db=db, llm=llm)\n",
    "sqlagent = create_sql_agent(\n",
    "    llm=chat,\n",
    "    toolkit=toolkit,\n",
    "    verbose=True\n",
    ")"
   ]
  },
  {
   "cell_type": "code",
   "execution_count": 16,
   "metadata": {},
   "outputs": [],
   "source": [
    "# Tried adding the following into the prompt.\n",
    "# However, the SQL Agent will still run sql_db_list_tables and generate based on this information\n",
    "\n",
    "# metaprompt = \"\"\"You are an AI assistant that helps me answer questions about data in a database.\n",
    "# The database contains the following tables, columns and datatypes:\n",
    "# Customer\n",
    "# - Id (int)\n",
    "# - FirstName (string)\n",
    "# - LastName (string)\n",
    "# - City (string)\n",
    "# - Country (string)\n",
    "# - Phone (string)\n",
    "\n",
    "# Order\n",
    "# - Id (int)\n",
    "# - OrderDate (datetime)\n",
    "# - OrderNumber (int)\n",
    "# - CustomerId (int), joins to Customer.Id\n",
    "# - TotalAmount (decimal)\n",
    "\n",
    "# OrderItem\n",
    "# - Id (int)\n",
    "# - OrderId (int), joins to Order.Id\n",
    "# - ProductId (int),\n",
    "# - UnitPlace (decimal),\n",
    "# - Quantity (int)\n",
    "\n",
    "# Supplier\n",
    "# - Id (int),\n",
    "# - CompanyName (string),\n",
    "# - ContactName (string),\n",
    "# - ContactTitle (string),\n",
    "# - City (string),\n",
    "# - Country (string),\n",
    "# - Phone (string),\n",
    "# - Fax (string)\n",
    "\n",
    "# Product\n",
    "# - Id (int),\n",
    "# - ProductName (string),\n",
    "# - SupplierId (int), joins to Supplier.Id,\n",
    "# - UnitPrice (decimal),\n",
    "# - Package (string),\n",
    "# - IsDiscontinued (bit)\n",
    "#\n",
    "# Question: \"\"\"\n",
    "\n",
    "metaprompt = \"\"\"You are an AI assistant that helps me answer questions about data in a database.\n",
    "Question: \"\"\""
   ]
  },
  {
   "cell_type": "code",
   "execution_count": 24,
   "metadata": {},
   "outputs": [
    {
     "name": "stdout",
     "output_type": "stream",
     "text": [
      "\n",
      "\n",
      "\u001b[1m> Entering new AgentExecutor chain...\u001b[0m\n",
      "\u001b[32;1m\u001b[1;3mAction: sql_db_list_tables\n",
      "Action Input: \"\"\u001b[0m\n",
      "Observation: \u001b[38;5;200m\u001b[1;3mCustomer, Order, OrderItem, Product, Supplier\u001b[0m\n",
      "Thought:\u001b[32;1m\u001b[1;3mI can query the OrderItem table to get the UnitPrice and Quantity of each item. Then I can join it with the Customer table to get the customer information.\n",
      "Action: sql_db_schema\n",
      "Action Input: \"Customer, OrderItem\"\u001b[0m\n",
      "Observation: \u001b[33;1m\u001b[1;3m\n",
      "CREATE TABLE [Customer] (\n",
      "\t[Id] INTEGER NOT NULL IDENTITY(1,1), \n",
      "\t[FirstName] NVARCHAR(40) COLLATE SQL_Latin1_General_CP1_CI_AS NOT NULL, \n",
      "\t[LastName] NVARCHAR(40) COLLATE SQL_Latin1_General_CP1_CI_AS NOT NULL, \n",
      "\t[City] NVARCHAR(40) COLLATE SQL_Latin1_General_CP1_CI_AS NULL, \n",
      "\t[Country] NVARCHAR(40) COLLATE SQL_Latin1_General_CP1_CI_AS NULL, \n",
      "\t[Phone] NVARCHAR(20) COLLATE SQL_Latin1_General_CP1_CI_AS NULL, \n",
      "\tCONSTRAINT [PK_CUSTOMER] PRIMARY KEY ([Id])\n",
      ")\n",
      "\n",
      "/*\n",
      "3 rows from Customer table:\n",
      "Id\tFirstName\tLastName\tCity\tCountry\tPhone\n",
      "1\tMaria\tAnders\tBerlin\tGermany\t030-0074321\n",
      "2\tAna\tTrujillo\tMéxico D.F.\tMexico\t(5) 555-4729\n",
      "3\tAntonio\tMoreno\tMéxico D.F.\tMexico\t(5) 555-3932\n",
      "*/\n",
      "\n",
      "\n",
      "CREATE TABLE [OrderItem] (\n",
      "\t[Id] INTEGER NOT NULL IDENTITY(1,1), \n",
      "\t[OrderId] INTEGER NOT NULL, \n",
      "\t[ProductId] INTEGER NOT NULL, \n",
      "\t[UnitPrice] FLOAT(53) NULL DEFAULT ((0)), \n",
      "\t[Quantity] INTEGER NOT NULL DEFAULT ((1)), \n",
      "\tCONSTRAINT [PK_ORDERITEM] PRIMARY KEY ([Id]), \n",
      "\tCONSTRAINT [FK_ORDERITE_REFERENCE_ORDER] FOREIGN KEY([OrderId]) REFERENCES [Order] ([Id]), \n",
      "\tCONSTRAINT [FK_ORDERITE_REFERENCE_PRODUCT] FOREIGN KEY([ProductId]) REFERENCES [Product] ([Id])\n",
      ")\n",
      "\n",
      "/*\n",
      "3 rows from OrderItem table:\n",
      "Id\tOrderId\tProductId\tUnitPrice\tQuantity\n",
      "1\t1\t11\t14.0\t12\n",
      "2\t1\t42\t9.8\t10\n",
      "3\t1\t72\t34.8\t5\n",
      "*/\u001b[0m\n",
      "Thought:\u001b[32;1m\u001b[1;3mI can write a query to join the OrderItem table with the Customer table, calculate the total cost for each customer using the formula UnitPrice * Quantity, and then order the results by the total cost in descending order. I will limit the results to the top 5 customers.\n",
      "\n",
      "Action: sql_db_query\n",
      "Action Input: \"SELECT TOP 5 c.FirstName, c.LastName, SUM(oi.UnitPrice * oi.Quantity) AS TotalCost \n",
      "               FROM Customer c \n",
      "               JOIN OrderItem oi ON c.Id = oi.OrderId \n",
      "               GROUP BY c.FirstName, c.LastName \n",
      "               ORDER BY TotalCost DESC\"\u001b[0m\n",
      "Observation: \u001b[36;1m\u001b[1;3m[('Liz', 'Nixon', 6155.9), ('Helvetius', 'Nagy', 4819.400000000001), ('Guillermo', 'Fernández', 4157.0), ('Roland', 'Mendel', 4031.0), ('Christina', 'Berglund', 3730.0)]\u001b[0m\n",
      "Thought:\u001b[32;1m\u001b[1;3mI have the results of the query. The top 5 customers by highest UnitPrice*Quantity are Liz Nixon, Helvetius Nagy, Guillermo Fernández, Roland Mendel, and Christina Berglund.\n",
      "\n",
      "Final Answer: Liz Nixon, Helvetius Nagy, Guillermo Fernández, Roland Mendel, and Christina Berglund are the top 5 customers by highest UnitPrice*Quantity.\u001b[0m\n",
      "\n",
      "\u001b[1m> Finished chain.\u001b[0m\n"
     ]
    },
    {
     "data": {
      "text/plain": [
       "'Liz Nixon, Helvetius Nagy, Guillermo Fernández, Roland Mendel, and Christina Berglund are the top 5 customers by highest UnitPrice*Quantity.'"
      ]
     },
     "execution_count": 24,
     "metadata": {},
     "output_type": "execute_result"
    }
   ],
   "source": [
    "# Attempt Log\n",
    "# 1. Prompt: list top 5 customers by highest total order amount\n",
    "#    Output: SELECT TOP 5 Customer.FirstName, Customer.LastName, [Order].TotalAmount FROM Customer JOIN [Order] ON Customer.Id = [Order].CustomerId ORDER BY [Order].TotalAmount DESC\n",
    "#    Comment: Should be SUM(TotalAmmount), GroupBY Customer.FirstName, Customer.LastName\n",
    "# 2. Prompt: list top 5 customers by sum of TotalAmount grouped by customer name\n",
    "#    Output: SELECT TOP 5 WITH TIES c.FirstName + ' ' + c.LastName AS CustomerName, SUM(o.TotalAmount) AS TotalAmount\n",
    "#              FROM Customer c\n",
    "#              JOIN [Order] o ON c.Id = o.CustomerId\n",
    "#              GROUP BY c.FirstName, c.LastName\n",
    "#              ORDER BY TotalAmount DESC\n",
    "#    Comment: Correct but query language is not very natural\n",
    "# 3. Prompt: list top 5 customers by highest UnitPrice*Quantity\n",
    "#    Output: SELECT TOP 5 c.FirstName, c.LastName, SUM(oi.UnitPrice * oi.Quantity) AS TotalCost \n",
    "#               FROM Customer c \n",
    "#               JOIN OrderItem oi ON c.Id = oi.OrderId \n",
    "#               GROUP BY c.FirstName, c.LastName \n",
    "#               ORDER BY TotalCost DESC\n",
    "#    Comment: Wrong Join. OrderItem should be joined to Order first, before getting the Customer Id.\n",
    "\n",
    "sqlagent.run(metaprompt + \"list top 5 customers by highest UnitPrice*Quantity\")"
   ]
  },
  {
   "cell_type": "markdown",
   "metadata": {},
   "source": [
    "### Attempt 2: Two tools: SQLDatabaseToolkit and Math"
   ]
  },
  {
   "cell_type": "code",
   "execution_count": 21,
   "metadata": {},
   "outputs": [],
   "source": [
    "toolkit2 = SQLDatabaseToolkit(db=db, llm=llm)\n",
    "sqlagent2 = create_sql_agent(\n",
    "    llm=chat,\n",
    "    toolkit=toolkit2,\n",
    "    verbose=True\n",
    ")\n",
    "\n",
    "from langchain.agents import load_tools\n",
    "tool_math = load_tools([\"llm-math\"], llm=llm)\n",
    "sqlagent2.tools = sqlagent2.tools + tool_math\n"
   ]
  },
  {
   "cell_type": "code",
   "execution_count": 23,
   "metadata": {},
   "outputs": [
    {
     "name": "stdout",
     "output_type": "stream",
     "text": [
      "\n",
      "\n",
      "\u001b[1m> Entering new AgentExecutor chain...\u001b[0m\n",
      "\u001b[32;1m\u001b[1;3mAction: sql_db_list_tables\n",
      "Action Input: \"\"\u001b[0m\n",
      "Observation: \u001b[38;5;200m\u001b[1;3mCustomer, Order, OrderItem, Product, Supplier\u001b[0m\n",
      "Thought:\u001b[32;1m\u001b[1;3mI can query the OrderItem table to get the UnitPrice and Quantity for each customer. Then I can join the Customer table to get the customer details.\n",
      "Action: sql_db_schema\n",
      "Action Input: \"Customer, OrderItem\"\u001b[0m\n",
      "Observation: \u001b[33;1m\u001b[1;3m\n",
      "CREATE TABLE [Customer] (\n",
      "\t[Id] INTEGER NOT NULL IDENTITY(1,1), \n",
      "\t[FirstName] NVARCHAR(40) COLLATE SQL_Latin1_General_CP1_CI_AS NOT NULL, \n",
      "\t[LastName] NVARCHAR(40) COLLATE SQL_Latin1_General_CP1_CI_AS NOT NULL, \n",
      "\t[City] NVARCHAR(40) COLLATE SQL_Latin1_General_CP1_CI_AS NULL, \n",
      "\t[Country] NVARCHAR(40) COLLATE SQL_Latin1_General_CP1_CI_AS NULL, \n",
      "\t[Phone] NVARCHAR(20) COLLATE SQL_Latin1_General_CP1_CI_AS NULL, \n",
      "\tCONSTRAINT [PK_CUSTOMER] PRIMARY KEY ([Id])\n",
      ")\n",
      "\n",
      "/*\n",
      "3 rows from Customer table:\n",
      "Id\tFirstName\tLastName\tCity\tCountry\tPhone\n",
      "1\tMaria\tAnders\tBerlin\tGermany\t030-0074321\n",
      "2\tAna\tTrujillo\tMéxico D.F.\tMexico\t(5) 555-4729\n",
      "3\tAntonio\tMoreno\tMéxico D.F.\tMexico\t(5) 555-3932\n",
      "*/\n",
      "\n",
      "\n",
      "CREATE TABLE [OrderItem] (\n",
      "\t[Id] INTEGER NOT NULL IDENTITY(1,1), \n",
      "\t[OrderId] INTEGER NOT NULL, \n",
      "\t[ProductId] INTEGER NOT NULL, \n",
      "\t[UnitPrice] FLOAT(53) NULL DEFAULT ((0)), \n",
      "\t[Quantity] INTEGER NOT NULL DEFAULT ((1)), \n",
      "\tCONSTRAINT [PK_ORDERITEM] PRIMARY KEY ([Id]), \n",
      "\tCONSTRAINT [FK_ORDERITE_REFERENCE_ORDER] FOREIGN KEY([OrderId]) REFERENCES [Order] ([Id]), \n",
      "\tCONSTRAINT [FK_ORDERITE_REFERENCE_PRODUCT] FOREIGN KEY([ProductId]) REFERENCES [Product] ([Id])\n",
      ")\n",
      "\n",
      "/*\n",
      "3 rows from OrderItem table:\n",
      "Id\tOrderId\tProductId\tUnitPrice\tQuantity\n",
      "1\t1\t11\t14.0\t12\n",
      "2\t1\t42\t9.8\t10\n",
      "3\t1\t72\t34.8\t5\n",
      "*/\u001b[0m\n",
      "Thought:\u001b[32;1m\u001b[1;3mI can join the Customer and OrderItem tables on the OrderId column. Then I can calculate the total price for each order item by multiplying the UnitPrice and Quantity columns. Finally, I can group the results by the customer and order the customers by the sum of the total price in descending order. I will limit the results to 5.\n",
      "Action: sql_db_query\n",
      "Action Input: \"SELECT c.FirstName, c.LastName, SUM(oi.UnitPrice * oi.Quantity) AS TotalPrice\n",
      "              FROM Customer c\n",
      "              JOIN OrderItem oi ON c.Id = oi.OrderId\n",
      "              GROUP BY c.FirstName, c.LastName\n",
      "              ORDER BY TotalPrice DESC\n",
      "              LIMIT 5\"\u001b[0m\n",
      "Observation: \u001b[36;1m\u001b[1;3mError: (pymssql._pymssql.ProgrammingError) (102, b\"Incorrect syntax near 'LIMIT'.DB-Lib error message 20018, severity 15:\\nGeneral SQL Server error: Check messages from the SQL Server\\n\")\n",
      "[SQL: SELECT c.FirstName, c.LastName, SUM(oi.UnitPrice * oi.Quantity) AS TotalPrice\n",
      "              FROM Customer c\n",
      "              JOIN OrderItem oi ON c.Id = oi.OrderId\n",
      "              GROUP BY c.FirstName, c.LastName\n",
      "              ORDER BY TotalPrice DESC\n",
      "              LIMIT 5]\n",
      "(Background on this error at: https://sqlalche.me/e/14/f405)\u001b[0m\n",
      "Thought:\u001b[32;1m\u001b[1;3mThe LIMIT keyword is not supported in MSSQL. I need to rewrite the query to achieve the desired result.\n",
      "Action: sql_db_query_checker\n",
      "Action Input: \"SELECT c.FirstName, c.LastName, SUM(oi.UnitPrice * oi.Quantity) AS TotalPrice\n",
      "              FROM Customer c\n",
      "              JOIN OrderItem oi ON c.Id = oi.OrderId\n",
      "              GROUP BY c.FirstName, c.LastName\n",
      "              ORDER BY TotalPrice DESC\"\u001b[0m\n",
      "Observation: \u001b[36;1m\u001b[1;3m\n",
      "\n",
      "SELECT c.FirstName, c.LastName, SUM(oi.UnitPrice * oi.Quantity) AS TotalPrice\n",
      "              FROM Customer c\n",
      "              JOIN OrderItem oi ON c.Id = oi.OrderId\n",
      "              WHERE oi.UnitPrice IS NOT NULL\n",
      "              GROUP BY c.FirstName, c.LastName\n",
      "              ORDER BY TotalPrice DESC\u001b[0m\n",
      "Thought:\u001b[32;1m\u001b[1;3mI should add a condition to filter out null values in the UnitPrice column. This will ensure that only valid prices are included in the calculation.\n",
      "Action: sql_db_query\n",
      "Action Input: \"SELECT c.FirstName, c.LastName, SUM(oi.UnitPrice * oi.Quantity) AS TotalPrice\n",
      "              FROM Customer c\n",
      "              JOIN OrderItem oi ON c.Id = oi.OrderId\n",
      "              WHERE oi.UnitPrice IS NOT NULL\n",
      "              GROUP BY c.FirstName, c.LastName\n",
      "              ORDER BY TotalPrice DESC\"\u001b[0m\n",
      "Observation: \u001b[36;1m\u001b[1;3m[('Liz', 'Nixon', 6155.9), ('Helvetius', 'Nagy', 4819.400000000001), ('Guillermo', 'Fernández', 4157.0), ('Roland', 'Mendel', 4031.0), ('Christina', 'Berglund', 3730.0), ('Jean', 'Fresnière', 3127.0), ('Philip', 'Cramer', 3016.0), ('Alejandra', 'Camino', 2835.0), ('Rene', 'Phillips', 2708.7999999999997), ('Paula', 'Parente', 2545.2), ('Martín', 'Sommer', 2490.5), ('Matti', 'Karttunen', 2467.0), ('Elizabeth', 'Brown', 2464.8), ('Janete', 'Limeira', 2327.0), ('Miguel', 'Angel Paolino', 2262.5), ('Paul', 'Henriot', 2233.6), ('Helen', 'Bennett', 2179.2), ('John', 'Steel', 2169.0), ('Carine', 'Schmitt', 2142.4), ('Victoria', 'Ashworth', 2018.6), ('Palle', 'Ibsen', 1940.0), ('Felipe', 'Izquierdo', 1887.6000000000001), ('Ana', 'Trujillo', 1863.4), ('Antonio', 'Moreno', 1813.0), ('Lúcia', 'Carvalho', 1762.0), ('Francisco', 'Chang', 1746.2), ('Paula', 'Wilson', 1614.8), ('Liu', 'Wong', 1497.0), ('André', 'Fonseca', 1488.8), ('Peter', 'Franken', 1456.0), ('Patricia', 'McKenna', 1452.0), ('Hanna', 'Moos', 1444.8000000000002), ('Catherine', 'Dewey', 1420.0), ('Yoshi', 'Latimer', 1414.8000000000002), ('Martine', 'Rancé', 1376.0), ('Jaime', 'Yorres', 1296.0), ('Henriette', 'Pfalzheim', 1242.0), ('José', 'Pedro Freyre', 1200.8), ('Hari', 'Kumar', 1191.1999999999998), ('Janine', 'Labrune', 1176.0), ('Anabela', 'Domingues', 1168.0), ('Elizabeth', 'Lincoln', 1119.9), ('Aria', 'Cruz', 1101.2), ('Giovanni', 'Rovelli', 1050.6), ('Karin', 'Josephs', 982.0), ('Marie', 'Bertrand', 954.4), ('Rita', 'Müller', 954.0), ('Zbyszek', 'Piestrzeniewicz', 934.5), ('Daniel', 'Tonini', 924.0), ('Carlos', 'González', 848.7), ('Yvonne', 'Moncada', 755.0), ('Sven', 'Ottlieb', 724.5), ('Diego', 'Roel', 676.0), ('Thomas', 'Hardy', 670.8), ('Frédérique', 'Citeaux', 625.2), ('Pedro', 'Afonso', 624.8), ('Manuel', 'Pereira', 613.2), ('Simon', 'Crowther', 608.0), ('Renate', 'Messner', 552.8), ('Paolo', 'Accorti', 538.6), ('Laurence', 'Lebihan', 517.8), ('Michael', 'Holz', 516.8), ('Jytte', 'Petersen', 516.0), ('Georg', 'Pipps', 498.5), ('Yoshi', 'Tannamuri', 479.4), ('Howard', 'Snyder', 468.0), ('Yang', 'Wang', 448.0), ('Maria', 'Anders', 440.0), ('Isabel', 'de Castro', 424.0), ('Eduardo', 'Saavedra', 420.0), ('Ann', 'Devon', 364.79999999999995), ('Alexander', 'Feuer', 349.5), ('Horst', 'Kloss', 336.0), ('Karl', 'Jablonski', 316.8), ('Lino', 'Rodriguez', 307.2), ('Jonas', 'Bergulfsen', 288.0), ('Sergio', 'Gutiérrez', 268.79999999999995), ('Jose', 'Pavarotti', 240.4), ('Maurizio', 'Moroni', 182.39999999999998), ('Pascale', 'Cartrain', 164.4), ('Carlos', 'Hernández', 155.39999999999998), ('Pirkko', 'Koskitalo', 144.8), ('Dominique', 'Perrier', 144.0), ('Fran', 'Wilson', 121.6), ('Art', 'Braunschweiger', 112.0), ('Patricio', 'Simpson', 100.8), ('Annette', 'Roulet', 89.0), ('Bernardo', 'Batista', 88.8), ('Mary', 'Saveley', 88.5), ('Mario', 'Pontes', 86.5), ('Maria', 'Larsson', 48.0)]\u001b[0m\n",
      "Thought:\u001b[32;1m\u001b[1;3mThe top 5 customers by highest UnitPrice*Quantity are Liz Nixon, Helvetius Nagy, Guillermo Fernández, Roland Mendel, and Christina Berglund.\n",
      "Final Answer: Liz Nixon, Helvetius Nagy, Guillermo Fernández, Roland Mendel, and Christina Berglund.\u001b[0m\n",
      "\n",
      "\u001b[1m> Finished chain.\u001b[0m\n"
     ]
    },
    {
     "data": {
      "text/plain": [
       "'Liz Nixon, Helvetius Nagy, Guillermo Fernández, Roland Mendel, and Christina Berglund.'"
      ]
     },
     "execution_count": 23,
     "metadata": {},
     "output_type": "execute_result"
    }
   ],
   "source": [
    "sqlagent2.run(metaprompt + \"list top 5 customers by highest UnitPrice*Quantity\")"
   ]
  }
 ],
 "metadata": {
  "kernelspec": {
   "display_name": "Python 3",
   "language": "python",
   "name": "python3"
  },
  "language_info": {
   "codemirror_mode": {
    "name": "ipython",
    "version": 3
   },
   "file_extension": ".py",
   "mimetype": "text/x-python",
   "name": "python",
   "nbconvert_exporter": "python",
   "pygments_lexer": "ipython3",
   "version": "3.11.5"
  },
  "orig_nbformat": 4
 },
 "nbformat": 4,
 "nbformat_minor": 2
}
