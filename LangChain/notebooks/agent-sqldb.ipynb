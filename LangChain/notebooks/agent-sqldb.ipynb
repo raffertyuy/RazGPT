{
 "cells": [
  {
   "cell_type": "markdown",
   "metadata": {},
   "source": [
    "> **This notebook uses a langchain `create_sql_agent` to query a SQL database.**\n",
    "> - **Thought:** Use this agent for various purposes: querying data, generating reports, authoring documents, and maybe updating data\n",
    "> - **Observations:**\n",
    ">   - LangChain `SQLDatabase` can only work with the default schema, until [this issue](https://github.com/langchain-ai/langchain/issues/3036) is resolved.\n",
    ">   - The agent queries the available tables and its schema first.\n",
    ">   - It will generate sql scripts to try, and keep retrying if the sql script fails -- until it reaches the model token limit.\n",
    ">   - From trials, it requires a lot of trials to get a query to work. And it can fail due to complex joins. \n",
    "> - Sample Data: [Northwind Traders](https://www.dofactory.com/sql/sample-database), bacause AdventureWorks uses a `SalesLT` schema"
   ]
  },
  {
   "cell_type": "markdown",
   "metadata": {},
   "source": [
    "## Environment Setup"
   ]
  },
  {
   "cell_type": "code",
   "execution_count": 2,
   "metadata": {},
   "outputs": [],
   "source": [
    "import os\n",
    "from dotenv import load_dotenv\n",
    "\n",
    "# Set environment variables in the .env file.\n",
    "load_dotenv()\n",
    "\n",
    "COMPLETION_MODEL = os.environ[\"OPENAI_COMPLETION_MODEL\"]\n",
    "COMPLETION_DEPLOYMENT = os.environ[\"OPENAI_COMPLETION_DEPLOYMENT\"]\n",
    "CHAT_MODEL = os.environ[\"OPENAI_CHAT_MODEL\"]\n",
    "CHAT_DEPLOYMENT = os.environ[\"OPENAI_CHAT_DEPLOYMENT\"]\n",
    "OPENAI_API_VERSION = os.environ[\"OPENAI_API_VERSION\"]\n",
    "\n",
    "SQL_DB_USER = os.environ[\"SQL_DB_USER\"]\n",
    "SQL_DB_PASSWORD = os.environ[\"SQL_DB_PASSWORD\"]\n",
    "SQL_DB_SERVER_NAME = os.environ[\"SQL_DB_SERVER_NAME\"]\n",
    "SQL_DB_NAME = os.environ[\"SQL_DB_NAME\"]\n",
    "SQL_CONNECTIONSTRING_FORMAT = os.environ[\"SQL_CONNECTIONSTRING_FORMAT\"]"
   ]
  },
  {
   "cell_type": "code",
   "execution_count": 3,
   "metadata": {},
   "outputs": [],
   "source": [
    "from langchain.llms import AzureOpenAI\n",
    "from langchain.chat_models import AzureChatOpenAI\n",
    "\n",
    "llm = AzureOpenAI(\n",
    "    model_name=COMPLETION_MODEL,\n",
    "    deployment_name=COMPLETION_DEPLOYMENT,\n",
    "    #temperature=0.3,\n",
    "    verbose=True\n",
    ")\n",
    "\n",
    "chat = AzureChatOpenAI(\n",
    "    deployment_name=CHAT_DEPLOYMENT,\n",
    "    openai_api_version=OPENAI_API_VERSION,\n",
    "    #temperature=0.3,\n",
    "    verbose=True\n",
    ")"
   ]
  },
  {
   "cell_type": "markdown",
   "metadata": {},
   "source": [
    "## Code"
   ]
  },
  {
   "cell_type": "code",
   "execution_count": 4,
   "metadata": {},
   "outputs": [],
   "source": [
    "from langchain.agents.agent_toolkits import SQLDatabaseToolkit\n",
    "from langchain.sql_database import SQLDatabase\n",
    "\n",
    "connection_string = SQL_CONNECTIONSTRING_FORMAT.format(\n",
    "    database_user=SQL_DB_USER,\n",
    "    database_password=SQL_DB_PASSWORD,\n",
    "    database_server=SQL_DB_SERVER_NAME,\n",
    "    database_db=SQL_DB_NAME)\n",
    "\n",
    "db = SQLDatabase.from_uri(connection_string)\n"
   ]
  },
  {
   "cell_type": "markdown",
   "metadata": {},
   "source": [
    "### Attempt 1: Pure SQLDatabaseToolkit"
   ]
  },
  {
   "cell_type": "code",
   "execution_count": null,
   "metadata": {},
   "outputs": [],
   "source": [
    "from langchain.agents import create_sql_agent\n",
    "\n",
    "toolkit = SQLDatabaseToolkit(db=db, llm=llm)\n",
    "sqlagent = create_sql_agent(\n",
    "    llm=chat,\n",
    "    toolkit=toolkit,\n",
    "    verbose=True\n",
    ")"
   ]
  },
  {
   "cell_type": "code",
   "execution_count": null,
   "metadata": {},
   "outputs": [],
   "source": [
    "# Tried adding the following into the prompt.\n",
    "# However, the SQL Agent will still run sql_db_list_tables and generate based on this information\n",
    "\n",
    "# metaprompt = \"\"\"You are an AI assistant that helps me answer questions about data in a database.\n",
    "# The database contains the following tables, columns and datatypes:\n",
    "# Customer\n",
    "# - Id (int)\n",
    "# - FirstName (string)\n",
    "# - LastName (string)\n",
    "# - City (string)\n",
    "# - Country (string)\n",
    "# - Phone (string)\n",
    "\n",
    "# Order\n",
    "# - Id (int)\n",
    "# - OrderDate (datetime)\n",
    "# - OrderNumber (int)\n",
    "# - CustomerId (int), joins to Customer.Id\n",
    "# - TotalAmount (decimal)\n",
    "\n",
    "# OrderItem\n",
    "# - Id (int)\n",
    "# - OrderId (int), joins to Order.Id\n",
    "# - ProductId (int),\n",
    "# - UnitPlace (decimal),\n",
    "# - Quantity (int)\n",
    "\n",
    "# Supplier\n",
    "# - Id (int),\n",
    "# - CompanyName (string),\n",
    "# - ContactName (string),\n",
    "# - ContactTitle (string),\n",
    "# - City (string),\n",
    "# - Country (string),\n",
    "# - Phone (string),\n",
    "# - Fax (string)\n",
    "\n",
    "# Product\n",
    "# - Id (int),\n",
    "# - ProductName (string),\n",
    "# - SupplierId (int), joins to Supplier.Id,\n",
    "# - UnitPrice (decimal),\n",
    "# - Package (string),\n",
    "# - IsDiscontinued (bit)\n",
    "#\n",
    "# Question: \"\"\"\n",
    "\n",
    "metaprompt = \"\"\"You are an AI assistant that helps me answer questions about data in a database.\n",
    "Question: \"\"\""
   ]
  },
  {
   "cell_type": "code",
   "execution_count": null,
   "metadata": {},
   "outputs": [
    {
     "name": "stdout",
     "output_type": "stream",
     "text": [
      "\n",
      "\n",
      "\u001b[1m> Entering new AgentExecutor chain...\u001b[0m\n",
      "\u001b[32;1m\u001b[1;3mAction: sql_db_list_tables\n",
      "Action Input: \"\"\u001b[0m\n",
      "Observation: \u001b[38;5;200m\u001b[1;3mCustomer, Order, OrderItem, Product, Supplier\u001b[0m\n",
      "Thought:\u001b[32;1m\u001b[1;3mI can query the Customer and Order tables to get the relevant information.\n",
      "Action: sql_db_schema\n",
      "Action Input: \"Customer, Order\"\u001b[0m\n",
      "Observation: \u001b[33;1m\u001b[1;3m\n",
      "CREATE TABLE [Customer] (\n",
      "\t[Id] INTEGER NOT NULL IDENTITY(1,1), \n",
      "\t[FirstName] NVARCHAR(40) COLLATE SQL_Latin1_General_CP1_CI_AS NOT NULL, \n",
      "\t[LastName] NVARCHAR(40) COLLATE SQL_Latin1_General_CP1_CI_AS NOT NULL, \n",
      "\t[City] NVARCHAR(40) COLLATE SQL_Latin1_General_CP1_CI_AS NULL, \n",
      "\t[Country] NVARCHAR(40) COLLATE SQL_Latin1_General_CP1_CI_AS NULL, \n",
      "\t[Phone] NVARCHAR(20) COLLATE SQL_Latin1_General_CP1_CI_AS NULL, \n",
      "\tCONSTRAINT [PK_CUSTOMER] PRIMARY KEY ([Id])\n",
      ")\n",
      "\n",
      "/*\n",
      "3 rows from Customer table:\n",
      "Id\tFirstName\tLastName\tCity\tCountry\tPhone\n",
      "1\tMaria\tAnders\tBerlin\tGermany\t030-0074321\n",
      "2\tAna\tTrujillo\tMéxico D.F.\tMexico\t(5) 555-4729\n",
      "3\tAntonio\tMoreno\tMéxico D.F.\tMexico\t(5) 555-3932\n",
      "*/\n",
      "\n",
      "\n",
      "CREATE TABLE [Order] (\n",
      "\t[Id] INTEGER NOT NULL IDENTITY(1,1), \n",
      "\t[OrderDate] DATETIME NOT NULL DEFAULT (getdate()), \n",
      "\t[OrderNumber] NVARCHAR(10) COLLATE SQL_Latin1_General_CP1_CI_AS NULL, \n",
      "\t[CustomerId] INTEGER NOT NULL, \n",
      "\t[TotalAmount] FLOAT(53) NULL DEFAULT ((0)), \n",
      "\tCONSTRAINT [PK_ORDER] PRIMARY KEY ([Id]), \n",
      "\tCONSTRAINT [FK_ORDER_REFERENCE_CUSTOMER] FOREIGN KEY([CustomerId]) REFERENCES [Customer] ([Id])\n",
      ")\n",
      "\n",
      "/*\n",
      "3 rows from Order table:\n",
      "Id\tOrderDate\tOrderNumber\tCustomerId\tTotalAmount\n",
      "1\t2012-07-04 00:00:00\t542378\t85\t440.0\n",
      "2\t2012-07-05 00:00:00\t542379\t79\t1863.4\n",
      "3\t2012-07-08 00:00:00\t542380\t34\t1813.0\n",
      "*/\u001b[0m\n",
      "Thought:\u001b[32;1m\u001b[1;3mI can use a join between the Customer and Order tables to get the sum of TotalAmount grouped by customer name. I will also limit the query to return only the top 5 customers.\n",
      "Action: sql_db_query\n",
      "Action Input: \"SELECT TOP 5 c.FirstName + ' ' + c.LastName AS CustomerName, SUM(o.TotalAmount) AS TotalAmount FROM Customer c JOIN [Order] o ON c.Id = o.CustomerId GROUP BY c.FirstName, c.LastName ORDER BY SUM(o.TotalAmount) DESC\"\u001b[0m\n",
      "Observation: \u001b[36;1m\u001b[1;3m[('Horst Kloss', 117483.38999999998), ('Jose Pavarotti', 115673.38999999998), ('Roland Mendel', 113236.68), ('Patricia McKenna', 57317.39), ('Paula Wilson', 52245.9)]\u001b[0m\n",
      "Thought:\u001b[32;1m\u001b[1;3mThe top 5 customers by sum of TotalAmount grouped by customer name are:\n",
      "1. Horst Kloss - Total Amount: 117,483.39\n",
      "2. Jose Pavarotti - Total Amount: 115,673.39\n",
      "3. Roland Mendel - Total Amount: 113,236.68\n",
      "4. Patricia McKenna - Total Amount: 57,317.39\n",
      "5. Paula Wilson - Total Amount: 52,245.9\n",
      "Final Answer: The top 5 customers by sum of TotalAmount grouped by customer name are Horst Kloss, Jose Pavarotti, Roland Mendel, Patricia McKenna, and Paula Wilson.\u001b[0m\n",
      "\n",
      "\u001b[1m> Finished chain.\u001b[0m\n"
     ]
    },
    {
     "data": {
      "text/plain": [
       "'The top 5 customers by sum of TotalAmount grouped by customer name are Horst Kloss, Jose Pavarotti, Roland Mendel, Patricia McKenna, and Paula Wilson.'"
      ]
     },
     "execution_count": 6,
     "metadata": {},
     "output_type": "execute_result"
    }
   ],
   "source": [
    "# Attempt Log (#2 is the BEST ATTEMPT)\n",
    "# 1. Prompt: list top 5 customers by highest total order amount\n",
    "#    Output: SELECT TOP 5 Customer.FirstName, Customer.LastName, [Order].TotalAmount FROM Customer JOIN [Order] ON Customer.Id = [Order].CustomerId ORDER BY [Order].TotalAmount DESC\n",
    "#    Comment: Should be SUM(TotalAmmount), GroupBY Customer.FirstName, Customer.LastName\n",
    "# 2. Prompt: list top 5 customers by sum of TotalAmount grouped by customer name\n",
    "#    Output: SELECT TOP 5 WITH TIES c.FirstName + ' ' + c.LastName AS CustomerName, SUM(o.TotalAmount) AS TotalAmount\n",
    "#              FROM Customer c\n",
    "#              JOIN [Order] o ON c.Id = o.CustomerId\n",
    "#              GROUP BY c.FirstName, c.LastName\n",
    "#              ORDER BY TotalAmount DESC\n",
    "#    Comment: Correct but query language is not very natural\n",
    "\n",
    "sqlagent.run(metaprompt + \"list top 5 customers by sum of TotalAmount grouped by customer name\")"
   ]
  },
  {
   "cell_type": "markdown",
   "metadata": {},
   "source": [
    "### Attempt 2: Two tools: SQLDatabaseToolkit and Math\n",
    "**Result:** The agent didn't use the math tool."
   ]
  },
  {
   "cell_type": "code",
   "execution_count": null,
   "metadata": {},
   "outputs": [],
   "source": [
    "toolkit2 = SQLDatabaseToolkit(db=db, llm=llm)\n",
    "sqlagent2 = create_sql_agent(\n",
    "    llm=chat,\n",
    "    toolkit=toolkit2,\n",
    "    verbose=True\n",
    ")\n",
    "\n",
    "from langchain.agents import load_tools\n",
    "tool_math = load_tools([\"llm-math\"], llm=llm)\n",
    "sqlagent2.tools = sqlagent2.tools + tool_math\n"
   ]
  },
  {
   "cell_type": "code",
   "execution_count": null,
   "metadata": {},
   "outputs": [
    {
     "name": "stdout",
     "output_type": "stream",
     "text": [
      "\n",
      "\n",
      "\u001b[1m> Entering new AgentExecutor chain...\u001b[0m\n",
      "\u001b[32;1m\u001b[1;3mAction: sql_db_list_tables\n",
      "Action Input: \"\"\u001b[0m\n",
      "Observation: \u001b[38;5;200m\u001b[1;3mCustomer, Order, OrderItem, Product, Supplier\u001b[0m\n",
      "Thought:\u001b[32;1m\u001b[1;3mI can query the OrderItem table to get the UnitPrice and Quantity for each order item. Then I can join it with the Customer table to get the customer information.\n",
      "Action: sql_db_schema\n",
      "Action Input: \"OrderItem, Customer\"\u001b[0m\n",
      "Observation: \u001b[33;1m\u001b[1;3m\n",
      "CREATE TABLE [Customer] (\n",
      "\t[Id] INTEGER NOT NULL IDENTITY(1,1), \n",
      "\t[FirstName] NVARCHAR(40) COLLATE SQL_Latin1_General_CP1_CI_AS NOT NULL, \n",
      "\t[LastName] NVARCHAR(40) COLLATE SQL_Latin1_General_CP1_CI_AS NOT NULL, \n",
      "\t[City] NVARCHAR(40) COLLATE SQL_Latin1_General_CP1_CI_AS NULL, \n",
      "\t[Country] NVARCHAR(40) COLLATE SQL_Latin1_General_CP1_CI_AS NULL, \n",
      "\t[Phone] NVARCHAR(20) COLLATE SQL_Latin1_General_CP1_CI_AS NULL, \n",
      "\tCONSTRAINT [PK_CUSTOMER] PRIMARY KEY ([Id])\n",
      ")\n",
      "\n",
      "/*\n",
      "3 rows from Customer table:\n",
      "Id\tFirstName\tLastName\tCity\tCountry\tPhone\n",
      "1\tMaria\tAnders\tBerlin\tGermany\t030-0074321\n",
      "2\tAna\tTrujillo\tMéxico D.F.\tMexico\t(5) 555-4729\n",
      "3\tAntonio\tMoreno\tMéxico D.F.\tMexico\t(5) 555-3932\n",
      "*/\n",
      "\n",
      "\n",
      "CREATE TABLE [OrderItem] (\n",
      "\t[Id] INTEGER NOT NULL IDENTITY(1,1), \n",
      "\t[OrderId] INTEGER NOT NULL, \n",
      "\t[ProductId] INTEGER NOT NULL, \n",
      "\t[UnitPrice] FLOAT(53) NULL DEFAULT ((0)), \n",
      "\t[Quantity] INTEGER NOT NULL DEFAULT ((1)), \n",
      "\tCONSTRAINT [PK_ORDERITEM] PRIMARY KEY ([Id]), \n",
      "\tCONSTRAINT [FK_ORDERITE_REFERENCE_ORDER] FOREIGN KEY([OrderId]) REFERENCES [Order] ([Id]), \n",
      "\tCONSTRAINT [FK_ORDERITE_REFERENCE_PRODUCT] FOREIGN KEY([ProductId]) REFERENCES [Product] ([Id])\n",
      ")\n",
      "\n",
      "/*\n",
      "3 rows from OrderItem table:\n",
      "Id\tOrderId\tProductId\tUnitPrice\tQuantity\n",
      "1\t1\t11\t14.0\t12\n",
      "2\t1\t42\t9.8\t10\n",
      "3\t1\t72\t34.8\t5\n",
      "*/\u001b[0m\n",
      "Thought:\u001b[32;1m\u001b[1;3mI can join the OrderItem and Customer tables on the OrderId to get the customer information for each order item. Then I can calculate the total price for each order item by multiplying the UnitPrice and Quantity columns. Finally, I can order the results by the total price in descending order and limit the results to the top 5.\n",
      "Action: sql_db_query\n",
      "Action Input: \"SELECT TOP 5 c.FirstName, c.LastName, (oi.UnitPrice * oi.Quantity) AS TotalPrice\n",
      "FROM OrderItem oi\n",
      "JOIN Customer c ON oi.OrderId = c.Id\n",
      "ORDER BY TotalPrice DESC\"\u001b[0m\n",
      "Observation: \u001b[36;1m\u001b[1;3m[('Helvetius', 'Nagy', 4216.0), ('Roland', 'Mendel', 3080.0), ('Liz', 'Nixon', 2808.0), ('Alejandra', 'Camino', 2758.0), ('Christina', 'Berglund', 2592.0)]\u001b[0m\n",
      "Thought:\u001b[32;1m\u001b[1;3mI now know the final answer.\n",
      "Final Answer: The top 5 customers with the highest UnitPrice*Quantity are Helvetius Nagy, Roland Mendel, Liz Nixon, Alejandra Camino, and Christina Berglund.\u001b[0m\n",
      "\n",
      "\u001b[1m> Finished chain.\u001b[0m\n"
     ]
    },
    {
     "data": {
      "text/plain": [
       "'The top 5 customers with the highest UnitPrice*Quantity are Helvetius Nagy, Roland Mendel, Liz Nixon, Alejandra Camino, and Christina Berglund.'"
      ]
     },
     "execution_count": 8,
     "metadata": {},
     "output_type": "execute_result"
    }
   ],
   "source": [
    "# Attempt Log\n",
    "# 1. Prompt: list top 5 customers by highest UnitPrice*Quantity\n",
    "#    Output: SELECT TOP 5 c.FirstName, c.LastName, SUM(oi.UnitPrice * oi.Quantity) AS TotalCost \n",
    "#               FROM Customer c \n",
    "#               JOIN OrderItem oi ON c.Id = oi.OrderId \n",
    "#               GROUP BY c.FirstName, c.LastName \n",
    "#               ORDER BY TotalCost DESC\n",
    "#    Comment: Wrong Join. OrderItem should be joined to Order first, before getting the Customer Id.\n",
    "#             Also, the agent did not use the math tool to calculate the UnitPrice*Quantity.\n",
    "\n",
    "sqlagent2.run(metaprompt + \"list top 5 customers by highest UnitPrice*Quantity\")"
   ]
  }
 ],
 "metadata": {
  "kernelspec": {
   "display_name": "Python 3",
   "language": "python",
   "name": "python3"
  },
  "language_info": {
   "codemirror_mode": {
    "name": "ipython",
    "version": 3
   },
   "file_extension": ".py",
   "mimetype": "text/x-python",
   "name": "python",
   "nbconvert_exporter": "python",
   "pygments_lexer": "ipython3",
   "version": "3.11.5"
  },
  "orig_nbformat": 4
 },
 "nbformat": 4,
 "nbformat_minor": 2
}
