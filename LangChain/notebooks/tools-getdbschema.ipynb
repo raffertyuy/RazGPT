{
 "cells": [
  {
   "cell_type": "markdown",
   "metadata": {},
   "source": [
    "> **This notebook is about using langchain tools to get the db table schema of a SQL database**\n",
    "> - The goal is to NOT use agents, but the langchain tool is useful.\n",
    "> - Reference: https://python.langchain.com/docs/expression_language/cookbook/sql_db"
   ]
  },
  {
   "cell_type": "markdown",
   "metadata": {},
   "source": [
    "## Initialize Environment"
   ]
  },
  {
   "cell_type": "code",
   "execution_count": 4,
   "metadata": {},
   "outputs": [],
   "source": [
    "import os\n",
    "from dotenv import load_dotenv\n",
    "\n",
    "# Set environment variables in the .env file.\n",
    "load_dotenv()\n",
    "\n",
    "COMPLETION_MODEL = os.environ[\"OPENAI_COMPLETION_MODEL\"]\n",
    "COMPLETION_DEPLOYMENT = os.environ[\"OPENAI_COMPLETION_DEPLOYMENT\"]\n",
    "CHAT_MODEL = os.environ[\"OPENAI_CHAT_MODEL\"]\n",
    "CHAT_DEPLOYMENT = os.environ[\"OPENAI_CHAT_DEPLOYMENT\"]\n",
    "OPENAI_API_VERSION = os.environ[\"OPENAI_API_VERSION\"]\n",
    "\n",
    "SQL_DB_USER = os.environ[\"SQL_DB_USER\"]\n",
    "SQL_DB_PASSWORD = os.environ[\"SQL_DB_PASSWORD\"]\n",
    "SQL_DB_SERVER_NAME = os.environ[\"SQL_DB_SERVER_NAME\"]\n",
    "SQL_DB_NAME = os.environ[\"SQL_DB_NAME\"]\n",
    "SQL_CONNECTIONSTRING_FORMAT = os.environ[\"SQL_CONNECTIONSTRING_FORMAT\"]"
   ]
  },
  {
   "cell_type": "code",
   "execution_count": 5,
   "metadata": {},
   "outputs": [],
   "source": [
    "from langchain.llms import AzureOpenAI\n",
    "from langchain.chat_models import AzureChatOpenAI\n",
    "\n",
    "llm = AzureOpenAI(\n",
    "    model_name=COMPLETION_MODEL,\n",
    "    deployment_name=COMPLETION_DEPLOYMENT,\n",
    "    #temperature=0.3,\n",
    "    verbose=True\n",
    ")\n",
    "\n",
    "chat = AzureChatOpenAI(\n",
    "    deployment_name=CHAT_DEPLOYMENT,\n",
    "    openai_api_version=OPENAI_API_VERSION,\n",
    "    #temperature=0.3,\n",
    "    verbose=True\n",
    ")"
   ]
  },
  {
   "cell_type": "markdown",
   "metadata": {},
   "source": [
    "## Connect to SQL Database"
   ]
  },
  {
   "cell_type": "code",
   "execution_count": 6,
   "metadata": {},
   "outputs": [],
   "source": [
    "from langchain.utilities import SQLDatabase\n",
    "\n",
    "connection_string = SQL_CONNECTIONSTRING_FORMAT.format(\n",
    "    database_user=SQL_DB_USER,\n",
    "    database_password=SQL_DB_PASSWORD,\n",
    "    database_server=SQL_DB_SERVER_NAME,\n",
    "    database_db=SQL_DB_NAME)\n",
    "\n",
    "db = SQLDatabase.from_uri(connection_string)"
   ]
  },
  {
   "cell_type": "code",
   "execution_count": 7,
   "metadata": {},
   "outputs": [
    {
     "data": {
      "text/plain": [
       "\"\\nCREATE TABLE [Customer] (\\n\\t[Id] INTEGER NOT NULL IDENTITY(1,1), \\n\\t[FirstName] NVARCHAR(40) COLLATE SQL_Latin1_General_CP1_CI_AS NOT NULL, \\n\\t[LastName] NVARCHAR(40) COLLATE SQL_Latin1_General_CP1_CI_AS NOT NULL, \\n\\t[City] NVARCHAR(40) COLLATE SQL_Latin1_General_CP1_CI_AS NULL, \\n\\t[Country] NVARCHAR(40) COLLATE SQL_Latin1_General_CP1_CI_AS NULL, \\n\\t[Phone] NVARCHAR(20) COLLATE SQL_Latin1_General_CP1_CI_AS NULL, \\n\\tCONSTRAINT [PK_CUSTOMER] PRIMARY KEY ([Id])\\n)\\n\\n/*\\n3 rows from Customer table:\\nId\\tFirstName\\tLastName\\tCity\\tCountry\\tPhone\\n1\\tMaria\\tAnders\\tBerlin\\tGermany\\t030-0074321\\n2\\tAna\\tTrujillo\\tMéxico D.F.\\tMexico\\t(5) 555-4729\\n3\\tAntonio\\tMoreno\\tMéxico D.F.\\tMexico\\t(5) 555-3932\\n*/\\n\\n\\nCREATE TABLE [OrderItem] (\\n\\t[Id] INTEGER NOT NULL IDENTITY(1,1), \\n\\t[OrderId] INTEGER NOT NULL, \\n\\t[ProductId] INTEGER NOT NULL, \\n\\t[UnitPrice] FLOAT(53) NULL DEFAULT ((0)), \\n\\t[Quantity] INTEGER NOT NULL DEFAULT ((1)), \\n\\tCONSTRAINT [PK_ORDERITEM] PRIMARY KEY ([Id]), \\n\\tCONSTRAINT [FK_ORDERITE_REFERENCE_ORDER] FOREIGN KEY([OrderId]) REFERENCES [Order] ([Id]), \\n\\tCONSTRAINT [FK_ORDERITE_REFERENCE_PRODUCT] FOREIGN KEY([ProductId]) REFERENCES [Product] ([Id])\\n)\\n\\n/*\\n3 rows from OrderItem table:\\nId\\tOrderId\\tProductId\\tUnitPrice\\tQuantity\\n1\\t1\\t11\\t14.0\\t12\\n2\\t1\\t42\\t9.8\\t10\\n3\\t1\\t72\\t34.8\\t5\\n*/\\n\\n\\nCREATE TABLE [Order] (\\n\\t[Id] INTEGER NOT NULL IDENTITY(1,1), \\n\\t[OrderDate] DATETIME NOT NULL DEFAULT (getdate()), \\n\\t[OrderNumber] NVARCHAR(10) COLLATE SQL_Latin1_General_CP1_CI_AS NULL, \\n\\t[CustomerId] INTEGER NOT NULL, \\n\\t[TotalAmount] FLOAT(53) NULL DEFAULT ((0)), \\n\\tCONSTRAINT [PK_ORDER] PRIMARY KEY ([Id]), \\n\\tCONSTRAINT [FK_ORDER_REFERENCE_CUSTOMER] FOREIGN KEY([CustomerId]) REFERENCES [Customer] ([Id])\\n)\\n\\n/*\\n3 rows from Order table:\\nId\\tOrderDate\\tOrderNumber\\tCustomerId\\tTotalAmount\\n1\\t2012-07-04 00:00:00\\t542378\\t85\\t440.0\\n2\\t2012-07-05 00:00:00\\t542379\\t79\\t1863.4\\n3\\t2012-07-08 00:00:00\\t542380\\t34\\t1813.0\\n*/\\n\\n\\nCREATE TABLE [Product] (\\n\\t[Id] INTEGER NOT NULL IDENTITY(1,1), \\n\\t[ProductName] NVARCHAR(50) COLLATE SQL_Latin1_General_CP1_CI_AS NOT NULL, \\n\\t[SupplierId] INTEGER NOT NULL, \\n\\t[UnitPrice] FLOAT(53) NULL DEFAULT ((0)), \\n\\t[Package] NVARCHAR(30) COLLATE SQL_Latin1_General_CP1_CI_AS NULL, \\n\\t[IsDiscontinued] BIT NOT NULL DEFAULT ((0)), \\n\\tCONSTRAINT [PK_PRODUCT] PRIMARY KEY ([Id]), \\n\\tCONSTRAINT [FK_PRODUCT_REFERENCE_SUPPLIER] FOREIGN KEY([SupplierId]) REFERENCES [Supplier] ([Id])\\n)\\n\\n/*\\n3 rows from Product table:\\nId\\tProductName\\tSupplierId\\tUnitPrice\\tPackage\\tIsDiscontinued\\n1\\tChai\\t1\\t18.0\\t10 boxes x 20 bags\\tFalse\\n2\\tChang\\t1\\t19.0\\t24 - 12 oz bottles\\tFalse\\n3\\tAniseed Syrup\\t1\\t10.0\\t12 - 550 ml bottles\\tFalse\\n*/\\n\\n\\nCREATE TABLE [Supplier] (\\n\\t[Id] INTEGER NOT NULL IDENTITY(1,1), \\n\\t[CompanyName] NVARCHAR(40) COLLATE SQL_Latin1_General_CP1_CI_AS NOT NULL, \\n\\t[ContactName] NVARCHAR(50) COLLATE SQL_Latin1_General_CP1_CI_AS NULL, \\n\\t[ContactTitle] NVARCHAR(40) COLLATE SQL_Latin1_General_CP1_CI_AS NULL, \\n\\t[City] NVARCHAR(40) COLLATE SQL_Latin1_General_CP1_CI_AS NULL, \\n\\t[Country] NVARCHAR(40) COLLATE SQL_Latin1_General_CP1_CI_AS NULL, \\n\\t[Phone] NVARCHAR(30) COLLATE SQL_Latin1_General_CP1_CI_AS NULL, \\n\\t[Fax] NVARCHAR(30) COLLATE SQL_Latin1_General_CP1_CI_AS NULL, \\n\\tCONSTRAINT [PK_SUPPLIER] PRIMARY KEY ([Id])\\n)\\n\\n/*\\n3 rows from Supplier table:\\nId\\tCompanyName\\tContactName\\tContactTitle\\tCity\\tCountry\\tPhone\\tFax\\n1\\tExotic Liquids\\tCharlotte Cooper\\tNone\\tLondon\\tUK\\t(171) 555-2222\\tNone\\n2\\tNew Orleans Cajun Delights\\tShelley Burke\\tNone\\tNew Orleans\\tUSA\\t(100) 555-4822\\tNone\\n3\\tGrandma Kelly's Homestead\\tRegina Murphy\\tNone\\tAnn Arbor\\tUSA\\t(313) 555-5735\\t(313) 555-3349\\n*/\""
      ]
     },
     "execution_count": 7,
     "metadata": {},
     "output_type": "execute_result"
    }
   ],
   "source": [
    "# Test Get Schema\n",
    "db.get_table_info()"
   ]
  },
  {
   "cell_type": "markdown",
   "metadata": {},
   "source": [
    "## Query DB using LLM"
   ]
  },
  {
   "cell_type": "code",
   "execution_count": 8,
   "metadata": {},
   "outputs": [],
   "source": [
    "def get_schema(_):\n",
    "    return db.get_table_info()\n",
    "\n",
    "def run_query(query):\n",
    "    return db.run(query)\n",
    "\n",
    "systemprompt = \"\"\"Act as an expert SQL database engineer.\n",
    "\n",
    "You will be provided with the SQL used to create the schema of an existing database.\n",
    "Your goal is to create valid, well-formed SQL that will be executed to fulfill the request.\n",
    "Use explicit table aliases where possible and do not duplicate column names across joins, make them descriptive and unique.\n",
    "Only reference the database schema, referencing anything else that wasn't defined will cause an error.\n",
    "\n",
    "Schema:\n",
    "```\n",
    "{schema}\n",
    "```\n",
    "\n",
    "Question: {question}\n",
    "\n",
    "The SQL should be valid, well-formed, and execute without error.\n",
    "Your response will be executed as is so only output SQL that is immediately runnable.\n",
    "Analyze from the perspective of other experts in your field and work it out in a step by step way to be sure you have the right answer.\n",
    "Do not format or add commentary to your response. No prose.\"\"\""
   ]
  },
  {
   "cell_type": "code",
   "execution_count": 9,
   "metadata": {},
   "outputs": [
    {
     "data": {
      "text/plain": [
       "\"\\nCREATE TABLE [Customer] (\\n\\t[Id] INTEGER NOT NULL IDENTITY(1,1), \\n\\t[FirstName] NVARCHAR(40) COLLATE SQL_Latin1_General_CP1_CI_AS NOT NULL, \\n\\t[LastName] NVARCHAR(40) COLLATE SQL_Latin1_General_CP1_CI_AS NOT NULL, \\n\\t[City] NVARCHAR(40) COLLATE SQL_Latin1_General_CP1_CI_AS NULL, \\n\\t[Country] NVARCHAR(40) COLLATE SQL_Latin1_General_CP1_CI_AS NULL, \\n\\t[Phone] NVARCHAR(20) COLLATE SQL_Latin1_General_CP1_CI_AS NULL, \\n\\tCONSTRAINT [PK_CUSTOMER] PRIMARY KEY ([Id])\\n)\\n\\n/*\\n3 rows from Customer table:\\nId\\tFirstName\\tLastName\\tCity\\tCountry\\tPhone\\n1\\tMaria\\tAnders\\tBerlin\\tGermany\\t030-0074321\\n2\\tAna\\tTrujillo\\tMéxico D.F.\\tMexico\\t(5) 555-4729\\n3\\tAntonio\\tMoreno\\tMéxico D.F.\\tMexico\\t(5) 555-3932\\n*/\\n\\n\\nCREATE TABLE [OrderItem] (\\n\\t[Id] INTEGER NOT NULL IDENTITY(1,1), \\n\\t[OrderId] INTEGER NOT NULL, \\n\\t[ProductId] INTEGER NOT NULL, \\n\\t[UnitPrice] FLOAT(53) NULL DEFAULT ((0)), \\n\\t[Quantity] INTEGER NOT NULL DEFAULT ((1)), \\n\\tCONSTRAINT [PK_ORDERITEM] PRIMARY KEY ([Id]), \\n\\tCONSTRAINT [FK_ORDERITE_REFERENCE_ORDER] FOREIGN KEY([OrderId]) REFERENCES [Order] ([Id]), \\n\\tCONSTRAINT [FK_ORDERITE_REFERENCE_PRODUCT] FOREIGN KEY([ProductId]) REFERENCES [Product] ([Id])\\n)\\n\\n/*\\n3 rows from OrderItem table:\\nId\\tOrderId\\tProductId\\tUnitPrice\\tQuantity\\n1\\t1\\t11\\t14.0\\t12\\n2\\t1\\t42\\t9.8\\t10\\n3\\t1\\t72\\t34.8\\t5\\n*/\\n\\n\\nCREATE TABLE [Order] (\\n\\t[Id] INTEGER NOT NULL IDENTITY(1,1), \\n\\t[OrderDate] DATETIME NOT NULL DEFAULT (getdate()), \\n\\t[OrderNumber] NVARCHAR(10) COLLATE SQL_Latin1_General_CP1_CI_AS NULL, \\n\\t[CustomerId] INTEGER NOT NULL, \\n\\t[TotalAmount] FLOAT(53) NULL DEFAULT ((0)), \\n\\tCONSTRAINT [PK_ORDER] PRIMARY KEY ([Id]), \\n\\tCONSTRAINT [FK_ORDER_REFERENCE_CUSTOMER] FOREIGN KEY([CustomerId]) REFERENCES [Customer] ([Id])\\n)\\n\\n/*\\n3 rows from Order table:\\nId\\tOrderDate\\tOrderNumber\\tCustomerId\\tTotalAmount\\n1\\t2012-07-04 00:00:00\\t542378\\t85\\t440.0\\n2\\t2012-07-05 00:00:00\\t542379\\t79\\t1863.4\\n3\\t2012-07-08 00:00:00\\t542380\\t34\\t1813.0\\n*/\\n\\n\\nCREATE TABLE [Product] (\\n\\t[Id] INTEGER NOT NULL IDENTITY(1,1), \\n\\t[ProductName] NVARCHAR(50) COLLATE SQL_Latin1_General_CP1_CI_AS NOT NULL, \\n\\t[SupplierId] INTEGER NOT NULL, \\n\\t[UnitPrice] FLOAT(53) NULL DEFAULT ((0)), \\n\\t[Package] NVARCHAR(30) COLLATE SQL_Latin1_General_CP1_CI_AS NULL, \\n\\t[IsDiscontinued] BIT NOT NULL DEFAULT ((0)), \\n\\tCONSTRAINT [PK_PRODUCT] PRIMARY KEY ([Id]), \\n\\tCONSTRAINT [FK_PRODUCT_REFERENCE_SUPPLIER] FOREIGN KEY([SupplierId]) REFERENCES [Supplier] ([Id])\\n)\\n\\n/*\\n3 rows from Product table:\\nId\\tProductName\\tSupplierId\\tUnitPrice\\tPackage\\tIsDiscontinued\\n1\\tChai\\t1\\t18.0\\t10 boxes x 20 bags\\tFalse\\n2\\tChang\\t1\\t19.0\\t24 - 12 oz bottles\\tFalse\\n3\\tAniseed Syrup\\t1\\t10.0\\t12 - 550 ml bottles\\tFalse\\n*/\\n\\n\\nCREATE TABLE [Supplier] (\\n\\t[Id] INTEGER NOT NULL IDENTITY(1,1), \\n\\t[CompanyName] NVARCHAR(40) COLLATE SQL_Latin1_General_CP1_CI_AS NOT NULL, \\n\\t[ContactName] NVARCHAR(50) COLLATE SQL_Latin1_General_CP1_CI_AS NULL, \\n\\t[ContactTitle] NVARCHAR(40) COLLATE SQL_Latin1_General_CP1_CI_AS NULL, \\n\\t[City] NVARCHAR(40) COLLATE SQL_Latin1_General_CP1_CI_AS NULL, \\n\\t[Country] NVARCHAR(40) COLLATE SQL_Latin1_General_CP1_CI_AS NULL, \\n\\t[Phone] NVARCHAR(30) COLLATE SQL_Latin1_General_CP1_CI_AS NULL, \\n\\t[Fax] NVARCHAR(30) COLLATE SQL_Latin1_General_CP1_CI_AS NULL, \\n\\tCONSTRAINT [PK_SUPPLIER] PRIMARY KEY ([Id])\\n)\\n\\n/*\\n3 rows from Supplier table:\\nId\\tCompanyName\\tContactName\\tContactTitle\\tCity\\tCountry\\tPhone\\tFax\\n1\\tExotic Liquids\\tCharlotte Cooper\\tNone\\tLondon\\tUK\\t(171) 555-2222\\tNone\\n2\\tNew Orleans Cajun Delights\\tShelley Burke\\tNone\\tNew Orleans\\tUSA\\t(100) 555-4822\\tNone\\n3\\tGrandma Kelly's Homestead\\tRegina Murphy\\tNone\\tAnn Arbor\\tUSA\\t(313) 555-5735\\t(313) 555-3349\\n*/\""
      ]
     },
     "execution_count": 9,
     "metadata": {},
     "output_type": "execute_result"
    }
   ],
   "source": [
    "get_schema(_)"
   ]
  },
  {
   "cell_type": "code",
   "execution_count": 10,
   "metadata": {},
   "outputs": [
    {
     "data": {
      "text/plain": [
       "RunnableLambda(...)"
      ]
     },
     "execution_count": 10,
     "metadata": {},
     "output_type": "execute_result"
    }
   ],
   "source": [
    "from operator import itemgetter\n",
    "from langchain.schema.output_parser import StrOutputParser\n",
    "from langchain.schema.runnable import RunnableLambda, RunnableMap\n",
    "\n",
    "RunnableLambda(get_schema)\n"
   ]
  },
  {
   "cell_type": "code",
   "execution_count": 11,
   "metadata": {},
   "outputs": [
    {
     "ename": "TypeError",
     "evalue": "Expected a Runnable, callable or dict.Instead got an unsupported type: <class 'str'>",
     "output_type": "error",
     "traceback": [
      "\u001b[1;31m---------------------------------------------------------------------------\u001b[0m",
      "\u001b[1;31mTypeError\u001b[0m                                 Traceback (most recent call last)",
      "\u001b[1;32mc:\\GitRepos\\GH-Public\\RazGPT\\LangChain\\notebooks\\tools-getdbschema.ipynb Cell 12\u001b[0m line \u001b[0;36m7\n\u001b[0;32m      <a href='vscode-notebook-cell:/c%3A/GitRepos/GH-Public/RazGPT/LangChain/notebooks/tools-getdbschema.ipynb#X14sZmlsZQ%3D%3D?line=0'>1</a>\u001b[0m inputs \u001b[39m=\u001b[39m {\n\u001b[0;32m      <a href='vscode-notebook-cell:/c%3A/GitRepos/GH-Public/RazGPT/LangChain/notebooks/tools-getdbschema.ipynb#X14sZmlsZQ%3D%3D?line=1'>2</a>\u001b[0m     \u001b[39m\"\u001b[39m\u001b[39mschema\u001b[39m\u001b[39m\"\u001b[39m: RunnableLambda(get_schema),\n\u001b[0;32m      <a href='vscode-notebook-cell:/c%3A/GitRepos/GH-Public/RazGPT/LangChain/notebooks/tools-getdbschema.ipynb#X14sZmlsZQ%3D%3D?line=2'>3</a>\u001b[0m     \u001b[39m\"\u001b[39m\u001b[39mquestion\u001b[39m\u001b[39m\"\u001b[39m: itemgetter(\u001b[39m\"\u001b[39m\u001b[39mquestion\u001b[39m\u001b[39m\"\u001b[39m)\n\u001b[0;32m      <a href='vscode-notebook-cell:/c%3A/GitRepos/GH-Public/RazGPT/LangChain/notebooks/tools-getdbschema.ipynb#X14sZmlsZQ%3D%3D?line=3'>4</a>\u001b[0m }\n\u001b[0;32m      <a href='vscode-notebook-cell:/c%3A/GitRepos/GH-Public/RazGPT/LangChain/notebooks/tools-getdbschema.ipynb#X14sZmlsZQ%3D%3D?line=5'>6</a>\u001b[0m sql_response \u001b[39m=\u001b[39m (\n\u001b[1;32m----> <a href='vscode-notebook-cell:/c%3A/GitRepos/GH-Public/RazGPT/LangChain/notebooks/tools-getdbschema.ipynb#X14sZmlsZQ%3D%3D?line=6'>7</a>\u001b[0m         RunnableMap(inputs)\n\u001b[0;32m      <a href='vscode-notebook-cell:/c%3A/GitRepos/GH-Public/RazGPT/LangChain/notebooks/tools-getdbschema.ipynb#X14sZmlsZQ%3D%3D?line=7'>8</a>\u001b[0m         \u001b[39m|\u001b[39;49m systemprompt\n\u001b[0;32m      <a href='vscode-notebook-cell:/c%3A/GitRepos/GH-Public/RazGPT/LangChain/notebooks/tools-getdbschema.ipynb#X14sZmlsZQ%3D%3D?line=8'>9</a>\u001b[0m         \u001b[39m|\u001b[39m chat\u001b[39m.\u001b[39mbind(stop\u001b[39m=\u001b[39m[\u001b[39m\"\u001b[39m\u001b[39m\\n\u001b[39;00m\u001b[39mSQLResult:\u001b[39m\u001b[39m\"\u001b[39m])\n\u001b[0;32m     <a href='vscode-notebook-cell:/c%3A/GitRepos/GH-Public/RazGPT/LangChain/notebooks/tools-getdbschema.ipynb#X14sZmlsZQ%3D%3D?line=9'>10</a>\u001b[0m         \u001b[39m|\u001b[39m StrOutputParser()\n\u001b[0;32m     <a href='vscode-notebook-cell:/c%3A/GitRepos/GH-Public/RazGPT/LangChain/notebooks/tools-getdbschema.ipynb#X14sZmlsZQ%3D%3D?line=10'>11</a>\u001b[0m     )\n",
      "File \u001b[1;32mc:\\Python311\\Lib\\site-packages\\langchain\\schema\\runnable\\base.py:76\u001b[0m, in \u001b[0;36mRunnable.__or__\u001b[1;34m(self, other)\u001b[0m\n\u001b[0;32m     68\u001b[0m \u001b[39mdef\u001b[39;00m \u001b[39m__or__\u001b[39m(\n\u001b[0;32m     69\u001b[0m     \u001b[39mself\u001b[39m,\n\u001b[0;32m     70\u001b[0m     other: Union[\n\u001b[1;32m   (...)\u001b[0m\n\u001b[0;32m     74\u001b[0m     ],\n\u001b[0;32m     75\u001b[0m ) \u001b[39m-\u001b[39m\u001b[39m>\u001b[39m RunnableSequence[Input, Other]:\n\u001b[1;32m---> 76\u001b[0m     \u001b[39mreturn\u001b[39;00m RunnableSequence(first\u001b[39m=\u001b[39m\u001b[39mself\u001b[39m, last\u001b[39m=\u001b[39mcoerce_to_runnable(other))\n",
      "File \u001b[1;32mc:\\Python311\\Lib\\site-packages\\langchain\\schema\\runnable\\base.py:2077\u001b[0m, in \u001b[0;36mcoerce_to_runnable\u001b[1;34m(thing)\u001b[0m\n\u001b[0;32m   2075\u001b[0m     \u001b[39mreturn\u001b[39;00m cast(Runnable[Input, Output], RunnableMap(steps\u001b[39m=\u001b[39mrunnables))\n\u001b[0;32m   2076\u001b[0m \u001b[39melse\u001b[39;00m:\n\u001b[1;32m-> 2077\u001b[0m     \u001b[39mraise\u001b[39;00m \u001b[39mTypeError\u001b[39;00m(\n\u001b[0;32m   2078\u001b[0m         \u001b[39mf\u001b[39m\u001b[39m\"\u001b[39m\u001b[39mExpected a Runnable, callable or dict.\u001b[39m\u001b[39m\"\u001b[39m\n\u001b[0;32m   2079\u001b[0m         \u001b[39mf\u001b[39m\u001b[39m\"\u001b[39m\u001b[39mInstead got an unsupported type: \u001b[39m\u001b[39m{\u001b[39;00m\u001b[39mtype\u001b[39m(thing)\u001b[39m}\u001b[39;00m\u001b[39m\"\u001b[39m\n\u001b[0;32m   2080\u001b[0m     )\n",
      "\u001b[1;31mTypeError\u001b[0m: Expected a Runnable, callable or dict.Instead got an unsupported type: <class 'str'>"
     ]
    }
   ],
   "source": [
    "inputs = {\n",
    "    \"schema\": RunnableLambda(get_schema),\n",
    "    \"question\": itemgetter(\"question\")\n",
    "}\n",
    "\n",
    "sql_response = (\n",
    "        RunnableMap(inputs)\n",
    "        | systemprompt\n",
    "        | chat.bind(stop=[\"\\nSQLResult:\"])\n",
    "        | StrOutputParser()\n",
    "    )"
   ]
  },
  {
   "cell_type": "code",
   "execution_count": null,
   "metadata": {},
   "outputs": [],
   "source": [
    "sql_response.invoke({\"question\": \"How many employees are there?\"})"
   ]
  },
  {
   "cell_type": "code",
   "execution_count": null,
   "metadata": {},
   "outputs": [],
   "source": [
    "template = \"\"\"Based on the table schema below, question, sql query, and sql response, write a natural language response:\n",
    "{schema}\n",
    "\n",
    "Question: {question}\n",
    "SQL Query: {query}\n",
    "SQL Response: {response}\"\"\"\n",
    "prompt_response = ChatPromptTemplate.from_template(template)"
   ]
  },
  {
   "cell_type": "code",
   "execution_count": null,
   "metadata": {},
   "outputs": [],
   "source": [
    "full_chain = (\n",
    "    RunnableMap({\n",
    "        \"question\": itemgetter(\"question\"),\n",
    "        \"query\": sql_response,\n",
    "    }) \n",
    "    | {\n",
    "        \"schema\": RunnableLambda(get_schema),\n",
    "        \"question\": itemgetter(\"question\"),\n",
    "        \"query\": itemgetter(\"query\"),\n",
    "        \"response\": lambda x: db.run(x[\"query\"])    \n",
    "    } \n",
    "    | prompt_response \n",
    "    | chat\n",
    ")"
   ]
  },
  {
   "cell_type": "code",
   "execution_count": null,
   "metadata": {},
   "outputs": [],
   "source": [
    "full_chain.invoke({\"question\": \"How many employees are there?\"})"
   ]
  }
 ],
 "metadata": {
  "kernelspec": {
   "display_name": "Python 3",
   "language": "python",
   "name": "python3"
  },
  "language_info": {
   "codemirror_mode": {
    "name": "ipython",
    "version": 3
   },
   "file_extension": ".py",
   "mimetype": "text/x-python",
   "name": "python",
   "nbconvert_exporter": "python",
   "pygments_lexer": "ipython3",
   "version": "3.11.5"
  },
  "orig_nbformat": 4
 },
 "nbformat": 4,
 "nbformat_minor": 2
}
