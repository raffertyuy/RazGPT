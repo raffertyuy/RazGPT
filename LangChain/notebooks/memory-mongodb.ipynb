{
 "cells": [
  {
   "cell_type": "markdown",
   "metadata": {},
   "source": [
    "## Environment Setup"
   ]
  },
  {
   "cell_type": "code",
   "execution_count": 1,
   "metadata": {},
   "outputs": [],
   "source": [
    "import os\n",
    "from dotenv import load_dotenv\n",
    "\n",
    "# Set environment variables in the .env file.\n",
    "load_dotenv()\n",
    "\n",
    "COMPLETION_MODEL = os.environ[\"OPENAI_COMPLETION_MODEL\"]\n",
    "COMPLETION_DEPLOYMENT = os.environ[\"OPENAI_COMPLETION_DEPLOYMENT\"]\n",
    "CHAT_MODEL = os.environ[\"OPENAI_CHAT_MODEL\"]\n",
    "CHAT_DEPLOYMENT = os.environ[\"OPENAI_CHAT_DEPLOYMENT\"]\n",
    "CHAT_API_VERSION = os.environ[\"OPENAI_CHAT_API_VERSION\"]\n",
    "\n",
    "MONGODB_CONNECTIONSTRING = os.environ[\"MONGODB_CONNECTIONSTRING\"]\n",
    "sessionId = 'test-session-id'"
   ]
  },
  {
   "cell_type": "markdown",
   "metadata": {},
   "source": [
    "## Initiate MongoDB (using Azure CosmosDB)"
   ]
  },
  {
   "cell_type": "code",
   "execution_count": 3,
   "metadata": {},
   "outputs": [],
   "source": [
    "from langchain.memory import MongoDBChatMessageHistory\n",
    "\n",
    "history = MongoDBChatMessageHistory(\n",
    "    connection_string=MONGODB_CONNECTIONSTRING,\n",
    "    session_id=sessionId\n",
    ")\n",
    "\n",
    "history.clear()\n",
    "history.add_ai_message(\"Hello, I am an AI assistant.\")\n",
    "history.add_user_message(\"Hello, I'm Kazuya.\")\n",
    "history.add_ai_message(\"Hi Kazuya, how can I help you today?\")"
   ]
  },
  {
   "cell_type": "code",
   "execution_count": 5,
   "metadata": {},
   "outputs": [
    {
     "data": {
      "text/plain": [
       "[AIMessage(content='Hello, I am an AI assistant.', additional_kwargs={}, example=False),\n",
       " HumanMessage(content=\"Hello, I'm Kazuya.\", additional_kwargs={}, example=False),\n",
       " AIMessage(content='Hi Kazuya, how can I help you today?', additional_kwargs={}, example=False)]"
      ]
     },
     "execution_count": 5,
     "metadata": {},
     "output_type": "execute_result"
    }
   ],
   "source": [
    "# Test memory storage, try retrieving the history from Redis.\n",
    "retrievedHistory = MongoDBChatMessageHistory(\n",
    "    connection_string=MONGODB_CONNECTIONSTRING,\n",
    "    session_id=sessionId\n",
    ")\n",
    "\n",
    "retrievedHistory.messages"
   ]
  },
  {
   "cell_type": "markdown",
   "metadata": {},
   "source": [
    "## LangChain MongoDB Memory"
   ]
  },
  {
   "cell_type": "code",
   "execution_count": 6,
   "metadata": {},
   "outputs": [],
   "source": [
    "from langchain.llms import AzureOpenAI\n",
    "from langchain.chat_models import AzureChatOpenAI\n",
    "from langchain.chains import ConversationChain\n",
    "\n",
    "llm = AzureOpenAI(\n",
    "    model_name=COMPLETION_MODEL,\n",
    "    deployment_name=COMPLETION_DEPLOYMENT,\n",
    "    max_tokens=50,\n",
    "    temperature=0.3,\n",
    "    verbose=True\n",
    ")\n",
    "\n",
    "chat = AzureChatOpenAI(\n",
    "    deployment_name=CHAT_DEPLOYMENT,\n",
    "    openai_api_version=CHAT_API_VERSION,\n",
    "    max_tokens=100,\n",
    "    temperature=0.3,\n",
    "    verbose=True\n",
    ")\n",
    "\n",
    "conversation = ConversationChain(\n",
    "    llm=chat,\n",
    "    verbose=True)"
   ]
  },
  {
   "cell_type": "code",
   "execution_count": 7,
   "metadata": {},
   "outputs": [
    {
     "name": "stdout",
     "output_type": "stream",
     "text": [
      "\n",
      "\n",
      "\u001b[1m> Entering new ConversationChain chain...\u001b[0m\n",
      "Prompt after formatting:\n",
      "\u001b[32;1m\u001b[1;3mThe following is a friendly conversation between a human and an AI. The AI is talkative and provides lots of specific details from its context. If the AI does not know the answer to a question, it truthfully says it does not know.\n",
      "\n",
      "Current conversation:\n",
      "AI: Hello, I am an AI assistant.\n",
      "Human: Hello, I'm Kazuya.\n",
      "AI: Hi Kazuya, how can I help you today?\n",
      "Human: Can you tell me about our health benefits?\n",
      "AI:\u001b[0m\n",
      "\n",
      "\u001b[1m> Finished chain.\u001b[0m\n",
      "\n",
      "\n",
      "\u001b[1m> Entering new ConversationChain chain...\u001b[0m\n",
      "Prompt after formatting:\n",
      "\u001b[32;1m\u001b[1;3mThe following is a friendly conversation between a human and an AI. The AI is talkative and provides lots of specific details from its context. If the AI does not know the answer to a question, it truthfully says it does not know.\n",
      "\n",
      "Current conversation:\n",
      "Human: Hello, I'm Kazuya.\n",
      "AI: Hi Kazuya, how can I help you today?\n",
      "Human: Can you tell me about our health benefits?\n",
      "AI: Sure, Kazuya. Our health benefits include medical, dental, and vision coverage. We also offer a wellness program that includes gym membership discounts, nutrition counseling, and mental health support. Our medical plan includes options for both HMO and PPO plans, with a range of deductibles and copays. Our dental plan covers preventative care, basic procedures, and major procedures. And our vision plan covers eye exams, glasses, and contact lenses. Is there anything specific you would like me to look up\n",
      "Human: Can I claim for a new pair of glasses?\n",
      "AI:\u001b[0m\n",
      "\n",
      "\u001b[1m> Finished chain.\u001b[0m\n",
      "\n",
      "\n",
      "\u001b[1m> Entering new ConversationChain chain...\u001b[0m\n",
      "Prompt after formatting:\n",
      "\u001b[32;1m\u001b[1;3mThe following is a friendly conversation between a human and an AI. The AI is talkative and provides lots of specific details from its context. If the AI does not know the answer to a question, it truthfully says it does not know.\n",
      "\n",
      "Current conversation:\n",
      "Human: Can you tell me about our health benefits?\n",
      "AI: Sure, Kazuya. Our health benefits include medical, dental, and vision coverage. We also offer a wellness program that includes gym membership discounts, nutrition counseling, and mental health support. Our medical plan includes options for both HMO and PPO plans, with a range of deductibles and copays. Our dental plan covers preventative care, basic procedures, and major procedures. And our vision plan covers eye exams, glasses, and contact lenses. Is there anything specific you would like me to look up\n",
      "Human: Can I claim for a new pair of glasses?\n",
      "AI: Yes, Kazuya. You can claim for a new pair of glasses under our vision plan. The plan covers the cost of eye exams, glasses, and contact lenses. However, there may be certain limitations and restrictions on the coverage, so it's best to check your plan details or contact our benefits team for more information.\n",
      "Human: How about skin moisturizers?\n",
      "AI:\u001b[0m\n",
      "\n",
      "\u001b[1m> Finished chain.\u001b[0m\n"
     ]
    },
    {
     "data": {
      "text/plain": [
       "\"I'm sorry, Kazuya, but skin moisturizers are not typically covered under our health benefits. However, we do offer a wellness program that includes resources for maintaining healthy skin, such as tips for staying hydrated and protecting your skin from the sun. Would you like me to provide more information on our wellness program?\""
      ]
     },
     "execution_count": 7,
     "metadata": {},
     "output_type": "execute_result"
    }
   ],
   "source": [
    "from langchain.memory import ConversationBufferWindowMemory\n",
    "\n",
    "memory = ConversationBufferWindowMemory(\n",
    "    k = 2,\n",
    "    chat_memory=retrievedHistory\n",
    ")\n",
    "\n",
    "conversation.memory = memory\n",
    "conversation.predict(input=\"Can you tell me about our health benefits?\")\n",
    "conversation.predict(input=\"Can I claim for a new pair of glasses?\")\n",
    "conversation.predict(input=\"How about skin moisturizers?\")"
   ]
  },
  {
   "cell_type": "markdown",
   "metadata": {},
   "source": [
    "## Check MongoDB"
   ]
  },
  {
   "cell_type": "code",
   "execution_count": 8,
   "metadata": {},
   "outputs": [
    {
     "data": {
      "text/plain": [
       "[AIMessage(content='Hello, I am an AI assistant.', additional_kwargs={}, example=False),\n",
       " HumanMessage(content=\"Hello, I'm Kazuya.\", additional_kwargs={}, example=False),\n",
       " AIMessage(content='Hi Kazuya, how can I help you today?', additional_kwargs={}, example=False),\n",
       " HumanMessage(content='Can you tell me about our health benefits?', additional_kwargs={}, example=False),\n",
       " AIMessage(content='Sure, Kazuya. Our health benefits include medical, dental, and vision coverage. We also offer a wellness program that includes gym membership discounts, nutrition counseling, and mental health support. Our medical plan includes options for both HMO and PPO plans, with a range of deductibles and copays. Our dental plan covers preventative care, basic procedures, and major procedures. And our vision plan covers eye exams, glasses, and contact lenses. Is there anything specific you would like me to look up', additional_kwargs={}, example=False),\n",
       " HumanMessage(content='Can I claim for a new pair of glasses?', additional_kwargs={}, example=False),\n",
       " AIMessage(content=\"Yes, Kazuya. You can claim for a new pair of glasses under our vision plan. The plan covers the cost of eye exams, glasses, and contact lenses. However, there may be certain limitations and restrictions on the coverage, so it's best to check your plan details or contact our benefits team for more information.\", additional_kwargs={}, example=False),\n",
       " HumanMessage(content='How about skin moisturizers?', additional_kwargs={}, example=False),\n",
       " AIMessage(content=\"I'm sorry, Kazuya, but skin moisturizers are not typically covered under our health benefits. However, we do offer a wellness program that includes resources for maintaining healthy skin, such as tips for staying hydrated and protecting your skin from the sun. Would you like me to provide more information on our wellness program?\", additional_kwargs={}, example=False)]"
      ]
     },
     "execution_count": 8,
     "metadata": {},
     "output_type": "execute_result"
    }
   ],
   "source": [
    "# Test memory storage, try retrieving the history from Redis.\n",
    "latestHistory = MongoDBChatMessageHistory(\n",
    "    connection_string=MONGODB_CONNECTIONSTRING,\n",
    "    session_id=sessionId\n",
    ")\n",
    "\n",
    "latestHistory.messages"
   ]
  }
 ],
 "metadata": {
  "kernelspec": {
   "display_name": "Python 3",
   "language": "python",
   "name": "python3"
  },
  "language_info": {
   "codemirror_mode": {
    "name": "ipython",
    "version": 3
   },
   "file_extension": ".py",
   "mimetype": "text/x-python",
   "name": "python",
   "nbconvert_exporter": "python",
   "pygments_lexer": "ipython3",
   "version": "3.11.4"
  },
  "orig_nbformat": 4
 },
 "nbformat": 4,
 "nbformat_minor": 2
}
