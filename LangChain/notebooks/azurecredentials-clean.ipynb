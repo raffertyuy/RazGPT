{
 "cells": [
  {
   "cell_type": "code",
   "execution_count": 4,
   "metadata": {},
   "outputs": [
    {
     "name": "stdout",
     "output_type": "stream",
     "text": [
      "OpenAI is an artificial intelligence research laboratory consisting of the for-profit corporation OpenAI LP and its parent company, the non-profit OpenAI Inc. Azure OpenAI, on the other hand, is a collaboration between Microsoft and OpenAI that allows developers to access OpenAI's GPT-3 language model through Microsoft's Azure cloud computing platform. While OpenAI focuses on advancing AI research and developing new AI technologies, Azure OpenAI provides a platform for developers to use these technologies in their own applications.\n",
      "LLMs, or large language models, are a type of artificial intelligence model that can generate human-like text. Some other examples of LLMs include Google's BERT, Facebook's RoBERTa, and Hugging Face's GPT-2. These models have been used for a variety of applications, such as language translation, chatbots, and content generation.\n",
      "It's difficult to say which LLM is the best as it depends on the specific task or application. Each LLM has its own strengths and weaknesses, and some may perform better than others in certain scenarios. It's important to evaluate and compare different models based on their performance metrics and suitability for the task at hand.\n"
     ]
    }
   ],
   "source": [
    "from azure.identity import DefaultAzureCredential\n",
    "azure_credential = DefaultAzureCredential()\n",
    "ad_token = azure_credential.get_token(\"https://cognitiveservices.azure.com/.default\")\n",
    "\n",
    "OPENAI_API_VERSION = \"2023-05-15\"\n",
    "OPENAI_API_BASE = \"http://razopenaigw.eastus.cloudapp.azure.com\"\n",
    "CHAT_DEPLOYMENT = \"gpt35\"\n",
    "\n",
    "from langchain.chat_models import AzureChatOpenAI\n",
    "from langchain.chains import ConversationChain\n",
    "\n",
    "chat = AzureChatOpenAI(\n",
    "    openai_api_type=\"azure_ad\",\n",
    "    openai_api_key=ad_token.token,\n",
    "    openai_api_base=OPENAI_API_BASE,\n",
    "    openai_api_version=OPENAI_API_VERSION,\n",
    "    deployment_name=CHAT_DEPLOYMENT,\n",
    "    max_tokens=100,\n",
    "    temperature=0.3\n",
    ")\n",
    "\n",
    "conversation = ConversationChain(llm=chat)\n",
    "\n",
    "response1 = conversation.predict(input=\"What is the difference between OpenAI and Azure OpenAI?\")\n",
    "response2 = conversation.predict(input=\"What are other LLMs?\")\n",
    "response3 = conversation.predict(input=\"Which LLM is the best?\")\n",
    "print(response1 + \"\\n\" + response2 + \"\\n\" + response3)"
   ]
  }
 ],
 "metadata": {
  "kernelspec": {
   "display_name": "Python 3",
   "language": "python",
   "name": "python3"
  },
  "language_info": {
   "codemirror_mode": {
    "name": "ipython",
    "version": 3
   },
   "file_extension": ".py",
   "mimetype": "text/x-python",
   "name": "python",
   "nbconvert_exporter": "python",
   "pygments_lexer": "ipython3",
   "version": "3.11.5"
  },
  "orig_nbformat": 4
 },
 "nbformat": 4,
 "nbformat_minor": 2
}
