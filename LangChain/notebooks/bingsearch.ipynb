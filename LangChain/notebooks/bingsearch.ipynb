{
 "cells": [
  {
   "cell_type": "markdown",
   "metadata": {},
   "source": [
    "This notebook tries out Bing Search using LangChain."
   ]
  },
  {
   "cell_type": "code",
   "execution_count": 9,
   "metadata": {},
   "outputs": [],
   "source": [
    "import os\n",
    "from dotenv import load_dotenv\n",
    "\n",
    "# Set environment variables in the .env file.\n",
    "load_dotenv()\n",
    "\n",
    "BING_SEARCH_URL = os.environ[\"BING_SEARCH_URL\"]\n",
    "BING_SUBSCRIPTION_KEY = os.environ[\"BING_SUBSCRIPTION_KEY\"]\n",
    "BING_CUSTOM_SEARCH_URL = os.environ[\"BING_CUSTOM_SEARCH_URL\"]\n",
    "BING_CUSTOM_SUBSCRIPTION_KEY = os.environ[\"BING_CUSTOM_SUBSCRIPTION_KEY\"]"
   ]
  },
  {
   "cell_type": "code",
   "execution_count": 10,
   "metadata": {},
   "outputs": [
    {
     "name": "stdout",
     "output_type": "stream",
     "text": [
      "https://api.bing.microsoft.com/v7.0/custom/search\n",
      "https://api.bing.microsoft.com/v7.0/custom/search\n"
     ]
    }
   ],
   "source": [
    "print(BING_SEARCH_URL)\n",
    "print(BING_CUSTOM_SEARCH_URL)"
   ]
  },
  {
   "cell_type": "code",
   "execution_count": 8,
   "metadata": {},
   "outputs": [
    {
     "ename": "HTTPError",
     "evalue": "400 Client Error: BadRequest for url: https://api.bing.microsoft.com/v7.0/custom/search?q=healthcare&count=3&textDecorations=True&textFormat=HTML",
     "output_type": "error",
     "traceback": [
      "\u001b[1;31m---------------------------------------------------------------------------\u001b[0m",
      "\u001b[1;31mHTTPError\u001b[0m                                 Traceback (most recent call last)",
      "Cell \u001b[1;32mIn[8], line 7\u001b[0m\n\u001b[0;32m      1\u001b[0m \u001b[39mfrom\u001b[39;00m \u001b[39mlangchain\u001b[39;00m\u001b[39m.\u001b[39;00m\u001b[39mutilities\u001b[39;00m \u001b[39mimport\u001b[39;00m BingSearchAPIWrapper\n\u001b[0;32m      2\u001b[0m search \u001b[39m=\u001b[39m BingSearchAPIWrapper(\n\u001b[0;32m      3\u001b[0m     bing_search_url\u001b[39m=\u001b[39mBING_SEARCH_URL,\n\u001b[0;32m      4\u001b[0m     bing_subscription_key\u001b[39m=\u001b[39mBING_SUBSCRIPTION_KEY,\n\u001b[0;32m      5\u001b[0m     k\u001b[39m=\u001b[39m\u001b[39m3\u001b[39m\n\u001b[0;32m      6\u001b[0m )\n\u001b[1;32m----> 7\u001b[0m search\u001b[39m.\u001b[39;49mrun(\u001b[39m\"\u001b[39;49m\u001b[39mhealthcare\u001b[39;49m\u001b[39m\"\u001b[39;49m)\n",
      "File \u001b[1;32mc:\\Python311\\Lib\\site-packages\\langchain\\utilities\\bing_search.py:67\u001b[0m, in \u001b[0;36mBingSearchAPIWrapper.run\u001b[1;34m(self, query)\u001b[0m\n\u001b[0;32m     65\u001b[0m \u001b[39m\u001b[39m\u001b[39m\"\"\"Run query through BingSearch and parse result.\"\"\"\u001b[39;00m\n\u001b[0;32m     66\u001b[0m snippets \u001b[39m=\u001b[39m []\n\u001b[1;32m---> 67\u001b[0m results \u001b[39m=\u001b[39m \u001b[39mself\u001b[39;49m\u001b[39m.\u001b[39;49m_bing_search_results(query, count\u001b[39m=\u001b[39;49m\u001b[39mself\u001b[39;49m\u001b[39m.\u001b[39;49mk)\n\u001b[0;32m     68\u001b[0m \u001b[39mif\u001b[39;00m \u001b[39mlen\u001b[39m(results) \u001b[39m==\u001b[39m \u001b[39m0\u001b[39m:\n\u001b[0;32m     69\u001b[0m     \u001b[39mreturn\u001b[39;00m \u001b[39m\"\u001b[39m\u001b[39mNo good Bing Search Result was found\u001b[39m\u001b[39m\"\u001b[39m\n",
      "File \u001b[1;32mc:\\Python311\\Lib\\site-packages\\langchain\\utilities\\bing_search.py:41\u001b[0m, in \u001b[0;36mBingSearchAPIWrapper._bing_search_results\u001b[1;34m(self, search_term, count)\u001b[0m\n\u001b[0;32m     32\u001b[0m params \u001b[39m=\u001b[39m {\n\u001b[0;32m     33\u001b[0m     \u001b[39m\"\u001b[39m\u001b[39mq\u001b[39m\u001b[39m\"\u001b[39m: search_term,\n\u001b[0;32m     34\u001b[0m     \u001b[39m\"\u001b[39m\u001b[39mcount\u001b[39m\u001b[39m\"\u001b[39m: count,\n\u001b[0;32m     35\u001b[0m     \u001b[39m\"\u001b[39m\u001b[39mtextDecorations\u001b[39m\u001b[39m\"\u001b[39m: \u001b[39mTrue\u001b[39;00m,\n\u001b[0;32m     36\u001b[0m     \u001b[39m\"\u001b[39m\u001b[39mtextFormat\u001b[39m\u001b[39m\"\u001b[39m: \u001b[39m\"\u001b[39m\u001b[39mHTML\u001b[39m\u001b[39m\"\u001b[39m,\n\u001b[0;32m     37\u001b[0m }\n\u001b[0;32m     38\u001b[0m response \u001b[39m=\u001b[39m requests\u001b[39m.\u001b[39mget(\n\u001b[0;32m     39\u001b[0m     \u001b[39mself\u001b[39m\u001b[39m.\u001b[39mbing_search_url, headers\u001b[39m=\u001b[39mheaders, params\u001b[39m=\u001b[39mparams  \u001b[39m# type: ignore\u001b[39;00m\n\u001b[0;32m     40\u001b[0m )\n\u001b[1;32m---> 41\u001b[0m response\u001b[39m.\u001b[39;49mraise_for_status()\n\u001b[0;32m     42\u001b[0m search_results \u001b[39m=\u001b[39m response\u001b[39m.\u001b[39mjson()\n\u001b[0;32m     43\u001b[0m \u001b[39mreturn\u001b[39;00m search_results[\u001b[39m\"\u001b[39m\u001b[39mwebPages\u001b[39m\u001b[39m\"\u001b[39m][\u001b[39m\"\u001b[39m\u001b[39mvalue\u001b[39m\u001b[39m\"\u001b[39m]\n",
      "File \u001b[1;32m~\\AppData\\Roaming\\Python\\Python311\\site-packages\\requests\\models.py:1021\u001b[0m, in \u001b[0;36mResponse.raise_for_status\u001b[1;34m(self)\u001b[0m\n\u001b[0;32m   1016\u001b[0m     http_error_msg \u001b[39m=\u001b[39m (\n\u001b[0;32m   1017\u001b[0m         \u001b[39mf\u001b[39m\u001b[39m\"\u001b[39m\u001b[39m{\u001b[39;00m\u001b[39mself\u001b[39m\u001b[39m.\u001b[39mstatus_code\u001b[39m}\u001b[39;00m\u001b[39m Server Error: \u001b[39m\u001b[39m{\u001b[39;00mreason\u001b[39m}\u001b[39;00m\u001b[39m for url: \u001b[39m\u001b[39m{\u001b[39;00m\u001b[39mself\u001b[39m\u001b[39m.\u001b[39murl\u001b[39m}\u001b[39;00m\u001b[39m\"\u001b[39m\n\u001b[0;32m   1018\u001b[0m     )\n\u001b[0;32m   1020\u001b[0m \u001b[39mif\u001b[39;00m http_error_msg:\n\u001b[1;32m-> 1021\u001b[0m     \u001b[39mraise\u001b[39;00m HTTPError(http_error_msg, response\u001b[39m=\u001b[39m\u001b[39mself\u001b[39m)\n",
      "\u001b[1;31mHTTPError\u001b[0m: 400 Client Error: BadRequest for url: https://api.bing.microsoft.com/v7.0/custom/search?q=healthcare&count=3&textDecorations=True&textFormat=HTML"
     ]
    }
   ],
   "source": [
    "from langchain.utilities import BingSearchAPIWrapper\n",
    "search = BingSearchAPIWrapper(\n",
    "    bing_search_url=BING_SEARCH_URL,\n",
    "    bing_subscription_key=BING_SUBSCRIPTION_KEY,\n",
    "    k=3\n",
    ")\n",
    "search.run(\"healthcare\")"
   ]
  },
  {
   "cell_type": "code",
   "execution_count": null,
   "metadata": {},
   "outputs": [],
   "source": [
    "from langchain.utilities import BingSearchAPIWrapper\n",
    "search = BingSearchAPIWrapper(\n",
    "    bing_search_url=BING_CUSTOM_SEARCH_URL,\n",
    "    bing_subscription_key=BING_CUSTOM_SUBSCRIPTION_KEY,\n",
    "    k=3\n",
    ")\n",
    "search.run(\"healthcare\")"
   ]
  }
 ],
 "metadata": {
  "kernelspec": {
   "display_name": "Python 3",
   "language": "python",
   "name": "python3"
  },
  "language_info": {
   "codemirror_mode": {
    "name": "ipython",
    "version": 3
   },
   "file_extension": ".py",
   "mimetype": "text/x-python",
   "name": "python",
   "nbconvert_exporter": "python",
   "pygments_lexer": "ipython3",
   "version": "3.11.4"
  },
  "orig_nbformat": 4
 },
 "nbformat": 4,
 "nbformat_minor": 2
}
