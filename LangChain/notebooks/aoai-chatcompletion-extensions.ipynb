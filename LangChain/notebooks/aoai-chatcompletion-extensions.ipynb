{
 "cells": [
  {
   "cell_type": "markdown",
   "metadata": {},
   "source": [
    "## Environment Setup"
   ]
  },
  {
   "cell_type": "code",
   "execution_count": null,
   "metadata": {},
   "outputs": [],
   "source": [
    "import os\n",
    "from dotenv import load_dotenv\n",
    "\n",
    "# Set environment variables in the .env file.\n",
    "load_dotenv()\n",
    "\n",
    "CHAT_MODEL = os.environ[\"OPENAI_CHAT_MODEL\"]\n",
    "CHAT_DEPLOYMENT = os.environ[\"OPENAI_CHAT_DEPLOYMENT\"]\n",
    "OPENAI_API_VERSION = os.environ[\"OPENAI_API_VERSION\"]"
   ]
  },
  {
   "cell_type": "markdown",
   "metadata": {},
   "source": [
    "## Use Azure OpenAI Chat Completion Extension\n",
    "https://learn.microsoft.com/en-us/azure/ai-services/openai/reference#completions-extensions"
   ]
  },
  {
   "cell_type": "code",
   "execution_count": null,
   "metadata": {},
   "outputs": [],
   "source": [
    "from langchain.chat_models import AzureChatOpenAI\n",
    "from langchain.chains import ConversationChain\n",
    "\n",
    "chat = AzureChatOpenAI(\n",
    "    deployment_name=CHAT_DEPLOYMENT,\n",
    "    verbose=True,\n",
    "    dataSources: [\n",
    "            {\n",
    "                \"type\": \"AzureCognitiveSearch\",\n",
    "                \"parameters\": {\n",
    "                    \"endpoint\": f\"https://{AZURE_SEARCH_SERVICE}.search.windows.net\",\n",
    "                    \"key\": AZURE_SEARCH_KEY,\n",
    "                    \"indexName\": AZURE_SEARCH_INDEX,\n",
    "                    \"fieldsMapping\": {\n",
    "                        \"contentField\": AZURE_SEARCH_CONTENT_COLUMNS.split(\"|\") if AZURE_SEARCH_CONTENT_COLUMNS else [],\n",
    "                        \"titleField\": AZURE_SEARCH_TITLE_COLUMN if AZURE_SEARCH_TITLE_COLUMN else None,\n",
    "                        \"urlField\": AZURE_SEARCH_URL_COLUMN if AZURE_SEARCH_URL_COLUMN else None,\n",
    "                        \"filepathField\": AZURE_SEARCH_FILENAME_COLUMN if AZURE_SEARCH_FILENAME_COLUMN else None\n",
    "                    },\n",
    "                    \"inScope\": True if AZURE_SEARCH_ENABLE_IN_DOMAIN.lower() == \"true\" else False,\n",
    "                    \"topNDocuments\": AZURE_SEARCH_TOP_K,\n",
    "                    \"queryType\": \"semantic\" if AZURE_SEARCH_USE_SEMANTIC_SEARCH.lower() == \"true\" else \"simple\",\n",
    "                    \"semanticConfiguration\": AZURE_SEARCH_SEMANTIC_SEARCH_CONFIG if AZURE_SEARCH_USE_SEMANTIC_SEARCH.lower() == \"true\" and AZURE_SEARCH_SEMANTIC_SEARCH_CONFIG else \"\",\n",
    "                    \"roleInformation\": AZURE_OPENAI_SYSTEM_MESSAGE\n",
    "                }\n",
    "            }\n",
    "        ]\n",
    ")\n",
    "\n",
    "conversation = ConversationChain(\n",
    "    llm=chat,\n",
    "    verbose=True)"
   ]
  }
 ],
 "metadata": {
  "language_info": {
   "name": "python"
  },
  "orig_nbformat": 4
 },
 "nbformat": 4,
 "nbformat_minor": 2
}
