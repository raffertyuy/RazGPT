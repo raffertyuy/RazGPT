{
 "cells": [
  {
   "cell_type": "code",
   "execution_count": 31,
   "metadata": {},
   "outputs": [],
   "source": [
    "from qdrant_client import QdrantClient\n",
    "from qdrant_client.http.models import Distance, VectorParams"
   ]
  },
  {
   "cell_type": "code",
   "execution_count": 46,
   "metadata": {},
   "outputs": [
    {
     "ename": "ResponseHandlingException",
     "evalue": "timed out",
     "output_type": "error",
     "traceback": [
      "\u001b[1;31m---------------------------------------------------------------------------\u001b[0m",
      "\u001b[1;31mTimeoutError\u001b[0m                              Traceback (most recent call last)",
      "File \u001b[1;32mc:\\Python311\\Lib\\site-packages\\httpcore\\_exceptions.py:10\u001b[0m, in \u001b[0;36mmap_exceptions\u001b[1;34m(map)\u001b[0m\n\u001b[0;32m      9\u001b[0m \u001b[39mtry\u001b[39;00m:\n\u001b[1;32m---> 10\u001b[0m     \u001b[39myield\u001b[39;00m\n\u001b[0;32m     11\u001b[0m \u001b[39mexcept\u001b[39;00m \u001b[39mException\u001b[39;00m \u001b[39mas\u001b[39;00m exc:  \u001b[39m# noqa: PIE786\u001b[39;00m\n",
      "File \u001b[1;32mc:\\Python311\\Lib\\site-packages\\httpcore\\backends\\sync.py:28\u001b[0m, in \u001b[0;36mSyncStream.read\u001b[1;34m(self, max_bytes, timeout)\u001b[0m\n\u001b[0;32m     27\u001b[0m \u001b[39mself\u001b[39m\u001b[39m.\u001b[39m_sock\u001b[39m.\u001b[39msettimeout(timeout)\n\u001b[1;32m---> 28\u001b[0m \u001b[39mreturn\u001b[39;00m \u001b[39mself\u001b[39;49m\u001b[39m.\u001b[39;49m_sock\u001b[39m.\u001b[39;49mrecv(max_bytes)\n",
      "\u001b[1;31mTimeoutError\u001b[0m: timed out",
      "\nThe above exception was the direct cause of the following exception:\n",
      "\u001b[1;31mReadTimeout\u001b[0m                               Traceback (most recent call last)",
      "File \u001b[1;32mc:\\Python311\\Lib\\site-packages\\httpx\\_transports\\default.py:60\u001b[0m, in \u001b[0;36mmap_httpcore_exceptions\u001b[1;34m()\u001b[0m\n\u001b[0;32m     59\u001b[0m \u001b[39mtry\u001b[39;00m:\n\u001b[1;32m---> 60\u001b[0m     \u001b[39myield\u001b[39;00m\n\u001b[0;32m     61\u001b[0m \u001b[39mexcept\u001b[39;00m \u001b[39mException\u001b[39;00m \u001b[39mas\u001b[39;00m exc:  \u001b[39m# noqa: PIE-786\u001b[39;00m\n",
      "File \u001b[1;32mc:\\Python311\\Lib\\site-packages\\httpx\\_transports\\default.py:218\u001b[0m, in \u001b[0;36mHTTPTransport.handle_request\u001b[1;34m(self, request)\u001b[0m\n\u001b[0;32m    217\u001b[0m \u001b[39mwith\u001b[39;00m map_httpcore_exceptions():\n\u001b[1;32m--> 218\u001b[0m     resp \u001b[39m=\u001b[39m \u001b[39mself\u001b[39;49m\u001b[39m.\u001b[39;49m_pool\u001b[39m.\u001b[39;49mhandle_request(req)\n\u001b[0;32m    220\u001b[0m \u001b[39massert\u001b[39;00m \u001b[39misinstance\u001b[39m(resp\u001b[39m.\u001b[39mstream, typing\u001b[39m.\u001b[39mIterable)\n",
      "File \u001b[1;32mc:\\Python311\\Lib\\site-packages\\httpcore\\_sync\\connection_pool.py:261\u001b[0m, in \u001b[0;36mConnectionPool.handle_request\u001b[1;34m(self, request)\u001b[0m\n\u001b[0;32m    260\u001b[0m     \u001b[39mself\u001b[39m\u001b[39m.\u001b[39mresponse_closed(status)\n\u001b[1;32m--> 261\u001b[0m     \u001b[39mraise\u001b[39;00m exc\n\u001b[0;32m    262\u001b[0m \u001b[39melse\u001b[39;00m:\n",
      "File \u001b[1;32mc:\\Python311\\Lib\\site-packages\\httpcore\\_sync\\connection_pool.py:245\u001b[0m, in \u001b[0;36mConnectionPool.handle_request\u001b[1;34m(self, request)\u001b[0m\n\u001b[0;32m    244\u001b[0m \u001b[39mtry\u001b[39;00m:\n\u001b[1;32m--> 245\u001b[0m     response \u001b[39m=\u001b[39m connection\u001b[39m.\u001b[39;49mhandle_request(request)\n\u001b[0;32m    246\u001b[0m \u001b[39mexcept\u001b[39;00m ConnectionNotAvailable:\n\u001b[0;32m    247\u001b[0m     \u001b[39m# The ConnectionNotAvailable exception is a special case, that\u001b[39;00m\n\u001b[0;32m    248\u001b[0m     \u001b[39m# indicates we need to retry the request on a new connection.\u001b[39;00m\n\u001b[1;32m   (...)\u001b[0m\n\u001b[0;32m    252\u001b[0m     \u001b[39m# might end up as an HTTP/2 connection, but which actually ends\u001b[39;00m\n\u001b[0;32m    253\u001b[0m     \u001b[39m# up as HTTP/1.1.\u001b[39;00m\n",
      "File \u001b[1;32mc:\\Python311\\Lib\\site-packages\\httpcore\\_sync\\connection.py:96\u001b[0m, in \u001b[0;36mHTTPConnection.handle_request\u001b[1;34m(self, request)\u001b[0m\n\u001b[0;32m     94\u001b[0m         \u001b[39mraise\u001b[39;00m ConnectionNotAvailable()\n\u001b[1;32m---> 96\u001b[0m \u001b[39mreturn\u001b[39;00m \u001b[39mself\u001b[39;49m\u001b[39m.\u001b[39;49m_connection\u001b[39m.\u001b[39;49mhandle_request(request)\n",
      "File \u001b[1;32mc:\\Python311\\Lib\\site-packages\\httpcore\\_sync\\http11.py:120\u001b[0m, in \u001b[0;36mHTTP11Connection.handle_request\u001b[1;34m(self, request)\u001b[0m\n\u001b[0;32m    119\u001b[0m     \u001b[39mself\u001b[39m\u001b[39m.\u001b[39m_response_closed()\n\u001b[1;32m--> 120\u001b[0m \u001b[39mraise\u001b[39;00m exc\n",
      "File \u001b[1;32mc:\\Python311\\Lib\\site-packages\\httpcore\\_sync\\http11.py:99\u001b[0m, in \u001b[0;36mHTTP11Connection.handle_request\u001b[1;34m(self, request)\u001b[0m\n\u001b[0;32m     91\u001b[0m \u001b[39mwith\u001b[39;00m Trace(\n\u001b[0;32m     92\u001b[0m     \u001b[39m\"\u001b[39m\u001b[39mreceive_response_headers\u001b[39m\u001b[39m\"\u001b[39m, logger, request, kwargs\n\u001b[0;32m     93\u001b[0m ) \u001b[39mas\u001b[39;00m trace:\n\u001b[0;32m     94\u001b[0m     (\n\u001b[0;32m     95\u001b[0m         http_version,\n\u001b[0;32m     96\u001b[0m         status,\n\u001b[0;32m     97\u001b[0m         reason_phrase,\n\u001b[0;32m     98\u001b[0m         headers,\n\u001b[1;32m---> 99\u001b[0m     ) \u001b[39m=\u001b[39m \u001b[39mself\u001b[39;49m\u001b[39m.\u001b[39;49m_receive_response_headers(\u001b[39m*\u001b[39;49m\u001b[39m*\u001b[39;49mkwargs)\n\u001b[0;32m    100\u001b[0m     trace\u001b[39m.\u001b[39mreturn_value \u001b[39m=\u001b[39m (\n\u001b[0;32m    101\u001b[0m         http_version,\n\u001b[0;32m    102\u001b[0m         status,\n\u001b[0;32m    103\u001b[0m         reason_phrase,\n\u001b[0;32m    104\u001b[0m         headers,\n\u001b[0;32m    105\u001b[0m     )\n",
      "File \u001b[1;32mc:\\Python311\\Lib\\site-packages\\httpcore\\_sync\\http11.py:163\u001b[0m, in \u001b[0;36mHTTP11Connection._receive_response_headers\u001b[1;34m(self, request)\u001b[0m\n\u001b[0;32m    162\u001b[0m \u001b[39mwhile\u001b[39;00m \u001b[39mTrue\u001b[39;00m:\n\u001b[1;32m--> 163\u001b[0m     event \u001b[39m=\u001b[39m \u001b[39mself\u001b[39;49m\u001b[39m.\u001b[39;49m_receive_event(timeout\u001b[39m=\u001b[39;49mtimeout)\n\u001b[0;32m    164\u001b[0m     \u001b[39mif\u001b[39;00m \u001b[39misinstance\u001b[39m(event, h11\u001b[39m.\u001b[39mResponse):\n",
      "File \u001b[1;32mc:\\Python311\\Lib\\site-packages\\httpcore\\_sync\\http11.py:199\u001b[0m, in \u001b[0;36mHTTP11Connection._receive_event\u001b[1;34m(self, timeout)\u001b[0m\n\u001b[0;32m    198\u001b[0m \u001b[39mif\u001b[39;00m event \u001b[39mis\u001b[39;00m h11\u001b[39m.\u001b[39mNEED_DATA:\n\u001b[1;32m--> 199\u001b[0m     data \u001b[39m=\u001b[39m \u001b[39mself\u001b[39;49m\u001b[39m.\u001b[39;49m_network_stream\u001b[39m.\u001b[39;49mread(\n\u001b[0;32m    200\u001b[0m         \u001b[39mself\u001b[39;49m\u001b[39m.\u001b[39;49mREAD_NUM_BYTES, timeout\u001b[39m=\u001b[39;49mtimeout\n\u001b[0;32m    201\u001b[0m     )\n\u001b[0;32m    203\u001b[0m     \u001b[39m# If we feed this case through h11 we'll raise an exception like:\u001b[39;00m\n\u001b[0;32m    204\u001b[0m     \u001b[39m#\u001b[39;00m\n\u001b[0;32m    205\u001b[0m     \u001b[39m#     httpcore.RemoteProtocolError: can't handle event type\u001b[39;00m\n\u001b[1;32m   (...)\u001b[0m\n\u001b[0;32m    209\u001b[0m     \u001b[39m# perspective. Instead we handle this case distinctly and treat\u001b[39;00m\n\u001b[0;32m    210\u001b[0m     \u001b[39m# it as a ConnectError.\u001b[39;00m\n",
      "File \u001b[1;32mc:\\Python311\\Lib\\site-packages\\httpcore\\backends\\sync.py:26\u001b[0m, in \u001b[0;36mSyncStream.read\u001b[1;34m(self, max_bytes, timeout)\u001b[0m\n\u001b[0;32m     25\u001b[0m exc_map: ExceptionMapping \u001b[39m=\u001b[39m {socket\u001b[39m.\u001b[39mtimeout: ReadTimeout, \u001b[39mOSError\u001b[39;00m: ReadError}\n\u001b[1;32m---> 26\u001b[0m \u001b[39mwith\u001b[39;49;00m map_exceptions(exc_map):\n\u001b[0;32m     27\u001b[0m     \u001b[39mself\u001b[39;49m\u001b[39m.\u001b[39;49m_sock\u001b[39m.\u001b[39;49msettimeout(timeout)\n",
      "File \u001b[1;32mc:\\Python311\\Lib\\contextlib.py:155\u001b[0m, in \u001b[0;36m_GeneratorContextManager.__exit__\u001b[1;34m(self, typ, value, traceback)\u001b[0m\n\u001b[0;32m    154\u001b[0m \u001b[39mtry\u001b[39;00m:\n\u001b[1;32m--> 155\u001b[0m     \u001b[39mself\u001b[39m\u001b[39m.\u001b[39mgen\u001b[39m.\u001b[39mthrow(typ, value, traceback)\n\u001b[0;32m    156\u001b[0m \u001b[39mexcept\u001b[39;00m \u001b[39mStopIteration\u001b[39;00m \u001b[39mas\u001b[39;00m exc:\n\u001b[0;32m    157\u001b[0m     \u001b[39m# Suppress StopIteration *unless* it's the same exception that\u001b[39;00m\n\u001b[0;32m    158\u001b[0m     \u001b[39m# was passed to throw().  This prevents a StopIteration\u001b[39;00m\n\u001b[0;32m    159\u001b[0m     \u001b[39m# raised inside the \"with\" statement from being suppressed.\u001b[39;00m\n",
      "File \u001b[1;32mc:\\Python311\\Lib\\site-packages\\httpcore\\_exceptions.py:14\u001b[0m, in \u001b[0;36mmap_exceptions\u001b[1;34m(map)\u001b[0m\n\u001b[0;32m     13\u001b[0m     \u001b[39mif\u001b[39;00m \u001b[39misinstance\u001b[39m(exc, from_exc):\n\u001b[1;32m---> 14\u001b[0m         \u001b[39mraise\u001b[39;00m to_exc(exc) \u001b[39mfrom\u001b[39;00m \u001b[39mexc\u001b[39;00m\n\u001b[0;32m     15\u001b[0m \u001b[39mraise\u001b[39;00m\n",
      "\u001b[1;31mReadTimeout\u001b[0m: timed out",
      "\nThe above exception was the direct cause of the following exception:\n",
      "\u001b[1;31mReadTimeout\u001b[0m                               Traceback (most recent call last)",
      "File \u001b[1;32mc:\\Python311\\Lib\\site-packages\\qdrant_client\\http\\api_client.py:95\u001b[0m, in \u001b[0;36mApiClient.send_inner\u001b[1;34m(self, request)\u001b[0m\n\u001b[0;32m     94\u001b[0m \u001b[39mtry\u001b[39;00m:\n\u001b[1;32m---> 95\u001b[0m     response \u001b[39m=\u001b[39m \u001b[39mself\u001b[39;49m\u001b[39m.\u001b[39;49m_client\u001b[39m.\u001b[39;49msend(request)\n\u001b[0;32m     96\u001b[0m \u001b[39mexcept\u001b[39;00m \u001b[39mException\u001b[39;00m \u001b[39mas\u001b[39;00m e:\n",
      "File \u001b[1;32mc:\\Python311\\Lib\\site-packages\\httpx\\_client.py:901\u001b[0m, in \u001b[0;36mClient.send\u001b[1;34m(self, request, stream, auth, follow_redirects)\u001b[0m\n\u001b[0;32m    899\u001b[0m auth \u001b[39m=\u001b[39m \u001b[39mself\u001b[39m\u001b[39m.\u001b[39m_build_request_auth(request, auth)\n\u001b[1;32m--> 901\u001b[0m response \u001b[39m=\u001b[39m \u001b[39mself\u001b[39;49m\u001b[39m.\u001b[39;49m_send_handling_auth(\n\u001b[0;32m    902\u001b[0m     request,\n\u001b[0;32m    903\u001b[0m     auth\u001b[39m=\u001b[39;49mauth,\n\u001b[0;32m    904\u001b[0m     follow_redirects\u001b[39m=\u001b[39;49mfollow_redirects,\n\u001b[0;32m    905\u001b[0m     history\u001b[39m=\u001b[39;49m[],\n\u001b[0;32m    906\u001b[0m )\n\u001b[0;32m    907\u001b[0m \u001b[39mtry\u001b[39;00m:\n",
      "File \u001b[1;32mc:\\Python311\\Lib\\site-packages\\httpx\\_client.py:929\u001b[0m, in \u001b[0;36mClient._send_handling_auth\u001b[1;34m(self, request, auth, follow_redirects, history)\u001b[0m\n\u001b[0;32m    928\u001b[0m \u001b[39mwhile\u001b[39;00m \u001b[39mTrue\u001b[39;00m:\n\u001b[1;32m--> 929\u001b[0m     response \u001b[39m=\u001b[39m \u001b[39mself\u001b[39;49m\u001b[39m.\u001b[39;49m_send_handling_redirects(\n\u001b[0;32m    930\u001b[0m         request,\n\u001b[0;32m    931\u001b[0m         follow_redirects\u001b[39m=\u001b[39;49mfollow_redirects,\n\u001b[0;32m    932\u001b[0m         history\u001b[39m=\u001b[39;49mhistory,\n\u001b[0;32m    933\u001b[0m     )\n\u001b[0;32m    934\u001b[0m     \u001b[39mtry\u001b[39;00m:\n",
      "File \u001b[1;32mc:\\Python311\\Lib\\site-packages\\httpx\\_client.py:966\u001b[0m, in \u001b[0;36mClient._send_handling_redirects\u001b[1;34m(self, request, follow_redirects, history)\u001b[0m\n\u001b[0;32m    964\u001b[0m     hook(request)\n\u001b[1;32m--> 966\u001b[0m response \u001b[39m=\u001b[39m \u001b[39mself\u001b[39;49m\u001b[39m.\u001b[39;49m_send_single_request(request)\n\u001b[0;32m    967\u001b[0m \u001b[39mtry\u001b[39;00m:\n",
      "File \u001b[1;32mc:\\Python311\\Lib\\site-packages\\httpx\\_client.py:1002\u001b[0m, in \u001b[0;36mClient._send_single_request\u001b[1;34m(self, request)\u001b[0m\n\u001b[0;32m   1001\u001b[0m \u001b[39mwith\u001b[39;00m request_context(request\u001b[39m=\u001b[39mrequest):\n\u001b[1;32m-> 1002\u001b[0m     response \u001b[39m=\u001b[39m transport\u001b[39m.\u001b[39;49mhandle_request(request)\n\u001b[0;32m   1004\u001b[0m \u001b[39massert\u001b[39;00m \u001b[39misinstance\u001b[39m(response\u001b[39m.\u001b[39mstream, SyncByteStream)\n",
      "File \u001b[1;32mc:\\Python311\\Lib\\site-packages\\httpx\\_transports\\default.py:217\u001b[0m, in \u001b[0;36mHTTPTransport.handle_request\u001b[1;34m(self, request)\u001b[0m\n\u001b[0;32m    205\u001b[0m req \u001b[39m=\u001b[39m httpcore\u001b[39m.\u001b[39mRequest(\n\u001b[0;32m    206\u001b[0m     method\u001b[39m=\u001b[39mrequest\u001b[39m.\u001b[39mmethod,\n\u001b[0;32m    207\u001b[0m     url\u001b[39m=\u001b[39mhttpcore\u001b[39m.\u001b[39mURL(\n\u001b[1;32m   (...)\u001b[0m\n\u001b[0;32m    215\u001b[0m     extensions\u001b[39m=\u001b[39mrequest\u001b[39m.\u001b[39mextensions,\n\u001b[0;32m    216\u001b[0m )\n\u001b[1;32m--> 217\u001b[0m \u001b[39mwith\u001b[39;49;00m map_httpcore_exceptions():\n\u001b[0;32m    218\u001b[0m     resp \u001b[39m=\u001b[39;49m \u001b[39mself\u001b[39;49m\u001b[39m.\u001b[39;49m_pool\u001b[39m.\u001b[39;49mhandle_request(req)\n",
      "File \u001b[1;32mc:\\Python311\\Lib\\contextlib.py:155\u001b[0m, in \u001b[0;36m_GeneratorContextManager.__exit__\u001b[1;34m(self, typ, value, traceback)\u001b[0m\n\u001b[0;32m    154\u001b[0m \u001b[39mtry\u001b[39;00m:\n\u001b[1;32m--> 155\u001b[0m     \u001b[39mself\u001b[39m\u001b[39m.\u001b[39mgen\u001b[39m.\u001b[39mthrow(typ, value, traceback)\n\u001b[0;32m    156\u001b[0m \u001b[39mexcept\u001b[39;00m \u001b[39mStopIteration\u001b[39;00m \u001b[39mas\u001b[39;00m exc:\n\u001b[0;32m    157\u001b[0m     \u001b[39m# Suppress StopIteration *unless* it's the same exception that\u001b[39;00m\n\u001b[0;32m    158\u001b[0m     \u001b[39m# was passed to throw().  This prevents a StopIteration\u001b[39;00m\n\u001b[0;32m    159\u001b[0m     \u001b[39m# raised inside the \"with\" statement from being suppressed.\u001b[39;00m\n",
      "File \u001b[1;32mc:\\Python311\\Lib\\site-packages\\httpx\\_transports\\default.py:77\u001b[0m, in \u001b[0;36mmap_httpcore_exceptions\u001b[1;34m()\u001b[0m\n\u001b[0;32m     76\u001b[0m message \u001b[39m=\u001b[39m \u001b[39mstr\u001b[39m(exc)\n\u001b[1;32m---> 77\u001b[0m \u001b[39mraise\u001b[39;00m mapped_exc(message) \u001b[39mfrom\u001b[39;00m \u001b[39mexc\u001b[39;00m\n",
      "\u001b[1;31mReadTimeout\u001b[0m: timed out",
      "\nDuring handling of the above exception, another exception occurred:\n",
      "\u001b[1;31mResponseHandlingException\u001b[0m                 Traceback (most recent call last)",
      "Cell \u001b[1;32mIn[46], line 2\u001b[0m\n\u001b[0;32m      1\u001b[0m client \u001b[39m=\u001b[39m QdrantClient(\u001b[39m\"\u001b[39m\u001b[39m20.62.183.225\u001b[39m\u001b[39m\"\u001b[39m, port\u001b[39m=\u001b[39m\u001b[39m6333\u001b[39m)\n\u001b[1;32m----> 2\u001b[0m client\u001b[39m.\u001b[39;49mrecreate_collection(\n\u001b[0;32m      3\u001b[0m     collection_name\u001b[39m=\u001b[39;49m\u001b[39m\"\u001b[39;49m\u001b[39mtest_collection\u001b[39;49m\u001b[39m\"\u001b[39;49m,\n\u001b[0;32m      4\u001b[0m     vectors_config\u001b[39m=\u001b[39;49mVectorParams(size\u001b[39m=\u001b[39;49m\u001b[39m4\u001b[39;49m, distance\u001b[39m=\u001b[39;49mDistance\u001b[39m.\u001b[39;49mDOT),\n\u001b[0;32m      5\u001b[0m )\n",
      "File \u001b[1;32mc:\\Python311\\Lib\\site-packages\\qdrant_client\\qdrant_client.py:1313\u001b[0m, in \u001b[0;36mQdrantClient.recreate_collection\u001b[1;34m(self, collection_name, vectors_config, shard_number, replication_factor, write_consistency_factor, on_disk_payload, hnsw_config, optimizers_config, wal_config, quantization_config, init_from, timeout, **kwargs)\u001b[0m\n\u001b[0;32m   1259\u001b[0m \u001b[39mdef\u001b[39;00m \u001b[39mrecreate_collection\u001b[39m(\n\u001b[0;32m   1260\u001b[0m     \u001b[39mself\u001b[39m,\n\u001b[0;32m   1261\u001b[0m     collection_name: \u001b[39mstr\u001b[39m,\n\u001b[1;32m   (...)\u001b[0m\n\u001b[0;32m   1273\u001b[0m     \u001b[39m*\u001b[39m\u001b[39m*\u001b[39mkwargs: Any,\n\u001b[0;32m   1274\u001b[0m ) \u001b[39m-\u001b[39m\u001b[39m>\u001b[39m \u001b[39mbool\u001b[39m:\n\u001b[0;32m   1275\u001b[0m \u001b[39m    \u001b[39m\u001b[39m\"\"\"Delete and create empty collection with given parameters\u001b[39;00m\n\u001b[0;32m   1276\u001b[0m \n\u001b[0;32m   1277\u001b[0m \u001b[39m    Args:\u001b[39;00m\n\u001b[1;32m   (...)\u001b[0m\n\u001b[0;32m   1310\u001b[0m \u001b[39m        Operation result\u001b[39;00m\n\u001b[0;32m   1311\u001b[0m \u001b[39m    \"\"\"\u001b[39;00m\n\u001b[1;32m-> 1313\u001b[0m     \u001b[39mreturn\u001b[39;00m \u001b[39mself\u001b[39;49m\u001b[39m.\u001b[39;49m_client\u001b[39m.\u001b[39;49mrecreate_collection(\n\u001b[0;32m   1314\u001b[0m         collection_name\u001b[39m=\u001b[39;49mcollection_name,\n\u001b[0;32m   1315\u001b[0m         vectors_config\u001b[39m=\u001b[39;49mvectors_config,\n\u001b[0;32m   1316\u001b[0m         shard_number\u001b[39m=\u001b[39;49mshard_number,\n\u001b[0;32m   1317\u001b[0m         replication_factor\u001b[39m=\u001b[39;49mreplication_factor,\n\u001b[0;32m   1318\u001b[0m         write_consistency_factor\u001b[39m=\u001b[39;49mwrite_consistency_factor,\n\u001b[0;32m   1319\u001b[0m         on_disk_payload\u001b[39m=\u001b[39;49mon_disk_payload,\n\u001b[0;32m   1320\u001b[0m         hnsw_config\u001b[39m=\u001b[39;49mhnsw_config,\n\u001b[0;32m   1321\u001b[0m         optimizers_config\u001b[39m=\u001b[39;49moptimizers_config,\n\u001b[0;32m   1322\u001b[0m         wal_config\u001b[39m=\u001b[39;49mwal_config,\n\u001b[0;32m   1323\u001b[0m         quantization_config\u001b[39m=\u001b[39;49mquantization_config,\n\u001b[0;32m   1324\u001b[0m         init_from\u001b[39m=\u001b[39;49minit_from,\n\u001b[0;32m   1325\u001b[0m         timeout\u001b[39m=\u001b[39;49mtimeout,\n\u001b[0;32m   1326\u001b[0m         \u001b[39m*\u001b[39;49m\u001b[39m*\u001b[39;49mkwargs,\n\u001b[0;32m   1327\u001b[0m     )\n",
      "File \u001b[1;32mc:\\Python311\\Lib\\site-packages\\qdrant_client\\qdrant_remote.py:1620\u001b[0m, in \u001b[0;36mQdrantRemote.recreate_collection\u001b[1;34m(self, collection_name, vectors_config, shard_number, replication_factor, write_consistency_factor, on_disk_payload, hnsw_config, optimizers_config, wal_config, quantization_config, init_from, timeout, **kwargs)\u001b[0m\n\u001b[0;32m   1602\u001b[0m \u001b[39mdef\u001b[39;00m \u001b[39mrecreate_collection\u001b[39m(\n\u001b[0;32m   1603\u001b[0m     \u001b[39mself\u001b[39m,\n\u001b[0;32m   1604\u001b[0m     collection_name: \u001b[39mstr\u001b[39m,\n\u001b[1;32m   (...)\u001b[0m\n\u001b[0;32m   1616\u001b[0m     \u001b[39m*\u001b[39m\u001b[39m*\u001b[39mkwargs: Any,\n\u001b[0;32m   1617\u001b[0m ) \u001b[39m-\u001b[39m\u001b[39m>\u001b[39m \u001b[39mbool\u001b[39m:\n\u001b[0;32m   1618\u001b[0m     \u001b[39mself\u001b[39m\u001b[39m.\u001b[39mdelete_collection(collection_name, timeout\u001b[39m=\u001b[39mtimeout)\n\u001b[1;32m-> 1620\u001b[0m     \u001b[39mreturn\u001b[39;00m \u001b[39mself\u001b[39;49m\u001b[39m.\u001b[39;49mcreate_collection(\n\u001b[0;32m   1621\u001b[0m         collection_name\u001b[39m=\u001b[39;49mcollection_name,\n\u001b[0;32m   1622\u001b[0m         vectors_config\u001b[39m=\u001b[39;49mvectors_config,\n\u001b[0;32m   1623\u001b[0m         shard_number\u001b[39m=\u001b[39;49mshard_number,\n\u001b[0;32m   1624\u001b[0m         replication_factor\u001b[39m=\u001b[39;49mreplication_factor,\n\u001b[0;32m   1625\u001b[0m         write_consistency_factor\u001b[39m=\u001b[39;49mwrite_consistency_factor,\n\u001b[0;32m   1626\u001b[0m         on_disk_payload\u001b[39m=\u001b[39;49mon_disk_payload,\n\u001b[0;32m   1627\u001b[0m         hnsw_config\u001b[39m=\u001b[39;49mhnsw_config,\n\u001b[0;32m   1628\u001b[0m         optimizers_config\u001b[39m=\u001b[39;49moptimizers_config,\n\u001b[0;32m   1629\u001b[0m         wal_config\u001b[39m=\u001b[39;49mwal_config,\n\u001b[0;32m   1630\u001b[0m         quantization_config\u001b[39m=\u001b[39;49mquantization_config,\n\u001b[0;32m   1631\u001b[0m         timeout\u001b[39m=\u001b[39;49mtimeout,\n\u001b[0;32m   1632\u001b[0m     )\n",
      "File \u001b[1;32mc:\\Python311\\Lib\\site-packages\\qdrant_client\\qdrant_remote.py:1593\u001b[0m, in \u001b[0;36mQdrantRemote.create_collection\u001b[1;34m(self, collection_name, vectors_config, shard_number, replication_factor, write_consistency_factor, on_disk_payload, hnsw_config, optimizers_config, wal_config, quantization_config, init_from, timeout, **kwargs)\u001b[0m\n\u001b[0;32m   1578\u001b[0m     quantization_config \u001b[39m=\u001b[39m GrpcToRest\u001b[39m.\u001b[39mconvert_quantization_config(quantization_config)\n\u001b[0;32m   1580\u001b[0m create_collection_request \u001b[39m=\u001b[39m rest_models\u001b[39m.\u001b[39mCreateCollection(\n\u001b[0;32m   1581\u001b[0m     vectors\u001b[39m=\u001b[39mvectors_config,\n\u001b[0;32m   1582\u001b[0m     shard_number\u001b[39m=\u001b[39mshard_number,\n\u001b[1;32m   (...)\u001b[0m\n\u001b[0;32m   1590\u001b[0m     init_from\u001b[39m=\u001b[39minit_from,\n\u001b[0;32m   1591\u001b[0m )\n\u001b[1;32m-> 1593\u001b[0m result: Optional[\u001b[39mbool\u001b[39m] \u001b[39m=\u001b[39m \u001b[39mself\u001b[39;49m\u001b[39m.\u001b[39;49mhttp\u001b[39m.\u001b[39;49mcollections_api\u001b[39m.\u001b[39;49mcreate_collection(\n\u001b[0;32m   1594\u001b[0m     collection_name\u001b[39m=\u001b[39;49mcollection_name,\n\u001b[0;32m   1595\u001b[0m     create_collection\u001b[39m=\u001b[39;49mcreate_collection_request,\n\u001b[0;32m   1596\u001b[0m     timeout\u001b[39m=\u001b[39;49mtimeout,\n\u001b[0;32m   1597\u001b[0m )\u001b[39m.\u001b[39mresult\n\u001b[0;32m   1599\u001b[0m \u001b[39massert\u001b[39;00m result \u001b[39mis\u001b[39;00m \u001b[39mnot\u001b[39;00m \u001b[39mNone\u001b[39;00m, \u001b[39m\"\u001b[39m\u001b[39mCreate collection returned None\u001b[39m\u001b[39m\"\u001b[39m\n\u001b[0;32m   1600\u001b[0m \u001b[39mreturn\u001b[39;00m result\n",
      "File \u001b[1;32mc:\\Python311\\Lib\\site-packages\\qdrant_client\\http\\api\\collections_api.py:822\u001b[0m, in \u001b[0;36mSyncCollectionsApi.create_collection\u001b[1;34m(self, collection_name, timeout, create_collection)\u001b[0m\n\u001b[0;32m    813\u001b[0m \u001b[39mdef\u001b[39;00m \u001b[39mcreate_collection\u001b[39m(\n\u001b[0;32m    814\u001b[0m     \u001b[39mself\u001b[39m,\n\u001b[0;32m    815\u001b[0m     collection_name: \u001b[39mstr\u001b[39m,\n\u001b[0;32m    816\u001b[0m     timeout: \u001b[39mint\u001b[39m \u001b[39m=\u001b[39m \u001b[39mNone\u001b[39;00m,\n\u001b[0;32m    817\u001b[0m     create_collection: m\u001b[39m.\u001b[39mCreateCollection \u001b[39m=\u001b[39m \u001b[39mNone\u001b[39;00m,\n\u001b[0;32m    818\u001b[0m ) \u001b[39m-\u001b[39m\u001b[39m>\u001b[39m m\u001b[39m.\u001b[39mInlineResponse2003:\n\u001b[0;32m    819\u001b[0m \u001b[39m    \u001b[39m\u001b[39m\"\"\"\u001b[39;00m\n\u001b[0;32m    820\u001b[0m \u001b[39m    Create new collection with given parameters\u001b[39;00m\n\u001b[0;32m    821\u001b[0m \u001b[39m    \"\"\"\u001b[39;00m\n\u001b[1;32m--> 822\u001b[0m     \u001b[39mreturn\u001b[39;00m \u001b[39mself\u001b[39;49m\u001b[39m.\u001b[39;49m_build_for_create_collection(\n\u001b[0;32m    823\u001b[0m         collection_name\u001b[39m=\u001b[39;49mcollection_name,\n\u001b[0;32m    824\u001b[0m         timeout\u001b[39m=\u001b[39;49mtimeout,\n\u001b[0;32m    825\u001b[0m         create_collection\u001b[39m=\u001b[39;49mcreate_collection,\n\u001b[0;32m    826\u001b[0m     )\n",
      "File \u001b[1;32mc:\\Python311\\Lib\\site-packages\\qdrant_client\\http\\api\\collections_api.py:194\u001b[0m, in \u001b[0;36m_CollectionsApi._build_for_create_collection\u001b[1;34m(self, collection_name, timeout, create_collection)\u001b[0m\n\u001b[0;32m    190\u001b[0m     query_params[\u001b[39m\"\u001b[39m\u001b[39mtimeout\u001b[39m\u001b[39m\"\u001b[39m] \u001b[39m=\u001b[39m \u001b[39mstr\u001b[39m(timeout)\n\u001b[0;32m    192\u001b[0m body \u001b[39m=\u001b[39m jsonable_encoder(create_collection)\n\u001b[1;32m--> 194\u001b[0m \u001b[39mreturn\u001b[39;00m \u001b[39mself\u001b[39;49m\u001b[39m.\u001b[39;49mapi_client\u001b[39m.\u001b[39;49mrequest(\n\u001b[0;32m    195\u001b[0m     type_\u001b[39m=\u001b[39;49mm\u001b[39m.\u001b[39;49mInlineResponse2003,\n\u001b[0;32m    196\u001b[0m     method\u001b[39m=\u001b[39;49m\u001b[39m\"\u001b[39;49m\u001b[39mPUT\u001b[39;49m\u001b[39m\"\u001b[39;49m,\n\u001b[0;32m    197\u001b[0m     url\u001b[39m=\u001b[39;49m\u001b[39m\"\u001b[39;49m\u001b[39m/collections/\u001b[39;49m\u001b[39m{collection_name}\u001b[39;49;00m\u001b[39m\"\u001b[39;49m,\n\u001b[0;32m    198\u001b[0m     path_params\u001b[39m=\u001b[39;49mpath_params,\n\u001b[0;32m    199\u001b[0m     params\u001b[39m=\u001b[39;49mquery_params,\n\u001b[0;32m    200\u001b[0m     json\u001b[39m=\u001b[39;49mbody,\n\u001b[0;32m    201\u001b[0m )\n",
      "File \u001b[1;32mc:\\Python311\\Lib\\site-packages\\qdrant_client\\http\\api_client.py:68\u001b[0m, in \u001b[0;36mApiClient.request\u001b[1;34m(self, type_, method, url, path_params, **kwargs)\u001b[0m\n\u001b[0;32m     66\u001b[0m url \u001b[39m=\u001b[39m (\u001b[39mself\u001b[39m\u001b[39m.\u001b[39mhost \u001b[39mor\u001b[39;00m \u001b[39m\"\u001b[39m\u001b[39m\"\u001b[39m) \u001b[39m+\u001b[39m url\u001b[39m.\u001b[39mformat(\u001b[39m*\u001b[39m\u001b[39m*\u001b[39mpath_params)\n\u001b[0;32m     67\u001b[0m request \u001b[39m=\u001b[39m \u001b[39mself\u001b[39m\u001b[39m.\u001b[39m_client\u001b[39m.\u001b[39mbuild_request(method, url, \u001b[39m*\u001b[39m\u001b[39m*\u001b[39mkwargs)\n\u001b[1;32m---> 68\u001b[0m \u001b[39mreturn\u001b[39;00m \u001b[39mself\u001b[39;49m\u001b[39m.\u001b[39;49msend(request, type_)\n",
      "File \u001b[1;32mc:\\Python311\\Lib\\site-packages\\qdrant_client\\http\\api_client.py:85\u001b[0m, in \u001b[0;36mApiClient.send\u001b[1;34m(self, request, type_)\u001b[0m\n\u001b[0;32m     84\u001b[0m \u001b[39mdef\u001b[39;00m \u001b[39msend\u001b[39m(\u001b[39mself\u001b[39m, request: Request, type_: Type[T]) \u001b[39m-\u001b[39m\u001b[39m>\u001b[39m T:\n\u001b[1;32m---> 85\u001b[0m     response \u001b[39m=\u001b[39m \u001b[39mself\u001b[39;49m\u001b[39m.\u001b[39;49mmiddleware(request, \u001b[39mself\u001b[39;49m\u001b[39m.\u001b[39;49msend_inner)\n\u001b[0;32m     86\u001b[0m     \u001b[39mif\u001b[39;00m response\u001b[39m.\u001b[39mstatus_code \u001b[39min\u001b[39;00m [\u001b[39m200\u001b[39m, \u001b[39m201\u001b[39m]:\n\u001b[0;32m     87\u001b[0m         \u001b[39mtry\u001b[39;00m:\n",
      "File \u001b[1;32mc:\\Python311\\Lib\\site-packages\\qdrant_client\\http\\api_client.py:188\u001b[0m, in \u001b[0;36mBaseMiddleware.__call__\u001b[1;34m(self, request, call_next)\u001b[0m\n\u001b[0;32m    187\u001b[0m \u001b[39mdef\u001b[39;00m \u001b[39m__call__\u001b[39m(\u001b[39mself\u001b[39m, request: Request, call_next: Send) \u001b[39m-\u001b[39m\u001b[39m>\u001b[39m Response:\n\u001b[1;32m--> 188\u001b[0m     \u001b[39mreturn\u001b[39;00m call_next(request)\n",
      "File \u001b[1;32mc:\\Python311\\Lib\\site-packages\\qdrant_client\\http\\api_client.py:97\u001b[0m, in \u001b[0;36mApiClient.send_inner\u001b[1;34m(self, request)\u001b[0m\n\u001b[0;32m     95\u001b[0m     response \u001b[39m=\u001b[39m \u001b[39mself\u001b[39m\u001b[39m.\u001b[39m_client\u001b[39m.\u001b[39msend(request)\n\u001b[0;32m     96\u001b[0m \u001b[39mexcept\u001b[39;00m \u001b[39mException\u001b[39;00m \u001b[39mas\u001b[39;00m e:\n\u001b[1;32m---> 97\u001b[0m     \u001b[39mraise\u001b[39;00m ResponseHandlingException(e)\n\u001b[0;32m     98\u001b[0m \u001b[39mreturn\u001b[39;00m response\n",
      "\u001b[1;31mResponseHandlingException\u001b[0m: timed out"
     ]
    }
   ],
   "source": [
    "client = QdrantClient(\"20.62.183.225\", port=6333)\n",
    "client.recreate_collection(\n",
    "    collection_name=\"test_collection\",\n",
    "    vectors_config=VectorParams(size=4, distance=Distance.DOT),\n",
    ")"
   ]
  },
  {
   "cell_type": "code",
   "execution_count": 36,
   "metadata": {},
   "outputs": [],
   "source": [
    "collection_info = client.get_collection(collection_name=\"test_collection\")"
   ]
  },
  {
   "cell_type": "code",
   "execution_count": 47,
   "metadata": {},
   "outputs": [],
   "source": [
    "from qdrant_client.http.models import CollectionStatus\n",
    "\n",
    "assert collection_info.status == CollectionStatus.GREEN\n",
    "assert collection_info.vectors_count == 0"
   ]
  },
  {
   "cell_type": "code",
   "execution_count": 48,
   "metadata": {},
   "outputs": [],
   "source": [
    "from qdrant_client.http.models import PointStruct\n",
    "\n",
    "operation_info = client.upsert(\n",
    "    collection_name=\"test_collection\",\n",
    "    wait=True,\n",
    "    points=[\n",
    "        PointStruct(id=1, vector=[0.05, 0.61, 0.76, 0.74], payload={\"city\": \"Berlin\"}),\n",
    "        PointStruct(id=2, vector=[0.19, 0.81, 0.75, 0.11], payload={\"city\": [\"Berlin\", \"London\"]}),\n",
    "        PointStruct(id=3, vector=[0.36, 0.55, 0.47, 0.94], payload={\"city\": [\"Berlin\", \"Moscow\"]}),\n",
    "        PointStruct(id=4, vector=[0.18, 0.01, 0.85, 0.80], payload={\"city\": [\"London\", \"Moscow\"]}),\n",
    "        PointStruct(id=5, vector=[0.24, 0.18, 0.22, 0.44], payload={\"count\": [0]}),\n",
    "        PointStruct(id=6, vector=[0.35, 0.08, 0.11, 0.44]),\n",
    "    ]\n",
    ")"
   ]
  },
  {
   "cell_type": "code",
   "execution_count": 49,
   "metadata": {},
   "outputs": [],
   "source": [
    "from qdrant_client.http.models import UpdateStatus\n",
    "\n",
    "assert operation_info.status == UpdateStatus.COMPLETED"
   ]
  },
  {
   "cell_type": "code",
   "execution_count": 50,
   "metadata": {},
   "outputs": [],
   "source": [
    "search_result = client.search(\n",
    "    collection_name=\"test_collection\",\n",
    "    query_vector=[0.2, 0.1, 0.9, 0.7], \n",
    "    limit=3\n",
    ")"
   ]
  },
  {
   "cell_type": "code",
   "execution_count": 51,
   "metadata": {},
   "outputs": [
    {
     "name": "stdout",
     "output_type": "stream",
     "text": [
      "id=4 version=0 score=1.362 payload={'city': ['London', 'Moscow']} vector=None\n",
      "id=1 version=0 score=1.273 payload={'city': 'Berlin'} vector=None\n",
      "id=3 version=0 score=1.208 payload={'city': ['Berlin', 'Moscow']} vector=None\n"
     ]
    }
   ],
   "source": [
    "assert len(search_result) == 3\n",
    "\n",
    "print(search_result[0])\n",
    "# ScoredPoint(id=4, score=1.362, ...)\n",
    "\n",
    "print(search_result[1])\n",
    "# ScoredPoint(id=1, score=1.273, ...)\n",
    "\n",
    "print(search_result[2])\n",
    "# ScoredPoint(id=3, score=1.208, ...)"
   ]
  },
  {
   "cell_type": "code",
   "execution_count": 52,
   "metadata": {},
   "outputs": [],
   "source": [
    "from qdrant_client.http.models import Filter, FieldCondition, MatchValue\n",
    "\n",
    "\n",
    "search_result = client.search(\n",
    "    collection_name=\"test_collection\",\n",
    "    query_vector=[0.2, 0.1, 0.9, 0.7], \n",
    "    query_filter=Filter(\n",
    "        must=[\n",
    "            FieldCondition(\n",
    "                key=\"city\",\n",
    "                match=MatchValue(value=\"London\")\n",
    "            )\n",
    "        ]\n",
    "    ),\n",
    "    limit=3\n",
    ")"
   ]
  },
  {
   "cell_type": "code",
   "execution_count": 53,
   "metadata": {},
   "outputs": [
    {
     "name": "stdout",
     "output_type": "stream",
     "text": [
      "id=4 version=0 score=1.362 payload={'city': ['London', 'Moscow']} vector=None\n",
      "id=2 version=0 score=0.871 payload={'city': ['Berlin', 'London']} vector=None\n"
     ]
    }
   ],
   "source": [
    "assert len(search_result) == 2\n",
    "\n",
    "print(search_result[0])\n",
    "# ScoredPoint(id=4, score=1.362, ...)\n",
    "\n",
    "print(search_result[1])\n",
    "# ScoredPoint(id=2, score=0.871, ...)"
   ]
  }
 ],
 "metadata": {
  "kernelspec": {
   "display_name": "Python 3",
   "language": "python",
   "name": "python3"
  },
  "language_info": {
   "codemirror_mode": {
    "name": "ipython",
    "version": 3
   },
   "file_extension": ".py",
   "mimetype": "text/x-python",
   "name": "python",
   "nbconvert_exporter": "python",
   "pygments_lexer": "ipython3",
   "version": "3.11.4"
  },
  "orig_nbformat": 4
 },
 "nbformat": 4,
 "nbformat_minor": 2
}
