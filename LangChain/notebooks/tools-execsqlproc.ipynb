{
 "cells": [
  {
   "cell_type": "code",
   "execution_count": 16,
   "metadata": {},
   "outputs": [],
   "source": [
    "import os\n",
    "from dotenv import load_dotenv\n",
    "\n",
    "# Set environment variables in the .env file.\n",
    "load_dotenv()\n",
    "\n",
    "CHAT_MODEL = os.environ[\"OPENAI_CHAT_MODEL\"]\n",
    "CHAT_DEPLOYMENT = os.environ[\"OPENAI_CHAT_DEPLOYMENT\"]\n",
    "OPENAI_API_VERSION = os.environ[\"OPENAI_API_VERSION\"]\n",
    "\n",
    "SQL_DB_USER = os.environ[\"SQL_DB_USER\"]\n",
    "SQL_DB_PASSWORD = os.environ[\"SQL_DB_PASSWORD\"]\n",
    "SQL_DB_SERVER_NAME = os.environ[\"SQL_DB_SERVER_NAME\"]\n",
    "SQL_DB_NAME = os.environ[\"SQL_DB_NAME\"]\n",
    "SQL_CONNECTIONSTRING_FORMAT = os.environ[\"SQL_CONNECTIONSTRING_FORMAT\"]"
   ]
  },
  {
   "cell_type": "code",
   "execution_count": 17,
   "metadata": {},
   "outputs": [],
   "source": [
    "from langchain.chat_models import AzureChatOpenAI\n",
    "\n",
    "chat = AzureChatOpenAI(\n",
    "    deployment_name=CHAT_DEPLOYMENT,\n",
    "    openai_api_version=OPENAI_API_VERSION,\n",
    "    #temperature=0.3,\n",
    "    verbose=True\n",
    ")"
   ]
  },
  {
   "cell_type": "code",
   "execution_count": 18,
   "metadata": {},
   "outputs": [],
   "source": [
    "from langchain.sql_database import SQLDatabase\n",
    "\n",
    "connection_string = SQL_CONNECTIONSTRING_FORMAT.format(\n",
    "    database_user=SQL_DB_USER,\n",
    "    database_password=SQL_DB_PASSWORD,\n",
    "    database_server=SQL_DB_SERVER_NAME,\n",
    "    database_db=SQL_DB_NAME)\n",
    "\n",
    "db = SQLDatabase.from_uri(connection_string)"
   ]
  },
  {
   "cell_type": "code",
   "execution_count": 19,
   "metadata": {},
   "outputs": [
    {
     "data": {
      "text/plain": [
       "'[(1,)]'"
      ]
     },
     "execution_count": 19,
     "metadata": {},
     "output_type": "execute_result"
    }
   ],
   "source": [
    "sql = \"exec [dbo].[getCustomerId] @FirstName='Maria', @LastName='Anders'\"\n",
    "db.run(sql)"
   ]
  },
  {
   "cell_type": "code",
   "execution_count": 20,
   "metadata": {},
   "outputs": [
    {
     "data": {
      "text/plain": [
       "1"
      ]
     },
     "execution_count": 20,
     "metadata": {},
     "output_type": "execute_result"
    }
   ],
   "source": [
    "results = db._execute(sql)\n",
    "results[0][0]"
   ]
  },
  {
   "cell_type": "code",
   "execution_count": 21,
   "metadata": {},
   "outputs": [],
   "source": [
    "def execute_storedprocedure(db, stored_procedure_name, *args, schema='dbo'):\n",
    "    sql_string = \"exec [{schema}].[{stored_procedure_name}] \".format(schema=schema, stored_procedure_name=stored_procedure_name)\n",
    "    for i in range(0, len(args), 2):\n",
    "        param_name = args[i]\n",
    "        param_value = args[i+1]\n",
    "        sql_string += \"@{param_name}='{param_value}', \".format(param_name=param_name, param_value=param_value)\n",
    "    sql_string = sql_string[:-2]\n",
    "    \n",
    "    return db._execute(sql_string)"
   ]
  },
  {
   "cell_type": "code",
   "execution_count": 24,
   "metadata": {},
   "outputs": [
    {
     "name": "stdout",
     "output_type": "stream",
     "text": [
      "1\n",
      "[(1,)]\n"
     ]
    }
   ],
   "source": [
    "resultsTupple = execute_storedprocedure(db, 'getCustomerId', 'FirstName', 'Maria', 'LastName', 'Anders')\n",
    "\n",
    "print(resultsTupple[0][0])\n",
    "print(str(resultsTupple))"
   ]
  }
 ],
 "metadata": {
  "kernelspec": {
   "display_name": "Python 3",
   "language": "python",
   "name": "python3"
  },
  "language_info": {
   "codemirror_mode": {
    "name": "ipython",
    "version": 3
   },
   "file_extension": ".py",
   "mimetype": "text/x-python",
   "name": "python",
   "nbconvert_exporter": "python",
   "pygments_lexer": "ipython3",
   "version": "3.11.5"
  }
 },
 "nbformat": 4,
 "nbformat_minor": 2
}
