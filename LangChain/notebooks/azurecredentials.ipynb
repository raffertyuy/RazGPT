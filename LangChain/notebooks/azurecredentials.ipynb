{
 "cells": [
  {
   "cell_type": "code",
   "execution_count": 2,
   "metadata": {},
   "outputs": [],
   "source": [
    "import os\n",
    "from dotenv import load_dotenv\n",
    "\n",
    "# Set environment variables in the .env file.\n",
    "load_dotenv()\n",
    "\n",
    "OPENAI_API_VERSION = os.environ[\"OPENAI_API_VERSION\"]\n",
    "OPENAI_API_BASE = os.environ[\"OPENAI_API_BASE\"]"
   ]
  },
  {
   "cell_type": "code",
   "execution_count": 3,
   "metadata": {},
   "outputs": [
    {
     "data": {
      "text/plain": [
       "'\\n\\nQ: What did one ocean say to the other ocean?\\nA: Nothing, they just waved.'"
      ]
     },
     "execution_count": 3,
     "metadata": {},
     "output_type": "execute_result"
    }
   ],
   "source": [
    "from langchain.llms import AzureOpenAI\n",
    "from azure.identity import DefaultAzureCredential\n",
    "\n",
    "# Use the current user identity to authenticate with Azure OpenAI, Cognitive Search and Blob Storage (no secrets needed, \n",
    "# just use 'az login' locally, and managed identity when deployed on Azure). If you need to use keys, use separate AzureKeyCredential instances with the \n",
    "# keys for each service\n",
    "# If you encounter an error here are some ways to troubleshoot:\n",
    "# - you can exclude the problematic credential by using a parameter (ex. exclude_shared_token_cache_credential=True)\n",
    "# - For your credential, grant Cognitive Services User and Cognitive Services OpenAI User roles - EVEN IF YOU HAVE OWNER/ADMIN RIGHTS.\n",
    "azure_credential = DefaultAzureCredential()\n",
    "ad_token = azure_credential.get_token(\"https://cognitiveservices.azure.com/.default\")\n",
    "\n",
    "llm = AzureOpenAI(\n",
    "    openai_api_base=OPENAI_API_BASE,\n",
    "    openai_api_type=\"azure_ad\",\n",
    "    openai_api_key=ad_token.token,\n",
    "    openai_api_version=OPENAI_API_VERSION,\n",
    "    deployment_name=\"davinci\",\n",
    "    model_name=\"text-davinci-003\", \n",
    ")\n",
    "\n",
    "llm(\"Tell me a joke.\")"
   ]
  }
 ],
 "metadata": {
  "kernelspec": {
   "display_name": "Python 3",
   "language": "python",
   "name": "python3"
  },
  "language_info": {
   "codemirror_mode": {
    "name": "ipython",
    "version": 3
   },
   "file_extension": ".py",
   "mimetype": "text/x-python",
   "name": "python",
   "nbconvert_exporter": "python",
   "pygments_lexer": "ipython3",
   "version": "3.11.4"
  },
  "orig_nbformat": 4
 },
 "nbformat": 4,
 "nbformat_minor": 2
}
