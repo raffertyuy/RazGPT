{
 "cells": [
  {
   "cell_type": "markdown",
   "metadata": {},
   "source": [
    "## Environment Setup"
   ]
  },
  {
   "cell_type": "code",
   "execution_count": 1,
   "metadata": {},
   "outputs": [],
   "source": [
    "import os\n",
    "from dotenv import load_dotenv\n",
    "\n",
    "# Set environment variables in the .env file.\n",
    "load_dotenv()\n",
    "\n",
    "COMPLETION_MODEL = os.environ[\"OPENAI_COMPLETION_MODEL\"]\n",
    "COMPLETION_DEPLOYMENT = os.environ[\"OPENAI_COMPLETION_DEPLOYMENT\"]\n",
    "CHAT_MODEL = os.environ[\"OPENAI_CHAT_MODEL\"]\n",
    "CHAT_DEPLOYMENT = os.environ[\"OPENAI_CHAT_DEPLOYMENT\"]\n",
    "OPENAI_API_VERSION = os.environ[\"OPENAI_API_VERSION\"]\n",
    "\n",
    "REDIS_KEY = os.environ[\"REDIS_KEY\"]\n",
    "REDIS_HOST = os.environ[\"REDIS_HOST\"]\n",
    "\n",
    "redisConnString = 'rediss://default:{}@{}:6380/0'.format(REDIS_KEY,REDIS_HOST)\n",
    "sessionId = 'test-session-id'"
   ]
  },
  {
   "cell_type": "markdown",
   "metadata": {},
   "source": [
    "## Initiate Redis"
   ]
  },
  {
   "cell_type": "code",
   "execution_count": 2,
   "metadata": {},
   "outputs": [],
   "source": [
    "from langchain.memory import RedisChatMessageHistory\n",
    "\n",
    "history = RedisChatMessageHistory(\n",
    "    url=redisConnString,\n",
    "    session_id=sessionId,\n",
    "    ttl=300 # 5 minutes\n",
    ")\n",
    "\n",
    "history.clear()\n",
    "history.add_ai_message(\"Hello, I am an AI assistant.\")\n",
    "history.add_user_message(\"Hello, I'm Kazuya.\")\n",
    "history.add_ai_message(\"Hi Kazuya, how can I help you today?\")"
   ]
  },
  {
   "cell_type": "code",
   "execution_count": 3,
   "metadata": {},
   "outputs": [
    {
     "data": {
      "text/plain": [
       "[AIMessage(content='Hello, I am an AI assistant.', additional_kwargs={}, example=False),\n",
       " HumanMessage(content=\"Hello, I'm Kazuya.\", additional_kwargs={}, example=False),\n",
       " AIMessage(content='Hi Kazuya, how can I help you today?', additional_kwargs={}, example=False)]"
      ]
     },
     "execution_count": 3,
     "metadata": {},
     "output_type": "execute_result"
    }
   ],
   "source": [
    "# Test memory storage, try retrieving the history from Redis.\n",
    "retrievedHistory = RedisChatMessageHistory(\n",
    "    url=redisConnString,\n",
    "    session_id=sessionId,\n",
    "    ttl=300 # 5 minutes\n",
    ")\n",
    "\n",
    "retrievedHistory.messages"
   ]
  },
  {
   "cell_type": "markdown",
   "metadata": {},
   "source": [
    "## LangChain Redis Memory"
   ]
  },
  {
   "cell_type": "code",
   "execution_count": 4,
   "metadata": {},
   "outputs": [],
   "source": [
    "from langchain.llms import AzureOpenAI\n",
    "from langchain.chat_models import AzureChatOpenAI\n",
    "from langchain.chains import ConversationChain\n",
    "\n",
    "llm = AzureOpenAI(\n",
    "    model_name=COMPLETION_MODEL,\n",
    "    deployment_name=COMPLETION_DEPLOYMENT,\n",
    "    max_tokens=50,\n",
    "    temperature=0.3,\n",
    "    verbose=True\n",
    ")\n",
    "\n",
    "chat = AzureChatOpenAI(\n",
    "    deployment_name=CHAT_DEPLOYMENT,\n",
    "    openai_api_version=OPENAI_API_VERSION,\n",
    "    max_tokens=100,\n",
    "    temperature=0.3,\n",
    "    verbose=True\n",
    ")\n",
    "\n",
    "conversation = ConversationChain(\n",
    "    llm=chat,\n",
    "    verbose=True)"
   ]
  },
  {
   "cell_type": "markdown",
   "metadata": {},
   "source": [
    "> **WARNING: ConversationSummaryBufferMemory does not work well with persistent memory storage at this time.**\n",
    "> Convert this block to code when [this issue](https://github.com/langchain-ai/langchain/issues/3072) is fixed\n",
    "\n",
    "```python\n",
    "from langchain.memory import ConversationSummaryBufferMemory\n",
    "\n",
    "memory = ConversationSummaryBufferMemory(\n",
    "    llm=llm,\n",
    "    max_token_limit=50,\n",
    "    chat_memory=retrievedHistory\n",
    "    return_messages=False\n",
    ")\n",
    "\n",
    "conversation.memory = memory\n",
    "\n",
    "conversation.predict(input=\"Can you tell me about our health benefits?\")\n",
    "conversation.predict(input=\"Can I claim for a new pair of glasses?\")\n",
    "conversation.predict(input=\"How about skin moisturizers?\")\n",
    "```"
   ]
  },
  {
   "cell_type": "code",
   "execution_count": 5,
   "metadata": {},
   "outputs": [
    {
     "name": "stdout",
     "output_type": "stream",
     "text": [
      "\n",
      "\n",
      "\u001b[1m> Entering new ConversationChain chain...\u001b[0m\n",
      "Prompt after formatting:\n",
      "\u001b[32;1m\u001b[1;3mThe following is a friendly conversation between a human and an AI. The AI is talkative and provides lots of specific details from its context. If the AI does not know the answer to a question, it truthfully says it does not know.\n",
      "\n",
      "Current conversation:\n",
      "AI: Hello, I am an AI assistant.\n",
      "Human: Hello, I'm Kazuya.\n",
      "AI: Hi Kazuya, how can I help you today?\n",
      "Human: Can you tell me about our health benefits?\n",
      "AI:\u001b[0m\n",
      "\n",
      "\u001b[1m> Finished chain.\u001b[0m\n",
      "\n",
      "\n",
      "\u001b[1m> Entering new ConversationChain chain...\u001b[0m\n",
      "Prompt after formatting:\n",
      "\u001b[32;1m\u001b[1;3mThe following is a friendly conversation between a human and an AI. The AI is talkative and provides lots of specific details from its context. If the AI does not know the answer to a question, it truthfully says it does not know.\n",
      "\n",
      "Current conversation:\n",
      "Human: Hello, I'm Kazuya.\n",
      "AI: Hi Kazuya, how can I help you today?\n",
      "Human: Can you tell me about our health benefits?\n",
      "AI: Sure, Kazuya. Our health benefits include medical, dental, and vision coverage. We also offer a wellness program that includes gym memberships, health coaching, and mental health resources. Our medical coverage includes preventative care, prescription drug coverage, and specialist visits. Our dental coverage includes cleanings, fillings, and major procedures like root canals and crowns. Our vision coverage includes eye exams, glasses, and contacts. Is there anything specific you would like me to look up or clarify?\n",
      "Human: Can I claim for a new pair of glasses?\n",
      "AI:\u001b[0m\n",
      "\n",
      "\u001b[1m> Finished chain.\u001b[0m\n",
      "\n",
      "\n",
      "\u001b[1m> Entering new ConversationChain chain...\u001b[0m\n",
      "Prompt after formatting:\n",
      "\u001b[32;1m\u001b[1;3mThe following is a friendly conversation between a human and an AI. The AI is talkative and provides lots of specific details from its context. If the AI does not know the answer to a question, it truthfully says it does not know.\n",
      "\n",
      "Current conversation:\n",
      "Human: Can you tell me about our health benefits?\n",
      "AI: Sure, Kazuya. Our health benefits include medical, dental, and vision coverage. We also offer a wellness program that includes gym memberships, health coaching, and mental health resources. Our medical coverage includes preventative care, prescription drug coverage, and specialist visits. Our dental coverage includes cleanings, fillings, and major procedures like root canals and crowns. Our vision coverage includes eye exams, glasses, and contacts. Is there anything specific you would like me to look up or clarify?\n",
      "Human: Can I claim for a new pair of glasses?\n",
      "AI: Yes, Kazuya. You can claim for a new pair of glasses under our vision coverage. However, there may be certain limitations or requirements depending on your specific plan. I can look up more information for you if you provide me with your plan details.\n",
      "Human: How about skin moisturizers?\n",
      "AI:\u001b[0m\n",
      "\n",
      "\u001b[1m> Finished chain.\u001b[0m\n"
     ]
    },
    {
     "data": {
      "text/plain": [
       "\"I'm sorry, Kazuya, but I do not have information on whether skin moisturizers are covered under our health benefits. Would you like me to look up more information on this topic?\""
      ]
     },
     "execution_count": 5,
     "metadata": {},
     "output_type": "execute_result"
    }
   ],
   "source": [
    "from langchain.memory import ConversationBufferWindowMemory\n",
    "\n",
    "memory = ConversationBufferWindowMemory(\n",
    "    k = 2,\n",
    "    chat_memory=retrievedHistory\n",
    ")\n",
    "\n",
    "conversation.memory = memory\n",
    "conversation.predict(input=\"Can you tell me about our health benefits?\")\n",
    "conversation.predict(input=\"Can I claim for a new pair of glasses?\")\n",
    "conversation.predict(input=\"How about skin moisturizers?\")"
   ]
  },
  {
   "cell_type": "markdown",
   "metadata": {},
   "source": [
    "## Check Redis"
   ]
  },
  {
   "cell_type": "code",
   "execution_count": 6,
   "metadata": {},
   "outputs": [
    {
     "data": {
      "text/plain": [
       "[AIMessage(content='Hello, I am an AI assistant.', additional_kwargs={}, example=False),\n",
       " HumanMessage(content=\"Hello, I'm Kazuya.\", additional_kwargs={}, example=False),\n",
       " AIMessage(content='Hi Kazuya, how can I help you today?', additional_kwargs={}, example=False),\n",
       " HumanMessage(content='Can you tell me about our health benefits?', additional_kwargs={}, example=False),\n",
       " AIMessage(content='Sure, Kazuya. Our health benefits include medical, dental, and vision coverage. We also offer a wellness program that includes gym memberships, health coaching, and mental health resources. Our medical coverage includes preventative care, prescription drug coverage, and specialist visits. Our dental coverage includes cleanings, fillings, and major procedures like root canals and crowns. Our vision coverage includes eye exams, glasses, and contacts. Is there anything specific you would like me to look up or clarify?', additional_kwargs={}, example=False),\n",
       " HumanMessage(content='Can I claim for a new pair of glasses?', additional_kwargs={}, example=False),\n",
       " AIMessage(content='Yes, Kazuya. You can claim for a new pair of glasses under our vision coverage. However, there may be certain limitations or requirements depending on your specific plan. I can look up more information for you if you provide me with your plan details.', additional_kwargs={}, example=False),\n",
       " HumanMessage(content='How about skin moisturizers?', additional_kwargs={}, example=False),\n",
       " AIMessage(content=\"I'm sorry, Kazuya, but I do not have information on whether skin moisturizers are covered under our health benefits. Would you like me to look up more information on this topic?\", additional_kwargs={}, example=False)]"
      ]
     },
     "execution_count": 6,
     "metadata": {},
     "output_type": "execute_result"
    }
   ],
   "source": [
    "# Test memory storage, try retrieving the history from Redis.\n",
    "latestHistory = RedisChatMessageHistory(\n",
    "    url=redisConnString,\n",
    "    session_id=sessionId,\n",
    "    ttl=300 # 5 minutes\n",
    ")\n",
    "\n",
    "latestHistory.messages"
   ]
  }
 ],
 "metadata": {
  "kernelspec": {
   "display_name": "Python 3",
   "language": "python",
   "name": "python3"
  },
  "language_info": {
   "codemirror_mode": {
    "name": "ipython",
    "version": 3
   },
   "file_extension": ".py",
   "mimetype": "text/x-python",
   "name": "python",
   "nbconvert_exporter": "python",
   "pygments_lexer": "ipython3",
   "version": "3.11.4"
  },
  "orig_nbformat": 4
 },
 "nbformat": 4,
 "nbformat_minor": 2
}
