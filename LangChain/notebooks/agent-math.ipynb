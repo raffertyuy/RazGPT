{
 "cells": [
  {
   "cell_type": "markdown",
   "metadata": {},
   "source": [
    "> **This notebook uses langchain agents with a custom tool to solve a math problem.**\n",
    "> - **Thought:** Tools should be able to extract numerical data from the text input.\n",
    "> - **Observation:** Results are NOT accurate."
   ]
  },
  {
   "cell_type": "markdown",
   "metadata": {},
   "source": [
    "## Environment Setup"
   ]
  },
  {
   "cell_type": "code",
   "execution_count": 1,
   "metadata": {},
   "outputs": [],
   "source": [
    "import os\n",
    "from dotenv import load_dotenv\n",
    "\n",
    "# Set environment variables in the .env file.\n",
    "load_dotenv()\n",
    "\n",
    "COMPLETION_MODEL = os.environ[\"OPENAI_COMPLETION_MODEL\"]\n",
    "COMPLETION_DEPLOYMENT = os.environ[\"OPENAI_COMPLETION_DEPLOYMENT\"]\n",
    "CHAT_MODEL = os.environ[\"OPENAI_CHAT_MODEL\"]\n",
    "CHAT_DEPLOYMENT = os.environ[\"OPENAI_CHAT_DEPLOYMENT\"]\n",
    "OPENAI_API_VERSION = os.environ[\"OPENAI_API_VERSION\"]"
   ]
  },
  {
   "cell_type": "code",
   "execution_count": 2,
   "metadata": {},
   "outputs": [],
   "source": [
    "from langchain.llms import AzureOpenAI\n",
    "from langchain.chat_models import AzureChatOpenAI\n",
    "\n",
    "llm = AzureOpenAI(\n",
    "    model_name=COMPLETION_MODEL,\n",
    "    deployment_name=COMPLETION_DEPLOYMENT,\n",
    "    #temperature=0.3,\n",
    "    verbose=True\n",
    ")\n",
    "\n",
    "chat = AzureChatOpenAI(\n",
    "    deployment_name=CHAT_DEPLOYMENT,\n",
    "    openai_api_version=OPENAI_API_VERSION,\n",
    "    #temperature=0.3,\n",
    "    verbose=True\n",
    ")"
   ]
  },
  {
   "cell_type": "markdown",
   "metadata": {},
   "source": [
    "## Code"
   ]
  },
  {
   "cell_type": "code",
   "execution_count": 3,
   "metadata": {},
   "outputs": [],
   "source": [
    "prompt_template = \"\"\"You are an AI assistant that helps the person answer a question based on the data below.\n",
    "Answer the question below using the data from these records.\n",
    "Show your work step by step.\n",
    "\n",
    "# Data\n",
    "{data}\n",
    "\n",
    "# Conversation\n",
    "Question: {question}\n",
    "Answer:\n",
    "\"\"\""
   ]
  },
  {
   "cell_type": "code",
   "execution_count": 4,
   "metadata": {},
   "outputs": [],
   "source": [
    "data = \"\"\"Name,Gender,Age\n",
    "John,M,13\n",
    "Steve,M,25\n",
    "Sarah,F,18\n",
    "Jess,F,45\n",
    "Will,M,50\n",
    "\"\"\""
   ]
  },
  {
   "cell_type": "code",
   "execution_count": 18,
   "metadata": {},
   "outputs": [],
   "source": [
    "from langchain.tools import tool  \n",
    "\n",
    "@tool\n",
    "def compareValues(comparisonQuestion: str) -> bool:\n",
    "    '''\n",
    "        input string comparisonQuestion is a question in natural language about comparing two numerical values.\n",
    "        For example, a question could be:\n",
    "        \"Is 5 greater than 3?\"\n",
    "    '''\n",
    "\n",
    "    prompt = \"Respond with Yes or No. \" + comparisonQuestion\n",
    "    result = llm(prompt)\n",
    "    \n",
    "    return result"
   ]
  },
  {
   "cell_type": "code",
   "execution_count": 19,
   "metadata": {},
   "outputs": [
    {
     "name": "stdout",
     "output_type": "stream",
     "text": [
      "\n",
      "\n",
      "\u001b[1m> Entering new AgentExecutor chain...\u001b[0m\n",
      "\u001b[32;1m\u001b[1;3m I need to compare ages to see who is older than 30.\n",
      "Action: CompareValues\n",
      "Action Input: Is 18 greater than 30?\u001b[0m\n",
      "Observation: \u001b[33;1m\u001b[1;3m\n",
      "\n",
      "No\u001b[0m\n",
      "Thought:\u001b[32;1m\u001b[1;3m I need to check the next record.\n",
      "Action: CompareValues\n",
      "Action Input: Is 25 greater than 30?\u001b[0m\n",
      "Observation: \u001b[33;1m\u001b[1;3m\n",
      "\n",
      "No\u001b[0m\n",
      "Thought:\u001b[32;1m\u001b[1;3m I need to check the next record.\n",
      "Action: CompareValues\n",
      "Action Input: Is 45 greater than 30?\u001b[0m\n",
      "Observation: \u001b[33;1m\u001b[1;3m\n",
      "\n",
      "Yes\u001b[0m\n",
      "Thought:\u001b[32;1m\u001b[1;3m I need to check the next record.\n",
      "Action: CompareValues\n",
      "Action Input: Is 50 greater than 30?\u001b[0m\n",
      "Observation: \u001b[33;1m\u001b[1;3m\n",
      "\n",
      "Yes\u001b[0m\n",
      "Thought:\u001b[32;1m\u001b[1;3m I now know the final answer.\n",
      "Final Answer: John, Steve, Sarah, and Will are older than 30 years old.\u001b[0m\n",
      "\n",
      "\u001b[1m> Finished chain.\u001b[0m\n"
     ]
    },
    {
     "data": {
      "text/plain": [
       "'John, Steve, Sarah, and Will are older than 30 years old.'"
      ]
     },
     "execution_count": 19,
     "metadata": {},
     "output_type": "execute_result"
    }
   ],
   "source": [
    "from langchain.agents import initialize_agent, Tool\n",
    "from langchain.agents import AgentType\n",
    "from langchain import LLMMathChain\n",
    "\n",
    "#from langchain.agents import load_tools\n",
    "#tools = load_tools([\"llm-math\"], llm=llm)\n",
    "\n",
    "\n",
    "llm_math_chain = LLMMathChain.from_llm(llm=chat, verbose=True)\n",
    "tools = [\n",
    "    Tool(\n",
    "        name=\"Calculator\",\n",
    "        func=llm_math_chain.run,\n",
    "        description=\"Useful for when you need to answer questions using math.\"\n",
    "    ),\n",
    "    Tool(\n",
    "        name=\"CompareValues\",\n",
    "        func=compareValues,\n",
    "        description=\"Useful to comparing two numerical values. Question should be in the form of 'Is 10 greater than 20?', 'Is 10 less than 20?', or 'Is 10 equal to 20?'\"\n",
    "    )\n",
    "]\n",
    "\n",
    "agent = initialize_agent(tools, llm, agent=AgentType.ZERO_SHOT_REACT_DESCRIPTION, verbose=True)\n",
    "\n",
    "prompt = prompt_template.format(\n",
    "    data=data,\n",
    "    question=\"Who are older than 30 years old?\"\n",
    ")\n",
    "\n",
    "agent.run(prompt)"
   ]
  }
 ],
 "metadata": {
  "kernelspec": {
   "display_name": "Python 3",
   "language": "python",
   "name": "python3"
  },
  "language_info": {
   "codemirror_mode": {
    "name": "ipython",
    "version": 3
   },
   "file_extension": ".py",
   "mimetype": "text/x-python",
   "name": "python",
   "nbconvert_exporter": "python",
   "pygments_lexer": "ipython3",
   "version": "3.11.5"
  },
  "orig_nbformat": 4
 },
 "nbformat": 4,
 "nbformat_minor": 2
}
