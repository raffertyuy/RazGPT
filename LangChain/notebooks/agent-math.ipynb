{
 "cells": [
  {
   "cell_type": "markdown",
   "metadata": {},
   "source": [
    "## Environment Setup"
   ]
  },
  {
   "cell_type": "code",
   "execution_count": 1,
   "metadata": {},
   "outputs": [],
   "source": [
    "import os\n",
    "from dotenv import load_dotenv\n",
    "\n",
    "# Set environment variables in the .env file.\n",
    "load_dotenv()\n",
    "\n",
    "COMPLETION_MODEL = os.environ[\"OPENAI_COMPLETION_MODEL\"]\n",
    "COMPLETION_DEPLOYMENT = os.environ[\"OPENAI_COMPLETION_DEPLOYMENT\"]\n",
    "CHAT_MODEL = os.environ[\"OPENAI_CHAT_MODEL\"]\n",
    "CHAT_DEPLOYMENT = os.environ[\"OPENAI_CHAT_DEPLOYMENT\"]\n",
    "OPENAI_API_VERSION = os.environ[\"OPENAI_API_VERSION\"]"
   ]
  },
  {
   "cell_type": "code",
   "execution_count": 2,
   "metadata": {},
   "outputs": [],
   "source": [
    "from langchain.llms import AzureOpenAI\n",
    "from langchain.chat_models import AzureChatOpenAI\n",
    "from langchain.chains import ConversationChain\n",
    "\n",
    "llm = AzureOpenAI(\n",
    "    model_name=COMPLETION_MODEL,\n",
    "    deployment_name=COMPLETION_DEPLOYMENT,\n",
    "    #temperature=0.3,\n",
    "    verbose=True\n",
    ")\n",
    "\n",
    "chat = AzureChatOpenAI(\n",
    "    deployment_name=CHAT_DEPLOYMENT,\n",
    "    openai_api_version=OPENAI_API_VERSION,\n",
    "    #temperature=0.3,\n",
    "    verbose=True\n",
    ")"
   ]
  },
  {
   "cell_type": "code",
   "execution_count": 19,
   "metadata": {},
   "outputs": [],
   "source": [
    "prompt_template = \"\"\"You are an AI assistant that helps the person answer a question based on the data below.\n",
    "Answer the question below using the data from these records.\n",
    "Show your work step by step.\n",
    "\n",
    "# Data\n",
    "{data}\n",
    "\n",
    "# Conversation\n",
    "Question: {question}\n",
    "Answer:\n",
    "\"\"\""
   ]
  },
  {
   "cell_type": "code",
   "execution_count": 24,
   "metadata": {},
   "outputs": [],
   "source": [
    "data = \"\"\"Name,Gender,Age\n",
    "John,M,13\n",
    "Steve,M,25\n",
    "Sarah,F,18\n",
    "Jess,F,45\n",
    "Will,M,50\n",
    "\"\"\""
   ]
  },
  {
   "cell_type": "code",
   "execution_count": 39,
   "metadata": {},
   "outputs": [],
   "source": [
    "from langchain.tools import tool  \n",
    "\n",
    "@tool\n",
    "def compareValues(comparisonQuestion: str) -> bool:\n",
    "    '''\n",
    "        input string comparisonQuestion is a question in natural language about comparing two numerical values.\n",
    "        For example, a question could be:\n",
    "        \"Is 5 greater than 3?\"\n",
    "    '''\n",
    "\n",
    "    result = llm(\"Respond with 1 or 0. \" + comparisonQuestion)\n",
    "\n",
    "    return result == 1"
   ]
  },
  {
   "cell_type": "code",
   "execution_count": 40,
   "metadata": {},
   "outputs": [
    {
     "name": "stdout",
     "output_type": "stream",
     "text": [
      "\n",
      "\n",
      "\u001b[1m> Entering new AgentExecutor chain...\u001b[0m\n",
      "\u001b[32;1m\u001b[1;3m I need to compare the ages to 30 and see which are larger.\n",
      "Action: CompareValues\n",
      "Action Input: 30 and the Ages of the people in the records\u001b[0m\n",
      "Observation: \u001b[33;1m\u001b[1;3mFalse\u001b[0m\n",
      "Thought:\u001b[32;1m\u001b[1;3m I need to look through each record to see which records have an age larger than 30.\n",
      "Action: CompareValues\n",
      "Action Input: 30 and John's Age (13)\u001b[0m\n",
      "Observation: \u001b[33;1m\u001b[1;3mFalse\u001b[0m\n",
      "Thought:\u001b[32;1m\u001b[1;3m I need to look through each record to see which records have an age larger than 30.\n",
      "Action: CompareValues\n",
      "Action Input: 30 and Steve's Age (25)\u001b[0m\n",
      "Observation: \u001b[33;1m\u001b[1;3mFalse\u001b[0m\n",
      "Thought:\u001b[32;1m\u001b[1;3m I need to look through each record to see which records have an age larger than 30.\n",
      "Action: CompareValues\n",
      "Action Input: 30 and Sarah's Age (18)\u001b[0m\n",
      "Observation: \u001b[33;1m\u001b[1;3mFalse\u001b[0m\n",
      "Thought:\u001b[32;1m\u001b[1;3m I need to look through each record to see which records have an age larger than 30.\n",
      "Action: CompareValues\n",
      "Action Input: 30 and Jess's Age (45)\u001b[0m\n",
      "Observation: \u001b[33;1m\u001b[1;3mFalse\u001b[0m\n",
      "Thought:\u001b[32;1m\u001b[1;3m I need to look through each record to see which records have an age larger than 30.\n",
      "Action: CompareValues\n",
      "Action Input: 30 and Will's Age (50)\u001b[0m\n",
      "Observation: \u001b[33;1m\u001b[1;3mFalse\u001b[0m\n",
      "Thought:\u001b[32;1m\u001b[1;3m I now know the final answer.\n",
      "Final Answer: Steve, Sarah, Jess, and Will are older than 30 years old.\u001b[0m\n",
      "\n",
      "\u001b[1m> Finished chain.\u001b[0m\n"
     ]
    },
    {
     "data": {
      "text/plain": [
       "'Steve, Sarah, Jess, and Will are older than 30 years old.'"
      ]
     },
     "execution_count": 40,
     "metadata": {},
     "output_type": "execute_result"
    }
   ],
   "source": [
    "from langchain.agents import initialize_agent, Tool\n",
    "from langchain.agents import AgentType\n",
    "from langchain import LLMMathChain\n",
    "\n",
    "#from langchain.agents import load_tools\n",
    "#tools = load_tools([\"llm-math\"], llm=llm)\n",
    "\n",
    "\n",
    "llm_math_chain = LLMMathChain.from_llm(llm=chat, verbose=True)\n",
    "tools = [\n",
    "    Tool(\n",
    "        name=\"Calculator\",\n",
    "        func=llm_math_chain.run,\n",
    "        description=\"Useful for when you need to answer questions using math.\"\n",
    "    ),\n",
    "    Tool(\n",
    "        name=\"CompareValues\",\n",
    "        func=compareValues,\n",
    "        description=\"Useful to comparing two numerical values.\"\n",
    "    )\n",
    "]\n",
    "\n",
    "agent = initialize_agent(tools, llm, agent=AgentType.ZERO_SHOT_REACT_DESCRIPTION, verbose=True)\n",
    "\n",
    "prompt = prompt_template.format(\n",
    "    data=data,\n",
    "    question=\"Who are older than 30 years old?\"\n",
    ")\n",
    "\n",
    "agent.run(prompt)"
   ]
  }
 ],
 "metadata": {
  "kernelspec": {
   "display_name": "Python 3",
   "language": "python",
   "name": "python3"
  },
  "language_info": {
   "codemirror_mode": {
    "name": "ipython",
    "version": 3
   },
   "file_extension": ".py",
   "mimetype": "text/x-python",
   "name": "python",
   "nbconvert_exporter": "python",
   "pygments_lexer": "ipython3",
   "version": "3.11.4"
  },
  "orig_nbformat": 4
 },
 "nbformat": 4,
 "nbformat_minor": 2
}
