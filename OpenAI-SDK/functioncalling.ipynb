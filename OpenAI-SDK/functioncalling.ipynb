{
 "cells": [
  {
   "cell_type": "code",
   "execution_count": 1,
   "metadata": {},
   "outputs": [],
   "source": [
    "import os\n",
    "from dotenv import load_dotenv\n",
    "\n",
    "# Set environment variables in the .env file.\n",
    "load_dotenv()\n",
    "\n",
    "OPENAI_API_TYPE = os.environ[\"OPENAI_API_TYPE\"]\n",
    "OPENAI_API_VERSION = os.environ[\"OPENAI_API_VERSION\"]\n",
    "OPENAI_API_BASE = os.environ[\"OPENAI_API_BASE\"]\n",
    "OPENAI_API_KEY = os.environ[\"OPENAI_API_KEY\"]"
   ]
  },
  {
   "cell_type": "code",
   "execution_count": 73,
   "metadata": {},
   "outputs": [],
   "source": [
    "import openai\n",
    "\n",
    "openai.api_type = OPENAI_API_TYPE\n",
    "openai.api_key = OPENAI_API_KEY\n",
    "\n",
    "openai.base_url = OPENAI_API_BASE\n",
    "openai.api_version = OPENAI_API_VERSION\n",
    "\n",
    "system_prompt = \"\"\"Assistant acts as a personal assistant for employees of RazType.\n",
    "- You are provided with a list of functions. If there is a relevant function, prioritize the using that function.\n",
    "- If a function is to be called, do not make assumptions on parameter inputs with the user. Ask the user for the parameters.\n",
    "\n",
    "Example:\n",
    "User: Can you help me generate a shortened URL for https://www.raztype.com?\n",
    "Assistant: What path would you like to use for the shortened URL?\"\"\"\n",
    "\n",
    "functions = [\n",
    "    {\n",
    "        \"name\": \"generate_shortened_url\",\n",
    "        \"description\": \"Generates a shortened URL from a long URL. Outputs the shortened URL based on the path input.\",\n",
    "        \"parameters\": {\n",
    "            \"type\": \"object\",\n",
    "            \"properties\": {\n",
    "                \"long_url\": {\n",
    "                    \"type\": \"string\",\n",
    "                    \"description\": \"The long URL to shorten.\"\n",
    "                },\n",
    "                \"short_path\": {\n",
    "                    \"type\": \"string\",\n",
    "                    \"description\": \"The path to use for the shortened URL.\"\n",
    "                }\n",
    "            },\n",
    "            \"required\": [\"long_url\", \"short_path\"]\n",
    "        }\n",
    "    },\n",
    "    {\n",
    "        \"name\": \"add_task\",\n",
    "        \"description\": \"Adds a task to the user's to-do list.\",\n",
    "        \"parameters\": {\n",
    "            \"type\": \"object\",\n",
    "            \"properties\": {\n",
    "                \"task\": {\n",
    "                    \"type\": \"string\",\n",
    "                    \"description\": \"The task to add to the to-do list.\"\n",
    "                }\n",
    "            },\n",
    "            \"required\": [\"task\"]\n",
    "        }\n",
    "    },\n",
    "    {\n",
    "        \"name\": \"send_kudos_email\",\n",
    "        \"description\": \"Sends an appreciation message to a colleague, where the colleague's manager is on the CC list.\",\n",
    "        \"parameters\": {\n",
    "            \"type\": \"object\",\n",
    "            \"properties\": {\n",
    "                \"colleague_email\": {\n",
    "                    \"type\": \"string\",\n",
    "                    \"description\": \"The e-mail address of the colleague.\"\n",
    "                },\n",
    "                \"kudos_message\": {\n",
    "                    \"type\": \"string\",\n",
    "                    \"description\": \"The appreciation message.\"\n",
    "                }\n",
    "            },\n",
    "            \"required\": [\"colleague_email\", \"kudos_message\"]\n",
    "        }\n",
    "    }\n",
    "]"
   ]
  },
  {
   "cell_type": "code",
   "execution_count": 74,
   "metadata": {},
   "outputs": [
    {
     "name": "stdout",
     "output_type": "stream",
     "text": [
      "{\n",
      "  \"role\": \"assistant\",\n",
      "  \"content\": \"The link to the Microsoft website is https://www.microsoft.com.\"\n",
      "}\n"
     ]
    }
   ],
   "source": [
    "response = openai.ChatCompletion.create(\n",
    "    engine=\"gpt4\",\n",
    "    temperature=0,\n",
    "    functions=functions,\n",
    "    function_call=\"auto\",\n",
    "    messages=[\n",
    "        {\"role\": \"system\", \"content\": system_prompt},\n",
    "        {\"role\": \"user\", \"content\": \"What is the link to the Microsoft website?\"}\n",
    "    ]\n",
    ")\n",
    "\n",
    "print(response[\"choices\"][0][\"message\"])"
   ]
  },
  {
   "cell_type": "code",
   "execution_count": 76,
   "metadata": {},
   "outputs": [
    {
     "name": "stdout",
     "output_type": "stream",
     "text": [
      "{\n",
      "  \"role\": \"assistant\",\n",
      "  \"content\": \"What path would you like to use for the shortened URL?\"\n",
      "}\n"
     ]
    }
   ],
   "source": [
    "response = openai.ChatCompletion.create(\n",
    "    engine=\"gpt4\",\n",
    "    temperature=0,\n",
    "    functions=functions,\n",
    "    function_call=\"auto\",\n",
    "    messages=[\n",
    "        {\"role\": \"system\", \"content\": system_prompt},\n",
    "        {\"role\": \"user\", \"content\": \"What is the link to the Microsoft website?\"},\n",
    "        {\"role\": \"assistant\", \"content\": \"The link to the Microsoft website is: https://www.microsoft.com/\"},\n",
    "        {\"role\": \"user\", \"content\": \"Can you help me generate a shortened URL for the Microsoft website?\"}\n",
    "    ]\n",
    ")\n",
    "\n",
    "print(response[\"choices\"][0][\"message\"])"
   ]
  },
  {
   "cell_type": "code",
   "execution_count": 77,
   "metadata": {},
   "outputs": [
    {
     "name": "stdout",
     "output_type": "stream",
     "text": [
      "{\n",
      "  \"role\": \"assistant\",\n",
      "  \"function_call\": {\n",
      "    \"name\": \"generate_shortened_url\",\n",
      "    \"arguments\": \"{\\n  \\\"long_url\\\": \\\"https://www.microsoft.com/\\\",\\n  \\\"short_path\\\": \\\"ms\\\"\\n}\"\n",
      "  }\n",
      "}\n"
     ]
    }
   ],
   "source": [
    "response = openai.ChatCompletion.create(\n",
    "    engine=\"gpt4\",\n",
    "    temperature=0,\n",
    "    functions=functions,\n",
    "    function_call=\"auto\",\n",
    "    messages=[\n",
    "        {\"role\": \"system\", \"content\": system_prompt},\n",
    "        {\"role\": \"user\", \"content\": \"What is the link to the Microsoft website?\"},\n",
    "        {\"role\": \"assistant\", \"content\": \"The link to the Microsoft website is: https://www.microsoft.com/\"},\n",
    "        {\"role\": \"user\", \"content\": \"Can you help me generate a shortened URL for the Microsoft website?\"},\n",
    "        {\"role\": \"assistant\", \"content\": \"Sure! I can help you with that. What path would you like to use for the shortened URL?\"},\n",
    "        {\"role\": \"user\", \"content\": \"ms\"}\n",
    "    ]\n",
    ")\n",
    "\n",
    "print(response[\"choices\"][0][\"message\"])"
   ]
  },
  {
   "cell_type": "code",
   "execution_count": 78,
   "metadata": {},
   "outputs": [
    {
     "name": "stdout",
     "output_type": "stream",
     "text": [
      "{\n",
      "  \"role\": \"assistant\",\n",
      "  \"content\": \"I can assist you with the following functions:\\n\\n1. `generate_shortened_url`: This function generates a shortened URL from a long URL. You need to provide the long URL and the path you want to use for the shortened URL.\\n\\n2. `add_task`: This function adds a task to your to-do list. You just need to provide the task you want to add.\\n\\n3. `send_kudos_email`: This function sends an appreciation message to a colleague, where the colleague's manager is on the CC list. You need to provide the email address of your colleague and the appreciation message you want to send.\"\n",
      "}\n"
     ]
    }
   ],
   "source": [
    "response = openai.ChatCompletion.create(\n",
    "    engine=\"gpt4\",\n",
    "    temperature=0,\n",
    "    functions=functions,\n",
    "    function_call=\"auto\",\n",
    "    messages=[\n",
    "        {\"role\": \"system\", \"content\": system_prompt},\n",
    "        {\"role\": \"user\", \"content\": \"What functions can you help me with?\"}\n",
    "    ]\n",
    ")\n",
    "\n",
    "print(response[\"choices\"][0][\"message\"])"
   ]
  },
  {
   "cell_type": "code",
   "execution_count": 85,
   "metadata": {},
   "outputs": [
    {
     "name": "stdout",
     "output_type": "stream",
     "text": [
      "{\n",
      "  \"role\": \"assistant\",\n",
      "  \"function_call\": {\n",
      "    \"name\": \"generate_shortened_url\",\n",
      "    \"arguments\": \"{\\n  \\\"long_url\\\": \\\"https://www.microsoft.com/\\\",\\n  \\\"short_path\\\": \\\"ms\\\"\\n}\"\n",
      "  }\n",
      "}\n"
     ]
    }
   ],
   "source": [
    "# Finding: only suggests ONE function to call\n",
    "response = openai.ChatCompletion.create(\n",
    "    engine=\"gpt4\",\n",
    "    temperature=0,\n",
    "    functions=functions,\n",
    "    function_call=\"auto\",\n",
    "    messages=[\n",
    "        {\"role\": \"system\", \"content\": system_prompt},\n",
    "        {\"role\": \"user\", \"content\": \"What is the link to the Microsoft website?\"},\n",
    "        {\"role\": \"assistant\", \"content\": \"The link to the Microsoft website is: https://www.microsoft.com/\"},\n",
    "        {\"role\": \"user\", \"content\": \"Can you help me generate a shortened URL named 'ms' and send a kudos to bob@contoso.com?\"}\n",
    "    ]\n",
    ")\n",
    "\n",
    "print(response[\"choices\"][0][\"message\"])"
   ]
  }
 ],
 "metadata": {
  "kernelspec": {
   "display_name": "Python 3",
   "language": "python",
   "name": "python3"
  },
  "language_info": {
   "codemirror_mode": {
    "name": "ipython",
    "version": 3
   },
   "file_extension": ".py",
   "mimetype": "text/x-python",
   "name": "python",
   "nbconvert_exporter": "python",
   "pygments_lexer": "ipython3",
   "version": "3.11.5"
  },
  "orig_nbformat": 4
 },
 "nbformat": 4,
 "nbformat_minor": 2
}
